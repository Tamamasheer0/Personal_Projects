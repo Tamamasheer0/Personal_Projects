{
 "cells": [
  {
   "cell_type": "code",
   "execution_count": 1,
   "metadata": {},
   "outputs": [],
   "source": [
    "import numpy as np\n",
    "import pandas as pd\n",
    "import random\n",
    "import string"
   ]
  },
  {
   "cell_type": "code",
   "execution_count": 2,
   "metadata": {},
   "outputs": [],
   "source": [
    "def generate_data_set(num_rows, **kwargs):\n",
    "    \n",
    "    def _genID(l, n, chars=string.ascii_uppercase):\n",
    "        _idList = []\n",
    "        _counter = 0\n",
    "        while _counter < n:\n",
    "            _id = ''.join(random.choice(chars) for _i in range(l))\n",
    "            _idList.append(_id)\n",
    "            _counter += 1\n",
    "        return _idList[:]\n",
    "            \n",
    "    _dataSet = {}\n",
    "    for _colHeader, _dataType in kwargs.items():\n",
    "        if _dataType is bool:\n",
    "            _genData = np.random.randint(low=0, high=1, size=num_rows)\n",
    "        \n",
    "        elif _dataType is 'datetime':\n",
    "            pass\n",
    "        \n",
    "        elif _dataType is int:\n",
    "            _genData = np.random.randint(low=10000000, high=99999999, size=num_rows)\n",
    "            \n",
    "        elif _dataType is float:\n",
    "            _genData = np.random.uniform(size=num_rows)\n",
    "            \n",
    "        else:\n",
    "            _genData = _genID(l=8, n=num_rows)\n",
    "            \n",
    "            \n",
    "        _dataSet[_colHeader] = _genData[:]\n",
    "    \n",
    "    _df = pd.DataFrame(_dataSet)\n",
    "    return _df"
   ]
  },
  {
   "cell_type": "code",
   "execution_count": 3,
   "metadata": {},
   "outputs": [],
   "source": [
    "data_req = {\n",
    "    'Account#': int,\n",
    "    'Gross_TWR': float\n",
    "}"
   ]
  },
  {
   "cell_type": "code",
   "execution_count": 4,
   "metadata": {},
   "outputs": [],
   "source": [
    "test_df01 = generate_data_set(40000, **data_req)\n",
    "test_df02 = generate_data_set(38981, **data_req)\n",
    "test_df03 = generate_data_set(41288, **data_req)\n",
    "test_df04 = generate_data_set(38288, **data_req)\n",
    "test_df05 = generate_data_set(40219, **data_req)\n",
    "test_df06 = generate_data_set(21288, **data_req)\n",
    "test_df07 = generate_data_set(36214, **data_req)\n",
    "test_df08 = generate_data_set(51181, **data_req)\n",
    "test_df09 = generate_data_set(39288, **data_req)\n",
    "test_df10 = generate_data_set(40280, **data_req)\n",
    "test_df11 = generate_data_set(38288, **data_req)\n",
    "test_df12 = generate_data_set(44281, **data_req)\n"
   ]
  },
  {
   "cell_type": "code",
   "execution_count": null,
   "metadata": {},
   "outputs": [],
   "source": [
    "test_df01.head()\n",
    "test_df05.head()\n",
    "test_df10.head()"
   ]
  },
  {
   "cell_type": "code",
   "execution_count": 5,
   "metadata": {},
   "outputs": [],
   "source": [
    "test_df01.to_csv('2018-01_ClientData.csv', index=False)\n",
    "test_df02.to_csv('2018-02_ClientData.csv', index=False)\n",
    "test_df03.to_csv('2018-03_ClientData.csv', index=False)\n",
    "test_df04.to_csv('2018-04_ClientData.csv', index=False)\n",
    "test_df05.to_csv('2018-05_ClientData.csv', index=False)\n",
    "test_df06.to_csv('2018-06_ClientData.csv', index=False)\n",
    "test_df07.to_csv('2018-07_ClientData.csv', index=False)\n",
    "test_df08.to_csv('2018-08_ClientData.csv', index=False)\n",
    "test_df09.to_csv('2018-09_ClientData.csv', index=False)\n",
    "test_df10.to_csv('2018-10_ClientData.csv', index=False)\n",
    "test_df11.to_csv('2018-11_ClientData.csv', index=False)\n",
    "test_df12.to_csv('2018-12_ClientData.csv', index=False)"
   ]
  },
  {
   "cell_type": "code",
   "execution_count": null,
   "metadata": {},
   "outputs": [],
   "source": []
  }
 ],
 "metadata": {
  "kernelspec": {
   "display_name": "Python 3",
   "language": "python",
   "name": "python3"
  },
  "language_info": {
   "codemirror_mode": {
    "name": "ipython",
    "version": 3
   },
   "file_extension": ".py",
   "mimetype": "text/x-python",
   "name": "python",
   "nbconvert_exporter": "python",
   "pygments_lexer": "ipython3",
   "version": "3.7.3"
  }
 },
 "nbformat": 4,
 "nbformat_minor": 2
}
