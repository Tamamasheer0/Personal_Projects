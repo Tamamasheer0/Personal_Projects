{
 "cells": [
  {
   "cell_type": "code",
   "execution_count": null,
   "metadata": {},
   "outputs": [],
   "source": [
    "# Import Dependencies\n",
    "from bs4 import BeautifulSoup as bs\n",
    "import requests as req\n",
    "import pandas as pd\n",
    "import json"
   ]
  },
  {
   "cell_type": "code",
   "execution_count": 3,
   "metadata": {},
   "outputs": [],
   "source": [
    "# Web Scraping Function That Returns Desired Web Links For Each Team (<span>)\n",
    "# [Function] Params: <String> Link Description as Shown on Website\n",
    "          # Returns: <Dictionary> Team Name: Description Link\n",
    "        \n",
    "def espn_mlb_team_links(link_desc):\n",
    "    _base_url = 'http://www.espn.com'\n",
    "    _htmldoc = req.get(_base_url + '/mlb/teams').text\n",
    "    _soup = bs(_htmldoc, 'html.parser')\n",
    "    _span_tags = _soup.find_all('span', class_='TeamLinks__Link n9 nowrap')\n",
    "\n",
    "    _team_urls = {}\n",
    "    for _span in _span_tags:\n",
    "        _link = _span.a['href'].strip()\n",
    "        _info = _link.split('/')\n",
    "        \n",
    "        if f'{link_desc.strip()}' in _info:\n",
    "            _team = _info[-1].strip().title()\n",
    "            _team_url = _base_url + _link\n",
    "            _team_urls[_team] = _team_url\n",
    "            print(_team, '\\n', _team_url)\n",
    "    return _team_urls"
   ]
  },
  {
   "cell_type": "code",
   "execution_count": 1,
   "metadata": {},
   "outputs": [],
   "source": [
    "# Web Scraping Function That Returns Basic Player Info & Links to Personal Page on ESPN (<span>)\n",
    "# [Function] Params: <Dictionary> Team Roster\n",
    "                    #Key: Team Name\n",
    "                    #Value: Link to Team Roster\n",
    "          # Returns: <Dictionary> Player Gen Info & Personal Page Links(ESPN)\n",
    "        \n",
    "def team_player_links(roster):\n",
    "    _player_links = {}\n",
    "    for _team, _url in roster.items():\n",
    "        _htmldoc = req.get(_url).text\n",
    "        _soup = bs(_htmldoc, 'html.parser')\n",
    "        _span_tags = _soup.find_all('span', class_='Table2__td--headshot')\n",
    "        \n",
    "        for _span in _span_tags:\n",
    "            try:\n",
    "                _link = _span.a['href']\n",
    "                _info = _link.split('/')\n",
    "            \n",
    "                if 'player' in _info:\n",
    "                    _pID = _info[-1]\n",
    "                    _pName = _span.a.find('figure')['title'].strip().title()\n",
    "                    _t = _url.split('/').index('name') + 1\n",
    "                    _tID = _url.split('/')[_t].upper()\n",
    "                    \n",
    "                    if _pID not in _player_links:\n",
    "                        _player_links[_pID] = {\n",
    "                            'id': _pID,\n",
    "                            'name': _pName,\n",
    "                            'team': _team,\n",
    "                            'tid': _tID,\n",
    "                            'link': _link\n",
    "                        }\n",
    "                        print(f'ID: {_pID}, Name: {_pName}, Team: {_team}\\n\\tLink: {_link}')\n",
    " \n",
    "            except TypeError:\n",
    "                print('\\n<Skip> No Player Link Found\\n')\n",
    "            \n",
    "    return _player_links"
   ]
  },
  {
   "cell_type": "code",
   "execution_count": 2,
   "metadata": {},
   "outputs": [],
   "source": [
    "# Web Scraping Function That Extracts Personal Player Information From ESPN (<li>)\n",
    "\n",
    "def get_player_info(p_link):\n",
    "    _htmldoc = req.get(p_link).text\n",
    "    _soup = bs(_htmldoc, 'html.parser')\n",
    "    _li_tags = _soup.find_all('li')\n",
    "    try:\n",
    "        _num = _li_tags[0].text.split(' ')[0][1:]\n",
    "        _pos = _li_tags[0].text.split(' ')[1]\n",
    "        _thr = _li_tags[1].text.split(',')[0][-1]\n",
    "        _bat = _li_tags[1].text.split(',')[1][-1]\n",
    "        _team = _li_tags[2].text\n",
    "        _bday = _li_tags[3].text[10:].split('(')[0].strip()\n",
    "        _age = _li_tags[3].text[10:].split('(')[1].split(':')[1][:-1].strip()\n",
    "        _city = _li_tags[4].text[10:].split(',')[0].strip()\n",
    "        _exp = _li_tags[5].text[10:]\n",
    "        _col = _li_tags[6].text[7:]\n",
    "        _hght = _li_tags[7].text.split(',')[0][5:].strip()\n",
    "        _wght = _li_tags[7].text.split(',')[1].strip()\n",
    "        \n",
    "    except IndexError:\n",
    "        return {\n",
    "            'pid': None,\n",
    "            'fname': None,\n",
    "            'lname': None,\n",
    "            'age': 0,\n",
    "            'height': None,\n",
    "            'weight': None,\n",
    "            'birthday': None,\n",
    "            'city': None,\n",
    "            'number': -1,\n",
    "            'position': None,\n",
    "            'exp': None,\n",
    "            'team': None,\n",
    "            'tid': None,\n",
    "            'throw': None,\n",
    "            'bat': None,\n",
    "            'college': None,\n",
    "        }\n",
    "    return {\n",
    "        'pid': None,\n",
    "        'fname': None,\n",
    "        'lname': None,\n",
    "        'age': int(_age),\n",
    "        'height': _hght,\n",
    "        'weight': _wght,\n",
    "        'birthday': _bday,\n",
    "        'city': _city,\n",
    "        'number': int(_num),\n",
    "        'position': _pos,\n",
    "        'exp': _exp,\n",
    "        'team': _team,\n",
    "        'tid': None,\n",
    "        'throw': _thr,\n",
    "        'bat': _bat,\n",
    "        'college': _col,\n",
    "    }"
   ]
  },
  {
   "cell_type": "code",
   "execution_count": null,
   "metadata": {},
   "outputs": [],
   "source": [
    "def get_player_season_stats(p_name, p_link):\n",
    "    _pName = p_name.replace(' ', '-').lower()\n",
    "    _modLink = p_link.split('/')\n",
    "    if 'player' in _modLink:\n",
    "        _insIndex = _modLink.index('player') + 1\n",
    "        _modLink.insert(_insIndex, 'stats')\n",
    "        _modLink.append(_pName)\n",
    "        _statsLink = '/'.join(modLink)\n",
    "        \n",
    "        pStats = pd.read_html(_statsLink)\n",
    "        _sumStats = pStats[3]\n",
    "        _colHead = _sumStats.iloc[1]\n",
    "        _sumStats.columns = _colHead\n",
    "        \n",
    "        \n",
    "        \n",
    "    \n",
    "    "
   ]
  },
  {
   "cell_type": "code",
   "execution_count": null,
   "metadata": {},
   "outputs": [],
   "source": [
    "# Return List of All Team Roster Links\n",
    "rosters = espn_mlb_team_links('roster')"
   ]
  },
  {
   "cell_type": "code",
   "execution_count": null,
   "metadata": {
    "scrolled": false
   },
   "outputs": [],
   "source": [
    "# Return Dictionary Containing Player Gen Info & Link to Personal Page (ESPN)\n",
    "players = team_player_links(rosters)"
   ]
  },
  {
   "cell_type": "code",
   "execution_count": null,
   "metadata": {},
   "outputs": [],
   "source": [
    "# Iterate Through Each Player's Personal Page and Retrieve Detailed Player Info\n",
    "mlb_player_data = []\n",
    "for playerID, playerInfo in players.items():\n",
    "    _pData = get_player_info(playerInfo['link'])\n",
    "    _pData['pid'] = playerID\n",
    "    _pData['fname'] = playerInfo['name'].split(' ')[0].strip()\n",
    "    _pData['lname'] = playerInfo['name'].split(' ')[1].strip()\n",
    "    _pData['tid'] = playerInfo['tid']\n",
    "    mlb_player_data.append(_pData)\n",
    "    print(json.dumps(_pData, indent=4, sort_keys=False), '\\n')"
   ]
  },
  {
   "cell_type": "code",
   "execution_count": null,
   "metadata": {},
   "outputs": [],
   "source": [
    "# Convert <Dictionary> 'mlb_player_data' to DataFrame\n",
    "col_order = [\n",
    "    'pid',\n",
    "    'fname',\n",
    "    'lname',\n",
    "    'age',\n",
    "    'height',\n",
    "    'weight',\n",
    "    'birthday',\n",
    "    'city',\n",
    "    'number',\n",
    "    'position',\n",
    "    'exp',\n",
    "    'team',\n",
    "    'throw',\n",
    "    'bat',\n",
    "    'college'\n",
    "]\n",
    "mlb_players_df = pd.DataFrame(mlb_player_data)[col_order]\n",
    "mlb_players_df.head()"
   ]
  },
  {
   "cell_type": "code",
   "execution_count": null,
   "metadata": {},
   "outputs": [],
   "source": [
    "# Export MLB Player DataFrame to CSV w/ Ordered Columns\n",
    "mlb_players_df.to_csv(r'2019-MLB_Player_Data.csv', index=False)"
   ]
  },
  {
   "cell_type": "code",
   "execution_count": null,
   "metadata": {},
   "outputs": [],
   "source": []
  },
  {
   "cell_type": "code",
   "execution_count": null,
   "metadata": {},
   "outputs": [],
   "source": []
  }
 ],
 "metadata": {
  "kernelspec": {
   "display_name": "Python 3",
   "language": "python",
   "name": "python3"
  },
  "language_info": {
   "codemirror_mode": {
    "name": "ipython",
    "version": 3
   },
   "file_extension": ".py",
   "mimetype": "text/x-python",
   "name": "python",
   "nbconvert_exporter": "python",
   "pygments_lexer": "ipython3",
   "version": "3.6.7"
  }
 },
 "nbformat": 4,
 "nbformat_minor": 2
}
