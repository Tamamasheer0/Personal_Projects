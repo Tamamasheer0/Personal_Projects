{
 "cells": [
  {
   "cell_type": "code",
   "execution_count": 1,
   "metadata": {},
   "outputs": [],
   "source": [
    "# Import Library Dependencies\n",
    "import pandas as pd\n",
    "import numpy as np\n",
    "import os"
   ]
  },
  {
   "cell_type": "code",
   "execution_count": null,
   "metadata": {},
   "outputs": [],
   "source": [
    "# Define Column Headers (Ordered)\n",
    "mstr_headers = [\n",
    "    'playerID',\n",
    "    'nameFirst',\n",
    "    'nameLast',\n",
    "    'birthYear',\n",
    "    'birthMonth',\n",
    "    'birthDay',\n",
    "    'birthCountry',\n",
    "    'birthState',\n",
    "    'birthCity',\n",
    "    'height',\n",
    "    'weight',\n",
    "    'college',\n",
    "    'bats',\n",
    "    'throws',\n",
    "    'debut'\n",
    "]"
   ]
  },
  {
   "cell_type": "code",
   "execution_count": null,
   "metadata": {},
   "outputs": [],
   "source": [
    "# Import Data From CSV into DataFrames\n",
    "mstr_df = pd.read_csv(r'./Resources/master.csv', encoding='ISO-8859-1')[mstr_headers]\n",
    "mstr_df.head()"
   ]
  },
  {
   "cell_type": "code",
   "execution_count": null,
   "metadata": {},
   "outputs": [],
   "source": [
    "# Preview Row Counts\n",
    "mstr_df.count()"
   ]
  },
  {
   "cell_type": "code",
   "execution_count": null,
   "metadata": {},
   "outputs": [],
   "source": [
    "# Drop All Rows Missing playerID\n",
    "reduced_df = mstr_df[mstr_df['playerID'].isnull()==False]\n",
    "reduced_df.count()"
   ]
  },
  {
   "cell_type": "code",
   "execution_count": null,
   "metadata": {},
   "outputs": [],
   "source": [
    "# Preview Data Types\n",
    "reduced_df.dtypes"
   ]
  },
  {
   "cell_type": "code",
   "execution_count": null,
   "metadata": {},
   "outputs": [],
   "source": [
    "# Concatenate 'birthYear', 'birthMonth', 'birthDay' >> 'birthDate'\n",
    "_fillna_cols = ['birthYear', 'birthMonth', 'birthDay']\n",
    "reduced_df[_fillna_cols] = reduced_df[_fillna_cols].fillna(value=1.0)\n",
    "reduced_df[_fillna_cols] = reduced_df[_fillna_cols].astype('datetime64')\n",
    "\n",
    "# Apply dt.Date(Y, M, D)\n",
    "\n",
    "reduced_df.count()"
   ]
  },
  {
   "cell_type": "code",
   "execution_count": null,
   "metadata": {},
   "outputs": [],
   "source": [
    "reduced_df.dtypes"
   ]
  },
  {
   "cell_type": "code",
   "execution_count": null,
   "metadata": {},
   "outputs": [],
   "source": [
    "reduced_df['birthYear'].iloc[0].year"
   ]
  },
  {
   "cell_type": "code",
   "execution_count": null,
   "metadata": {},
   "outputs": [],
   "source": [
    "%pwd"
   ]
  },
  {
   "cell_type": "code",
   "execution_count": null,
   "metadata": {},
   "outputs": [],
   "source": [
    "\n"
   ]
  }
 ],
 "metadata": {
  "kernelspec": {
   "display_name": "Python 3",
   "language": "python",
   "name": "python3"
  },
  "language_info": {
   "codemirror_mode": {
    "name": "ipython",
    "version": 3
   },
   "file_extension": ".py",
   "mimetype": "text/x-python",
   "name": "python",
   "nbconvert_exporter": "python",
   "pygments_lexer": "ipython3",
   "version": "3.6.7"
  }
 },
 "nbformat": 4,
 "nbformat_minor": 2
}
