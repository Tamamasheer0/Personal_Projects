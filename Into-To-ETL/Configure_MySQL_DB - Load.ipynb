{
 "cells": [
  {
   "cell_type": "code",
   "execution_count": 1,
   "metadata": {},
   "outputs": [],
   "source": [
    "from sqlalchemy import create_engine, ForeignKey, inspect, exc\n",
    "from sqlalchemy import Column, DateTime, Float, Integer, String\n",
    "from sqlalchemy.ext.declarative import declarative_base\n",
    "from sqlalchemy.orm import relationship\n",
    "\n",
    "from config import user, password"
   ]
  },
  {
   "cell_type": "code",
   "execution_count": 2,
   "metadata": {},
   "outputs": [],
   "source": [
    "Base = declarative_base()"
   ]
  },
  {
   "cell_type": "code",
   "execution_count": 3,
   "metadata": {},
   "outputs": [
    {
     "data": {
      "text/plain": [
       "immutabledict({'mlb_teams_2019': Table('mlb_teams_2019', MetaData(bind=None), Column('name', String(length=50), table=<mlb_teams_2019>, primary_key=True, nullable=False), Column('wins', Integer(), table=<mlb_teams_2019>, nullable=False), Column('loss', Integer(), table=<mlb_teams_2019>, nullable=False), Column('rank', Integer(), table=<mlb_teams_2019>, nullable=False), schema=None), 'mlb_players_2019': Table('mlb_players_2019', MetaData(bind=None), Column('pid', Integer(), table=<mlb_players_2019>, primary_key=True, nullable=False), Column('fname', String(length=50), table=<mlb_players_2019>, nullable=False), Column('lname', String(length=50), table=<mlb_players_2019>, nullable=False), Column('age', Integer(), table=<mlb_players_2019>), Column('height', String(length=10), table=<mlb_players_2019>), Column('weight', String(length=10), table=<mlb_players_2019>), Column('birthday', String(length=50), table=<mlb_players_2019>), Column('city', String(length=50), table=<mlb_players_2019>), Column('number', Integer(), table=<mlb_players_2019>), Column('position', String(length=25), table=<mlb_players_2019>), Column('exp', String(length=10), table=<mlb_players_2019>), Column('team', String(length=50), table=<mlb_players_2019>), Column('tid', String(length=5), table=<mlb_players_2019>), Column('throw', String(length=10), table=<mlb_players_2019>), Column('bat', String(length=10), table=<mlb_players_2019>), Column('college', String(length=50), table=<mlb_players_2019>), schema=None), 'player_stats_2019': Table('player_stats_2019', MetaData(bind=None), Column('id', Integer(), table=<player_stats_2019>, primary_key=True, nullable=False), Column('pid', Integer(), ForeignKey('mlb_players_2019.pid'), table=<player_stats_2019>), Column('rbi', Float(), table=<player_stats_2019>), Column('era', Float(), table=<player_stats_2019>), schema=None)})"
      ]
     },
     "execution_count": 3,
     "metadata": {},
     "output_type": "execute_result"
    }
   ],
   "source": [
    "class mlb_team(Base):\n",
    "    __tablename__ = 'mlb_teams_2019'\n",
    "    name = Column(String(50), primary_key=True)\n",
    "    wins = Column(Integer, nullable=False)\n",
    "    loss = Column(Integer, nullable=False)\n",
    "    rank = Column(Integer, nullable=False)\n",
    "\n",
    "class mlb_player(Base):\n",
    "    __tablename__ = 'mlb_players_2019'\n",
    "    pid = Column(Integer, primary_key=True)\n",
    "    fname = Column(String(50), nullable=False)\n",
    "    lname = Column(String(50), nullable=False)\n",
    "    age = Column(Integer)\n",
    "    height = Column(String(10))\n",
    "    weight = Column(String(10))\n",
    "    birthday = Column(String(50))\n",
    "    city = Column(String(50))\n",
    "    number = Column(Integer)\n",
    "    position = Column(String(25))\n",
    "    exp = Column(String(10))\n",
    "    team = Column(String(50))\n",
    "    tid = Column(String(5))\n",
    "    throw = Column(String(10))\n",
    "    bat = Column(String(10))\n",
    "    college = Column(String(50))\n",
    "\n",
    "class player_stats(Base):\n",
    "    __tablename__ = 'player_stats_2019'\n",
    "    id = Column(Integer, primary_key=True, autoincrement=True)\n",
    "    pid = Column(Integer, ForeignKey('mlb_players_2019.pid'))\n",
    "    rbi = Column(Float)\n",
    "    era = Column(Float)\n",
    "    \n",
    "Base.metadata.tables"
   ]
  },
  {
   "cell_type": "code",
   "execution_count": 4,
   "metadata": {},
   "outputs": [
    {
     "name": "stdout",
     "output_type": "stream",
     "text": [
      "\n",
      "<Created> MySQL Database: moneyball_db [Connection:Successful]\n"
     ]
    }
   ],
   "source": [
    "MySQL_DB_Connection = f'{user}:{password}@localhost/moneyball_db'\n",
    "try:\n",
    "    engine = create_engine(f'mysql://{MySQL_DB_Connection}', echo=False)\n",
    "    connection = engine.connect()\n",
    "    print(f'\\n<Connected> MySQL Datbase: moneyball_db')\n",
    "\n",
    "except exc.OperationalError:\n",
    "    MySQL_Base_Connection = f'{user}:{password}@localhost'\n",
    "    engine = create_engine(f'mysql://{MySQL_Base_Connection}', echo=False)\n",
    "    connection = engine.connect()\n",
    "    engine.execute('CREATE DATABASE IF NOT EXISTS moneyball_db;')\n",
    "    engine = create_engine(f'mysql://{MySQL_DB_Connection}', echo=False)\n",
    "    print(f'\\n<Created> MySQL Database: moneyball_db [Connection:Successful]')"
   ]
  },
  {
   "cell_type": "code",
   "execution_count": 5,
   "metadata": {},
   "outputs": [],
   "source": [
    "Base.metadata.create_all(engine)"
   ]
  },
  {
   "cell_type": "code",
   "execution_count": 6,
   "metadata": {},
   "outputs": [
    {
     "data": {
      "text/plain": [
       "['mlb_players_2019', 'mlb_teams_2019', 'player_stats_2019']"
      ]
     },
     "execution_count": 6,
     "metadata": {},
     "output_type": "execute_result"
    }
   ],
   "source": [
    "inspector = inspect(engine)\n",
    "inspector.get_table_names()"
   ]
  },
  {
   "cell_type": "code",
   "execution_count": 7,
   "metadata": {},
   "outputs": [
    {
     "data": {
      "text/plain": [
       "[{'name': 'pid',\n",
       "  'type': INTEGER(display_width=11),\n",
       "  'default': None,\n",
       "  'comment': None,\n",
       "  'nullable': False,\n",
       "  'autoincrement': True},\n",
       " {'name': 'fname',\n",
       "  'type': VARCHAR(length=50),\n",
       "  'default': None,\n",
       "  'comment': None,\n",
       "  'nullable': False},\n",
       " {'name': 'lname',\n",
       "  'type': VARCHAR(length=50),\n",
       "  'default': None,\n",
       "  'comment': None,\n",
       "  'nullable': False},\n",
       " {'name': 'age',\n",
       "  'type': INTEGER(display_width=11),\n",
       "  'default': None,\n",
       "  'comment': None,\n",
       "  'nullable': True,\n",
       "  'autoincrement': False},\n",
       " {'name': 'height',\n",
       "  'type': VARCHAR(length=10),\n",
       "  'default': None,\n",
       "  'comment': None,\n",
       "  'nullable': True},\n",
       " {'name': 'weight',\n",
       "  'type': VARCHAR(length=10),\n",
       "  'default': None,\n",
       "  'comment': None,\n",
       "  'nullable': True},\n",
       " {'name': 'birthday',\n",
       "  'type': VARCHAR(length=50),\n",
       "  'default': None,\n",
       "  'comment': None,\n",
       "  'nullable': True},\n",
       " {'name': 'city',\n",
       "  'type': VARCHAR(length=50),\n",
       "  'default': None,\n",
       "  'comment': None,\n",
       "  'nullable': True},\n",
       " {'name': 'number',\n",
       "  'type': INTEGER(display_width=11),\n",
       "  'default': None,\n",
       "  'comment': None,\n",
       "  'nullable': True,\n",
       "  'autoincrement': False},\n",
       " {'name': 'position',\n",
       "  'type': VARCHAR(length=25),\n",
       "  'default': None,\n",
       "  'comment': None,\n",
       "  'nullable': True},\n",
       " {'name': 'exp',\n",
       "  'type': VARCHAR(length=10),\n",
       "  'default': None,\n",
       "  'comment': None,\n",
       "  'nullable': True},\n",
       " {'name': 'team',\n",
       "  'type': VARCHAR(length=50),\n",
       "  'default': None,\n",
       "  'comment': None,\n",
       "  'nullable': True},\n",
       " {'name': 'tid',\n",
       "  'type': VARCHAR(length=5),\n",
       "  'default': None,\n",
       "  'comment': None,\n",
       "  'nullable': True},\n",
       " {'name': 'throw',\n",
       "  'type': VARCHAR(length=10),\n",
       "  'default': None,\n",
       "  'comment': None,\n",
       "  'nullable': True},\n",
       " {'name': 'bat',\n",
       "  'type': VARCHAR(length=10),\n",
       "  'default': None,\n",
       "  'comment': None,\n",
       "  'nullable': True},\n",
       " {'name': 'college',\n",
       "  'type': VARCHAR(length=50),\n",
       "  'default': None,\n",
       "  'comment': None,\n",
       "  'nullable': True}]"
      ]
     },
     "execution_count": 7,
     "metadata": {},
     "output_type": "execute_result"
    }
   ],
   "source": [
    "# MySQl Databawe - Table#1: mlb_teams_2019\n",
    "inspector.get_columns(inspector.get_table_names()[0])"
   ]
  },
  {
   "cell_type": "code",
   "execution_count": 8,
   "metadata": {},
   "outputs": [
    {
     "data": {
      "text/plain": [
       "[{'name': 'name',\n",
       "  'type': VARCHAR(length=50),\n",
       "  'default': None,\n",
       "  'comment': None,\n",
       "  'nullable': False},\n",
       " {'name': 'wins',\n",
       "  'type': INTEGER(display_width=11),\n",
       "  'default': None,\n",
       "  'comment': None,\n",
       "  'nullable': False,\n",
       "  'autoincrement': False},\n",
       " {'name': 'loss',\n",
       "  'type': INTEGER(display_width=11),\n",
       "  'default': None,\n",
       "  'comment': None,\n",
       "  'nullable': False,\n",
       "  'autoincrement': False},\n",
       " {'name': 'rank',\n",
       "  'type': INTEGER(display_width=11),\n",
       "  'default': None,\n",
       "  'comment': None,\n",
       "  'nullable': False,\n",
       "  'autoincrement': False}]"
      ]
     },
     "execution_count": 8,
     "metadata": {},
     "output_type": "execute_result"
    }
   ],
   "source": [
    "# MySQL Database - Table#2: mlb_players_2019\n",
    "inspector.get_columns(inspector.get_table_names()[1])"
   ]
  },
  {
   "cell_type": "code",
   "execution_count": null,
   "metadata": {},
   "outputs": [],
   "source": []
  }
 ],
 "metadata": {
  "kernelspec": {
   "display_name": "Python 3",
   "language": "python",
   "name": "python3"
  },
  "language_info": {
   "codemirror_mode": {
    "name": "ipython",
    "version": 3
   },
   "file_extension": ".py",
   "mimetype": "text/x-python",
   "name": "python",
   "nbconvert_exporter": "python",
   "pygments_lexer": "ipython3",
   "version": "3.6.7"
  }
 },
 "nbformat": 4,
 "nbformat_minor": 2
}
