{
 "cells": [
  {
   "cell_type": "code",
   "execution_count": null,
   "metadata": {},
   "outputs": [],
   "source": [
    "# Import Library Dependencies\n",
    "from sqlalchemy import create_engine, engine, inspect\n",
    "from config import user, password\n",
    "\n",
    "import datetime as dt\n",
    "import numpy as np\n",
    "import pandas as pd\n",
    "import os"
   ]
  },
  {
   "cell_type": "code",
   "execution_count": null,
   "metadata": {},
   "outputs": [],
   "source": [
    "# Establish CSV Data Path Reference\n",
    "csvStudentRecords = '2019-06-22-StudentMobility.csv'\n",
    "csvDistrictSchools = '2019-06-26-DistrictSchools.csv'\n",
    "\n",
    "csvUploads = {\n",
    "    'records':os.path.join('Datasets', csvStudentRecords),\n",
    "    'schools':os.path.join('Datasets', csvDistrictSchools)\n",
    "}"
   ]
  },
  {
   "cell_type": "code",
   "execution_count": null,
   "metadata": {},
   "outputs": [],
   "source": [
    "# Define & Rearrange Desired Column Headers\n",
    "import_headers = [\n",
    "    'NID',  # Student Id\n",
    "    'GR',   # Grade`\n",
    "    'SC',   # School Code\n",
    "    'PR',   # School Program\n",
    "    'ED',   # Entry Date\n",
    "    'LD',   # Leave Date\n",
    "    'ER'    # Exit Reason**\n",
    "]"
   ]
  },
  {
   "cell_type": "code",
   "execution_count": null,
   "metadata": {},
   "outputs": [],
   "source": [
    "# Read CSV Data Into DataFrame\n",
    "master_df = pd.read_csv(csvUploads['records'], low_memory=False)[import_headers]\n",
    "master_df.head(10)"
   ]
  },
  {
   "cell_type": "code",
   "execution_count": null,
   "metadata": {},
   "outputs": [],
   "source": [
    "# Rename Column Headers to Match Database Field Names\n",
    "update_headers = {\n",
    "    'NID': 'student_id',\n",
    "    'GR': 'grade_level',\n",
    "    'SC': 'school_id',\n",
    "    'PR': 'program_id',\n",
    "    'ED': 'entry_date',\n",
    "    'LD': 'leave_date',\n",
    "    'ER': 'exit_reason'\n",
    "}\n",
    "\n",
    "master_df = master_df.rename(columns=update_headers)\n",
    "master_df.head()"
   ]
  },
  {
   "cell_type": "code",
   "execution_count": null,
   "metadata": {},
   "outputs": [],
   "source": [
    "# Preview Dataset -- Check for Missing Data (Data Value Should Be Equal)\n",
    "master_df.count()"
   ]
  },
  {
   "cell_type": "code",
   "execution_count": null,
   "metadata": {},
   "outputs": [],
   "source": [
    "# Reduce/Truncate Dataset\n",
    "# Truncate Dataset to Records Containing an Exit Reason\n",
    "reduced_df = master_df.loc[master_df['exit_reason'].isnull()==False]\n",
    "\n",
    "# Fill Remaining Missing Data In Program_Id Column With String Values For Later Data Conversion\n",
    "reduced_df['program_id'] = reduced_df['program_id'].fillna('Gen')\n",
    "reduced_df.count()"
   ]
  },
  {
   "cell_type": "code",
   "execution_count": null,
   "metadata": {},
   "outputs": [],
   "source": [
    "# Specify Required Column Data Types\n",
    "fmt_dates = [\n",
    "    'entry_date', \n",
    "    'leave_date'\n",
    "]\n",
    "\n",
    "dtype = {\n",
    "    'student_id':int,\n",
    "    'grade_level':int,\n",
    "    'school_id':int,\n",
    "    'program_id':str,\n",
    "    'exit_reason':int\n",
    "}\n",
    "\n",
    "# Preview Current Column Data Types\n",
    "reduced_df.dtypes"
   ]
  },
  {
   "cell_type": "code",
   "execution_count": null,
   "metadata": {},
   "outputs": [],
   "source": [
    "# Data Conversion on DataFrame Colums to Match Those Required By MySQL Database\n",
    "converted_df = reduced_df.astype(dtype, errors='ignore')\n",
    "converted_df[fmt_dates] = converted_df[fmt_dates].apply(pd.to_datetime, errors='ignore')\n",
    "converted_df.dtypes"
   ]
  },
  {
   "cell_type": "code",
   "execution_count": null,
   "metadata": {},
   "outputs": [],
   "source": [
    "# Create DataFrames For Initial MySQL Database Upload\n",
    "# <Create> Students DataFrame Upload: \n",
    "students_df = pd.DataFrame()\n",
    "students_df['id'] = converted_df['student_id'].unique()\n",
    "students_df['fname'] = 'Protected'\n",
    "students_df['lname'] = 'Protected'\n",
    "students_df['updated_on'] = dt.datetime.today()\n",
    "students_df['updated_by'] = 'Admin_User1'\n",
    "\n",
    "students_df.head()"
   ]
  },
  {
   "cell_type": "code",
   "execution_count": null,
   "metadata": {},
   "outputs": [],
   "source": [
    "# <Create> Schools DataFrame Upload:\n",
    "school_headers = [\n",
    "    'id',\n",
    "    'name',\n",
    "    'address',\n",
    "    'city',\n",
    "    'state',\n",
    "    'zipcode',\n",
    "    'lat',\n",
    "    'lon'\n",
    "]\n",
    "schools_df = pd.read_csv(csvUploads['schools'])[school_headers]\n",
    "schools_df.head()"
   ]
  },
  {
   "cell_type": "code",
   "execution_count": null,
   "metadata": {},
   "outputs": [],
   "source": [
    "# <Create> Student Records DataFrame Upload\n",
    "record_headers = [\n",
    "    'student_id',\n",
    "    'school_id',\n",
    "    'program_id',\n",
    "    'grade_level',\n",
    "    'entry_date',\n",
    "    'leave_date',\n",
    "    'exit_reason'\n",
    "]\n",
    "\n",
    "records_df = converted_df[record_headers]\n",
    "records_df.head()"
   ]
  },
  {
   "cell_type": "code",
   "execution_count": null,
   "metadata": {},
   "outputs": [],
   "source": [
    "# <Create> School Programs DataFrame Upload\n",
    "programs_df = pd.DataFrame()\n",
    "programs_df['id'] = converted_df['program_id'].unique()\n",
    "programs_df['name'] = 'Protected'\n",
    "programs_df"
   ]
  },
  {
   "cell_type": "code",
   "execution_count": null,
   "metadata": {},
   "outputs": [],
   "source": [
    "# Upload Student Profile Data to 'students' Table in student_mobility database\n",
    "MySQL_DB_Connection = f'{user}:{password}@localhost/student_mobility'\n",
    "    \n",
    "engine = create_engine(f'mysql://{MySQL_DB_Connection}', echo=True)\n",
    "engine.table_names()"
   ]
  },
  {
   "cell_type": "code",
   "execution_count": null,
   "metadata": {},
   "outputs": [],
   "source": [
    "# [Upload #1] Upload Student Table Data\n",
    "students_df.to_sql(\n",
    "    name='students', \n",
    "    con=engine, \n",
    "    if_exists='append',\n",
    "    index=False\n",
    ")"
   ]
  },
  {
   "cell_type": "code",
   "execution_count": null,
   "metadata": {},
   "outputs": [],
   "source": [
    "# [Upload #2] Upload School Table Data\n",
    "schools_df.to_sql(\n",
    "    name='schools',\n",
    "    con=engine,\n",
    "    if_exists='append',\n",
    "    index=False\n",
    ")"
   ]
  },
  {
   "cell_type": "code",
   "execution_count": null,
   "metadata": {},
   "outputs": [],
   "source": [
    "# [Upload #3] Upload School Program Data \n",
    "programs_df.to_sql(\n",
    "    name='programs',\n",
    "    con=engine,\n",
    "    if_exists='append',\n",
    "    index=False\n",
    ")"
   ]
  },
  {
   "cell_type": "code",
   "execution_count": null,
   "metadata": {},
   "outputs": [],
   "source": [
    "# [Upload #4] Upload Student Record Data\n",
    "records_df.to_sql(\n",
    "    name='records',\n",
    "    con=engine,\n",
    "    if_exists='append',\n",
    "    index=False\n",
    ")"
   ]
  },
  {
   "cell_type": "code",
   "execution_count": null,
   "metadata": {},
   "outputs": [],
   "source": [
    "print('Initial MySQL Data Upload: <Complete>')"
   ]
  },
  {
   "cell_type": "code",
   "execution_count": null,
   "metadata": {},
   "outputs": [],
   "source": []
  }
 ],
 "metadata": {
  "kernelspec": {
   "display_name": "Python 3",
   "language": "python",
   "name": "python3"
  },
  "language_info": {
   "codemirror_mode": {
    "name": "ipython",
    "version": 3
   },
   "file_extension": ".py",
   "mimetype": "text/x-python",
   "name": "python",
   "nbconvert_exporter": "python",
   "pygments_lexer": "ipython3",
   "version": "3.6.7"
  }
 },
 "nbformat": 4,
 "nbformat_minor": 2
}
