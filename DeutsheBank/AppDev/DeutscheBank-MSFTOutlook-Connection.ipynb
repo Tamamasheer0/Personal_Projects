{
 "cells": [
  {
   "cell_type": "code",
   "execution_count": 1,
   "metadata": {},
   "outputs": [],
   "source": [
    "import datetime as dt\n",
    "import win32com.client as win32\n",
    "from pprint import pprint"
   ]
  },
  {
   "cell_type": "code",
   "execution_count": 2,
   "metadata": {},
   "outputs": [],
   "source": [
    "# [Establish] Outlook MAPI Server Connection\n",
    "\n",
    "outlook = win32.Dispatch(\"Outlook.Application\").GetNamespace(\"MAPI\")\n",
    "inbox = outlook.GetDefaultFolder(6)\n",
    "emails = inbox.Items\n",
    "total_emails = len(emails)\n",
    "acct_info = outlook.Folders"
   ]
  },
  {
   "cell_type": "code",
   "execution_count": 3,
   "metadata": {},
   "outputs": [
    {
     "name": "stdout",
     "output_type": "stream",
     "text": [
      "[Outlook] Type: <class 'win32com.client.CDispatch'>\n",
      "[Outlook] Account Info: tamashiroryan@gmail.com\n"
     ]
    }
   ],
   "source": [
    "# [View] Email Account Info\n",
    "\n",
    "print(f'[Outlook] Type: {type(acct_info)}')\n",
    "print(f'[Outlook] Account Info: {acct_info[0].name}')"
   ]
  },
  {
   "cell_type": "code",
   "execution_count": 4,
   "metadata": {},
   "outputs": [
    {
     "name": "stdout",
     "output_type": "stream",
     "text": [
      "[Outlook] Inbox - Email Count: 8811\n"
     ]
    }
   ],
   "source": [
    "# [View] Total Email Count\n",
    "\n",
    "print(f'[Outlook] Inbox - Email Count: {total_emails}')"
   ]
  },
  {
   "cell_type": "code",
   "execution_count": 5,
   "metadata": {},
   "outputs": [
    {
     "name": "stdout",
     "output_type": "stream",
     "text": [
      "\n",
      "[View] Email Details: Most Recent\n",
      "\n",
      "Importance          : 1\n",
      "Last Mod Time       : <built-in method ctime of pywintypes.datetime object at 0x00000269081F6FC0>\n",
      "Sender Address      : off5th@news.saksoff5th.com\n",
      "Recipient Address   : tamashiroryan@gmail.com\n",
      "Email Cc            : \n",
      "# Attachments       : 0\n",
      "Subject Line        : Get up to a $100 gift card (and free shipping) when you shop sitewide \n",
      "Email Body          :  <http://news.saksoff5th.com/a/hBddj7KAotFNUB9zlnnNt9Cbl.AotFNU2F/spacer.gif> \r\n",
      "Shop Now <https://news.saksoff5th.com/a/hBddj7KAotFNUB9zlnnNt9Cbl.AotFNU2F/pht?EMAIL_ID=27616609&EMAIL_ID=27616609&REF_I\n"
     ]
    }
   ],
   "source": [
    "# [View] Details: First Email From Inbox\n",
    "\n",
    "email = emails.GetFirst()\n",
    "sender_address = email.Sender.Address\n",
    "email_recipients = email.Recipients\n",
    "email_to = email.To\n",
    "email_cc = email.CC\n",
    "email_subject = email.Subject\n",
    "email_body = email.Body\n",
    "email_importance = email.Importance\n",
    "email_last_mod = email.LastModificationTime.ctime\n",
    "number_of_attachments = email.Attachments.Count\n",
    "#email_attachment_obj = email.Attachments.item()\n",
    "\n",
    "email_info = {\n",
    "    \"Importance\": email_importance,\n",
    "    \"Last Mod Time\": email_last_mod,\n",
    "    \"Sender Address\": sender_address,\n",
    "    \"Recipient Address\": email_to,\n",
    "    \"Email CC\": email_cc,\n",
    "    \"# Attachments\": number_of_attachments,\n",
    "    \"Subject Line\": email_subject,\n",
    "    \"Email Body\": email_body[:200],\n",
    "}\n",
    "\n",
    "print('\\n[View] Email Details: Most Recent\\n')\n",
    "for k, v in email_info.items():\n",
    "    print(f'{k.title().ljust(20, \" \")}: {v}')"
   ]
  },
  {
   "cell_type": "code",
   "execution_count": 6,
   "metadata": {},
   "outputs": [
    {
     "name": "stdout",
     "output_type": "stream",
     "text": [
      "\n",
      "[View] Email Details: Oldest\n",
      "\n",
      "Importance          : 1\n",
      "Last Mod Time       : 2019-09-20 11:30:47+00:00\n",
      "Sender Address      : noreply@glassdoor.com\n",
      "Recipient Address   : tamashiroryan@gmail.com\n",
      "Email Cc            : \n",
      "# Attachments       : 0\n",
      "Subject Line        : Get up to a $100 gift card (and free shipping) when you shop sitewide \n",
      "Email Body          :  <http://news.saksoff5th.com/a/hBddj7KAotFNUB9zlnnNt9Cbl.AotFNU2F/spacer.gif> \r\n",
      "Shop Now <https://news.saksoff5th.com/a/hBddj7KAotFNUB9zlnnNt9Cbl.AotFNU2F/pht?EMAIL_ID=27616609&EMAIL_ID=27616609&REF_I\n"
     ]
    }
   ],
   "source": [
    "# [View] Details: Get Last Email From Inbox\n",
    "\n",
    "email = emails.GetLast()\n",
    "sender_address = email.Sender.Address\n",
    "email_recipients = email.Recipients\n",
    "email_cc = email.CC\n",
    "email_importance = email.Importance\n",
    "email_last_mod = email.LastModificationTime\n",
    "number_of_attachments = email.Attachments.Count\n",
    "#email_attachment_obj = email.Attachments.item()\n",
    "\n",
    "email_info = {\n",
    "    \"Importance\": email_importance,\n",
    "    \"Last Mod Time\": email_last_mod,\n",
    "    \"Sender Address\": sender_address,\n",
    "    \"Recipient Address\": email_to,\n",
    "    \"Email CC\": email_cc,\n",
    "    \"# Attachments\": number_of_attachments,\n",
    "    \"Subject Line\": email_subject,\n",
    "    \"Email Body\": email_body[:200],\n",
    "}\n",
    "\n",
    "print('\\n[View] Email Details: Oldest\\n')\n",
    "for k, v in email_info.items():\n",
    "    print(f'{k.title().ljust(20, \" \")}: {v}')"
   ]
  },
  {
   "cell_type": "code",
   "execution_count": null,
   "metadata": {},
   "outputs": [],
   "source": []
  },
  {
   "cell_type": "code",
   "execution_count": null,
   "metadata": {},
   "outputs": [],
   "source": []
  }
 ],
 "metadata": {
  "kernelspec": {
   "display_name": "Python 3",
   "language": "python",
   "name": "python3"
  },
  "language_info": {
   "codemirror_mode": {
    "name": "ipython",
    "version": 3
   },
   "file_extension": ".py",
   "mimetype": "text/x-python",
   "name": "python",
   "nbconvert_exporter": "python",
   "pygments_lexer": "ipython3",
   "version": "3.6.7"
  }
 },
 "nbformat": 4,
 "nbformat_minor": 2
}
