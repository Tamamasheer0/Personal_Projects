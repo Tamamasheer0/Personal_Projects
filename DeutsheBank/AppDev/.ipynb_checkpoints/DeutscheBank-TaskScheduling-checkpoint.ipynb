{
 "cells": [
  {
   "cell_type": "code",
   "execution_count": null,
   "metadata": {},
   "outputs": [],
   "source": [
    "import datetime\n",
    "import time"
   ]
  },
  {
   "cell_type": "code",
   "execution_count": null,
   "metadata": {},
   "outputs": [],
   "source": [
    "msg_initialize = \"\\nInitializing Task Scheduler...\"\n",
    "msg_schedule_info = \"[Info] Freq Interval: {} minutes, Runtime: {} minutes\\n\"\n",
    "msg_execute_task = \"\\n[{}] [Execute] Automated Scheduled Task - 1\"\n",
    "msg_schedule_complete = \"\\n[Terminate] Task Scheduling Complete\\n\""
   ]
  },
  {
   "cell_type": "code",
   "execution_count": null,
   "metadata": {},
   "outputs": [],
   "source": [
    "def run_scheduled_task():\n",
    "    print(\"\\t<Status> Scheduled Task: Complete\\n\")\n",
    "    return None"
   ]
  },
  {
   "cell_type": "code",
   "execution_count": null,
   "metadata": {},
   "outputs": [],
   "source": [
    "def schedule_automated_task(**settings):\n",
    "    wait_interval = settings[\"frequency\"] * 60\n",
    "    execute_task = settings[\"execute\"]\n",
    "    print(msg_initialize)\n",
    "    print(msg_schedule_info \\\n",
    "            .format(settings[\"frequency\"], \n",
    "                    settings[\"runtime\"]))\n",
    "\n",
    "    task_counter = 0\n",
    "    task_scheduler = 0\n",
    "    for i in range(settings[\"runtime\"] * 60):\n",
    "        time.sleep(settings[\"increment\"])\n",
    "        print(datetime.datetime.now())\n",
    "\n",
    "        task_scheduler += 1\n",
    "        if task_scheduler == wait_interval:\n",
    "            task_counter += 1\n",
    "            task_scheduler = 0\n",
    "            print(msg_execute_task.format(task_counter))\n",
    "            execute_task()\n",
    "\n",
    "            \"\"\"\n",
    "                    <Insert>\n",
    "                Scheduled Task code\n",
    "                \n",
    "            \"\"\"\n",
    "    print(msg_schedule_complete)      \n",
    "    return None"
   ]
  },
  {
   "cell_type": "code",
   "execution_count": null,
   "metadata": {},
   "outputs": [],
   "source": [
    "task_config = {\n",
    "    \"increment\": 1,\n",
    "    \"frequency\": 2,\n",
    "    \"runtime\": 60,\n",
    "    \"execute\": run_scheduled_task\n",
    "}"
   ]
  },
  {
   "cell_type": "code",
   "execution_count": null,
   "metadata": {},
   "outputs": [],
   "source": [
    "schedule_automated_task(**task_config)"
   ]
  },
  {
   "cell_type": "code",
   "execution_count": null,
   "metadata": {},
   "outputs": [],
   "source": []
  }
 ],
 "metadata": {
  "kernelspec": {
   "display_name": "Python 3",
   "language": "python",
   "name": "python3"
  },
  "language_info": {
   "codemirror_mode": {
    "name": "ipython",
    "version": 3
   },
   "file_extension": ".py",
   "mimetype": "text/x-python",
   "name": "python",
   "nbconvert_exporter": "python",
   "pygments_lexer": "ipython3",
   "version": "3.6.7"
  }
 },
 "nbformat": 4,
 "nbformat_minor": 2
}
