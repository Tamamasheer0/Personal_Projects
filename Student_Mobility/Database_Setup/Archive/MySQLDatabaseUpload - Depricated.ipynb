{
 "cells": [
  {
   "cell_type": "code",
   "execution_count": null,
   "metadata": {},
   "outputs": [],
   "source": [
    "# Import Dependencies\n",
    "from datetime import datetime\n",
    "import pandas as pd\n",
    "import os"
   ]
  },
  {
   "cell_type": "code",
   "execution_count": null,
   "metadata": {},
   "outputs": [],
   "source": [
    "# Set Split Dataset Folder Path\n",
    "fldr_path = os.path.join('Datasets', 'Split Dataset')\n",
    "fldr_path"
   ]
  },
  {
   "cell_type": "code",
   "execution_count": null,
   "metadata": {},
   "outputs": [],
   "source": [
    "# Store All CSV Data Files to List\n",
    "csv_files = [file for file in os.listdir(fldr_path) if file[-4:] == '.csv']"
   ]
  },
  {
   "cell_type": "code",
   "execution_count": null,
   "metadata": {},
   "outputs": [],
   "source": [
    "# Preview List of CSV Data Files\n",
    "for i, csvFile in enumerate(csv_files):\n",
    "    print(i, csvFile)\n",
    "\n",
    "# CSV File Count\n",
    "print(f'\\nTotal Number of CSV Files: {len(csv_files)}')"
   ]
  },
  {
   "cell_type": "code",
   "execution_count": null,
   "metadata": {},
   "outputs": [],
   "source": [
    "# Create Master DataFrame to Append to\n",
    "master_df = pd.DataFrame()\n",
    "\n",
    "# Loop Through Data Folder\n",
    "for i, csvFile in enumerate(csv_files):\n",
    "    print(i, csvFile)\n",
    "    \n",
    "    # Import Each Csv in Folder to Temp DF\n",
    "    append_csv = pd.read_csv(os.path.join('Datasets', 'Split dataset', csvFile))\n",
    "\n",
    "    # Append Temp DataFrame to Master\n",
    "    master_df = master_df.append(append_csv)\n",
    "\n",
    "    # Delete Temp DataFrame\n",
    "    del append_csv\n",
    "\n",
    "master_df.head(10)"
   ]
  },
  {
   "cell_type": "code",
   "execution_count": null,
   "metadata": {},
   "outputs": [],
   "source": [
    "# Define & Rearrange Desired Column Headers\n",
    "column_headers = [\n",
    "    'NID',  # Student Id\n",
    "    'GR',   # Grade\n",
    "    'YR',   # Year\n",
    "    'SC',   # School Code\n",
    "    'PR',   # School Program\n",
    "    'ED',   # Entry Date\n",
    "    'LD',   # Leave Date\n",
    "    'ER'    # Exit Reason**\n",
    "]"
   ]
  },
  {
   "cell_type": "code",
   "execution_count": null,
   "metadata": {},
   "outputs": [],
   "source": [
    "# Apply Column Headers to Master DataFrame - verify\n",
    "reduced_df = master_df[column_headers]\n",
    "reduced_df.head(10)"
   ]
  },
  {
   "cell_type": "code",
   "execution_count": null,
   "metadata": {},
   "outputs": [],
   "source": [
    "# Preview DataFrame -- Check For Missing Data\n",
    "reduced_df.count()"
   ]
  },
  {
   "cell_type": "code",
   "execution_count": null,
   "metadata": {},
   "outputs": [],
   "source": [
    "# Count Number of Unique Student IDs\n",
    "reduced_df['NID'].nunique()"
   ]
  },
  {
   "cell_type": "code",
   "execution_count": null,
   "metadata": {},
   "outputs": [],
   "source": [
    "# Count Number of Records For Each Student ID -- Show Top 5 with Highest Count\n",
    "student_ids = reduced_df['NID']\n",
    "student_ids.value_counts().head()"
   ]
  },
  {
   "cell_type": "code",
   "execution_count": null,
   "metadata": {},
   "outputs": [],
   "source": [
    "# Show 10 Entries For Student ID: 387861\n",
    "reduced_df.loc[reduced_df['NID'] == 387861].head(10)"
   ]
  },
  {
   "cell_type": "code",
   "execution_count": null,
   "metadata": {},
   "outputs": [],
   "source": [
    "student_records.count()"
   ]
  },
  {
   "cell_type": "code",
   "execution_count": null,
   "metadata": {},
   "outputs": [],
   "source": []
  },
  {
   "cell_type": "code",
   "execution_count": null,
   "metadata": {},
   "outputs": [],
   "source": []
  },
  {
   "cell_type": "code",
   "execution_count": null,
   "metadata": {},
   "outputs": [],
   "source": [
    "# Reduce Data to Include Only Records w/ Exit Reasons (ER)\n",
    "filtered_ER = reduced_df[reduced_df['ER'].isnull()==False]\n",
    "filtered_ER.count()"
   ]
  },
  {
   "cell_type": "code",
   "execution_count": null,
   "metadata": {
    "scrolled": true
   },
   "outputs": [],
   "source": [
    "filtered_ER['YR'] = pd.to_datetime(filtered_ER['YR'])"
   ]
  },
  {
   "cell_type": "code",
   "execution_count": null,
   "metadata": {},
   "outputs": [],
   "source": [
    "filtered_ER.dtypes"
   ]
  },
  {
   "cell_type": "code",
   "execution_count": null,
   "metadata": {},
   "outputs": [],
   "source": [
    "date_headers = ['ED','LD']\n",
    "reduced_df[date_headers] = reduced_df[date_headers].apply(pd.to_datetime)"
   ]
  },
  {
   "cell_type": "code",
   "execution_count": null,
   "metadata": {},
   "outputs": [],
   "source": [
    "# Preview Data to Verify DateTime Conversion\n",
    "reduced_df.head()"
   ]
  },
  {
   "cell_type": "code",
   "execution_count": null,
   "metadata": {},
   "outputs": [],
   "source": [
    "reduced_df.dtypes"
   ]
  },
  {
   "cell_type": "code",
   "execution_count": null,
   "metadata": {},
   "outputs": [],
   "source": [
    "# Filter Data to Relevant Range: 09/12/18 - 05/20/2018"
   ]
  },
  {
   "cell_type": "code",
   "execution_count": null,
   "metadata": {
    "scrolled": true
   },
   "outputs": [],
   "source": [
    "reduced_df.head()"
   ]
  },
  {
   "cell_type": "code",
   "execution_count": null,
   "metadata": {},
   "outputs": [],
   "source": []
  },
  {
   "cell_type": "code",
   "execution_count": null,
   "metadata": {},
   "outputs": [],
   "source": [
    "reduced_df.count()"
   ]
  },
  {
   "cell_type": "code",
   "execution_count": null,
   "metadata": {},
   "outputs": [],
   "source": [
    "# Filter 1 - Delete Null Values From 'NID'\n",
    "filter1_df = reduced_df[reduced_df['NID'].isnull()==False]\n",
    "filter2_df = filter1_df[filter1_df['ER'].isnull()==False]\n",
    "filter2_df.count()"
   ]
  },
  {
   "cell_type": "code",
   "execution_count": null,
   "metadata": {},
   "outputs": [],
   "source": [
    "!Jupyter nbconvert -- to script data_cleaning_test.ipynb"
   ]
  },
  {
   "cell_type": "code",
   "execution_count": null,
   "metadata": {},
   "outputs": [],
   "source": []
  }
 ],
 "metadata": {
  "kernelspec": {
   "display_name": "Python 3",
   "language": "python",
   "name": "python3"
  },
  "language_info": {
   "codemirror_mode": {
    "name": "ipython",
    "version": 3
   },
   "file_extension": ".py",
   "mimetype": "text/x-python",
   "name": "python",
   "nbconvert_exporter": "python",
   "pygments_lexer": "ipython3",
   "version": "3.6.7"
  }
 },
 "nbformat": 4,
 "nbformat_minor": 2
}
