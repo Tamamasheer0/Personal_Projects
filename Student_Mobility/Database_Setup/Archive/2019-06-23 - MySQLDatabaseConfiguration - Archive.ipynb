{
 "cells": [
  {
   "cell_type": "code",
   "execution_count": 1,
   "metadata": {},
   "outputs": [],
   "source": [
    "# Import Library Dependencies\n",
    "from sqlalchemy import create_engine, inspect, exc\n",
    "from sqlalchemy import Column, ForeignKey\n",
    "from sqlalchemy import Float, Integer, String, DateTime\n",
    "from sqlalchemy import Boolean, DateTime, Float, Integer, Numeric\n",
    "from sqlalchemy.ext.declarative import declarative_base\n",
    "from sqlalchemy.orm import relationship, backref\n",
    "\n",
    "from datetime import datetime\n",
    "from config import user, password"
   ]
  },
  {
   "cell_type": "code",
   "execution_count": 2,
   "metadata": {},
   "outputs": [],
   "source": [
    "Base = declarative_base()"
   ]
  },
  {
   "cell_type": "code",
   "execution_count": 3,
   "metadata": {},
   "outputs": [],
   "source": [
    "# Create Student Class -- Main\n",
    "\n",
    "class Student(Base):\n",
    "    __tablename__ = 'students'\n",
    "    student_id = Column(Integer, primary_key=True, nullable=False)\n",
    "    student_fname = Column(String(100), nullable=False)\n",
    "#    student_mname = Column(String(100))\n",
    "    student_lname = Column(String(100), nullable=False)\n",
    "    student_age = Column(Integer)\n",
    "    student_residence_id = Column(Integer, ForeignKey('cities.city_id'))\n",
    "    updated_on = Column(DateTime, onupdate=datetime.now())\n",
    "    updated_by = Column(String(255))\n",
    "    \n",
    "    def __repr__(self):\n",
    "        return (f'{self.__class__.__name__}('\n",
    "                f'{self.student_id}, '\n",
    "                f'{self.student_fname}, '\n",
    "#                f'{self.student_mname}, '\n",
    "                f'{self.student_lname}, '\n",
    "                f'{self.student_age}, '\n",
    "                f'{self.student_residence_id}, '\n",
    "                f'{self.updated_on}, '\n",
    "                f'{self.updated_by})')"
   ]
  },
  {
   "cell_type": "code",
   "execution_count": 4,
   "metadata": {},
   "outputs": [],
   "source": [
    "# Student Record Model - Database Table Configuration\n",
    "\n",
    "class Student_Record(Base):\n",
    "    __tablename__ = 'student_records'\n",
    "    record_index = Column(Integer, primary_key=True, autoincrement=True)\n",
    "    student_id = Column(Integer, ForeignKey('students.student_id'))\n",
    "    gifted_student = Column(Boolean, default=False)\n",
    "    disability_student = Column(Boolean, default=False)\n",
    "    esl_student = Column(Boolean, default=False)\n",
    "#    minority_student = Column(Boolean, default=False)\n",
    "#    student_school_district = Column(String(10), nullable=False)\n",
    "    student_school_id = Column(Integer, ForeignKey('schools.school_id'))\n",
    "    student_entry_date = Column(DateTime, nullable=False)\n",
    "    student_program_id = Column(String(5))#, ForeignKey('school_programs.program_id'))\n",
    "    student_grade_level = Column(Integer, nullable=False)\n",
    "    student_leave_date = Column(DateTime, nullable=False)\n",
    "    student_exit_reason = Column(Integer, nullable=False)    \n",
    "    \n",
    "    student = relationship('Student', backref=backref('student_records'))\n",
    "    school = relationship('School', backref=backref('schools'))\n",
    "    #program = relationship('School_Program', backref=backref('school_programs'))\n",
    "    \n",
    "    def __repr__(self):\n",
    "        return (f'{self.__class__.__name__}('\n",
    "                f'{self.record_index}, '\n",
    "                f'{self.student_id}, '\n",
    "                f'{self.gifted_student}, '\n",
    "                f'{self.disability_student}, '\n",
    "                f'{self.esl_student}, '\n",
    "#                f'{self.minority_student}, '\n",
    "#                f'{self.student_school_district}, '\n",
    "                f'{self.student_school_id}, '\n",
    "                f'{self.student_entry_date}, '\n",
    "                f'{self.student_grade_level}, '\n",
    "                f'{self.student_leave_date}, '\n",
    "                f'{self.student_exit_reason})')"
   ]
  },
  {
   "cell_type": "code",
   "execution_count": 5,
   "metadata": {},
   "outputs": [],
   "source": [
    "class School(Base):\n",
    "    __tablename__ =  'schools'\n",
    "    school_id = Column(Integer, primary_key=True, nullable=False)\n",
    "    school_name = Column(String(255), nullable=False)\n",
    "    school_address = Column(String(255), nullable=True)\n",
    "#    school_city_id = Column(Integer, ForeignKey('cities.city_id'))\n",
    "    school_district = Column(String(10), nullable=False)\n",
    "    \n",
    "    student_record = relationship('Student_Record', backref=backref('schools'))\n",
    "    school_program = relationship('School_Program', backref=backref('school_programs'))\n",
    "    \n",
    "    def __repr__(self):\n",
    "        return (f'{self.__class__.__name__}('\n",
    "                f'{self.school_id}, '\n",
    "                f'{self.school_name}, '\n",
    "                f'{self.school_address}, '\n",
    "                f'{self.school_city}, '\n",
    "                f'{self.district})')"
   ]
  },
  {
   "cell_type": "code",
   "execution_count": 6,
   "metadata": {},
   "outputs": [],
   "source": [
    "class School_Program(Base):\n",
    "    __tablename__ = 'school_programs'\n",
    "    #program_index = Column(Integer, primary_key=True)\n",
    "    program_id = Column(String(5), primary_key=True)\n",
    "    program_name = Column(String(255), nullable=False)\n",
    "#    program_type = Column(String(10))\n",
    "    program_description = Column(String(255))\n",
    "    program_start_date = Column(DateTime, nullable=True)\n",
    "    program_end_date = Column(DateTime, nullable=True)\n",
    "#    program_school_id = Column(Integer, ForeignKey('schools.school_id'))\n",
    "    \n",
    "    def __repr__(self):\n",
    "        return (f'{self.__class__.__name__}('\n",
    "                f'{self.program_id}, '\n",
    "                f'{self.program_name}, '\n",
    "#                f'{self.program_type}, '\n",
    "                f'{self.program_description}, '\n",
    "                f'{self.program_start_date}, '\n",
    "                f'{self.program_end_date}, '\n",
    "                f'{self.program_school_id})')"
   ]
  },
  {
   "cell_type": "code",
   "execution_count": 7,
   "metadata": {},
   "outputs": [],
   "source": [
    "class Enroll (Base):\n",
    "    __tablename__ = 'program_enrollment'\n",
    "    enrollment_index = Column(Integer, primary_key=True, autoincrement=True)\n",
    "    student_id = Column(Integer, ForeignKey('students.student_id'))\n",
    "    program_id = Column(String(5), ForeignKey('school_programs.program_id'))\n",
    "    enrollment_date = Column(DateTime, nullable=False)\n",
    "    \n",
    "    def __repr__(self):\n",
    "        return (f'{self.__class__.__name__}('\n",
    "                f'{self.enrollement_index}, '\n",
    "                f'{self.student_id}, '\n",
    "                f'{self.program_id}, '\n",
    "                f'{self.enrollment_date})')"
   ]
  },
  {
   "cell_type": "code",
   "execution_count": 8,
   "metadata": {},
   "outputs": [],
   "source": [
    "class City(Base):\n",
    "    __tablename__ = 'cities'\n",
    "    city_id =  Column(Integer, primary_key=True, nullable=False)\n",
    "    city_code = Column(String(5))\n",
    "    city_name = Column(String(255), nullable=False)\n",
    "    city_median_income = Column(Integer)\n",
    "    city_population = Column(Integer)\n",
    "    city_crime_rate = Column(Float)\n",
    "    \n",
    "    def __repr__(self):\n",
    "        return (f'{self.__class__.__name__}('\n",
    "                f'{self.city_id}, '\n",
    "                f'{self.city_code}, '\n",
    "                f'{self.city_name}, '\n",
    "                f'{self.city_median_income}, '\n",
    "                f'{self.city_population}, '\n",
    "                f'{self.city_crime_rate})')"
   ]
  },
  {
   "cell_type": "code",
   "execution_count": 9,
   "metadata": {},
   "outputs": [
    {
     "data": {
      "text/plain": [
       "immutabledict({'students': Table('students', MetaData(bind=None), Column('student_id', Integer(), table=<students>, primary_key=True, nullable=False), Column('student_fname', String(length=100), table=<students>, nullable=False), Column('student_lname', String(length=100), table=<students>, nullable=False), Column('student_age', Integer(), table=<students>), Column('student_residence_id', Integer(), ForeignKey('cities.city_id'), table=<students>), Column('updated_on', DateTime(), table=<students>, onupdate=ColumnDefault(datetime.datetime(2019, 6, 24, 16, 16, 8, 154178))), Column('updated_by', String(length=255), table=<students>), schema=None), 'student_records': Table('student_records', MetaData(bind=None), Column('record_index', Integer(), table=<student_records>, primary_key=True, nullable=False), Column('student_id', Integer(), ForeignKey('students.student_id'), table=<student_records>), Column('gifted_student', Boolean(), table=<student_records>, default=ColumnDefault(False)), Column('disability_student', Boolean(), table=<student_records>, default=ColumnDefault(False)), Column('esl_student', Boolean(), table=<student_records>, default=ColumnDefault(False)), Column('student_school_id', Integer(), ForeignKey('schools.school_id'), table=<student_records>), Column('student_entry_date', DateTime(), table=<student_records>, nullable=False), Column('student_program_id', String(length=5), table=<student_records>), Column('student_grade_level', Integer(), table=<student_records>, nullable=False), Column('student_leave_date', DateTime(), table=<student_records>, nullable=False), Column('student_exit_reason', Integer(), table=<student_records>, nullable=False), schema=None), 'schools': Table('schools', MetaData(bind=None), Column('school_id', Integer(), table=<schools>, primary_key=True, nullable=False), Column('school_name', String(length=255), table=<schools>, nullable=False), Column('school_address', String(length=255), table=<schools>), Column('school_district', String(length=10), table=<schools>, nullable=False), schema=None), 'school_programs': Table('school_programs', MetaData(bind=None), Column('program_id', String(length=5), table=<school_programs>, primary_key=True, nullable=False), Column('program_name', String(length=255), table=<school_programs>, nullable=False), Column('program_description', String(length=255), table=<school_programs>), Column('program_start_date', DateTime(), table=<school_programs>), Column('program_end_date', DateTime(), table=<school_programs>), schema=None), 'program_enrollment': Table('program_enrollment', MetaData(bind=None), Column('enrollment_index', Integer(), table=<program_enrollment>, primary_key=True, nullable=False), Column('student_id', Integer(), ForeignKey('students.student_id'), table=<program_enrollment>), Column('program_id', String(length=5), ForeignKey('school_programs.program_id'), table=<program_enrollment>), Column('enrollment_date', DateTime(), table=<program_enrollment>, nullable=False), schema=None), 'cities': Table('cities', MetaData(bind=None), Column('city_id', Integer(), table=<cities>, primary_key=True, nullable=False), Column('city_code', String(length=5), table=<cities>), Column('city_name', String(length=255), table=<cities>, nullable=False), Column('city_median_income', Integer(), table=<cities>), Column('city_population', Integer(), table=<cities>), Column('city_crime_rate', Float(), table=<cities>), schema=None)})"
      ]
     },
     "execution_count": 9,
     "metadata": {},
     "output_type": "execute_result"
    }
   ],
   "source": [
    "Base.metadata.tables"
   ]
  },
  {
   "cell_type": "code",
   "execution_count": 10,
   "metadata": {},
   "outputs": [],
   "source": [
    "# MySQL Database Connection String\n",
    "MySQL_DB_Connection = f'{user}:{password}@localhost/student_mobility'"
   ]
  },
  {
   "cell_type": "code",
   "execution_count": 11,
   "metadata": {},
   "outputs": [
    {
     "name": "stdout",
     "output_type": "stream",
     "text": [
      "root:Tamamasheer0@localhost/student_mobility\n"
     ]
    }
   ],
   "source": [
    "print(MySQL_DB_Connection)"
   ]
  },
  {
   "cell_type": "code",
   "execution_count": 12,
   "metadata": {},
   "outputs": [
    {
     "name": "stdout",
     "output_type": "stream",
     "text": [
      "\n",
      "<Created> New MySQL Database: student_mobility [Connection: Established]\n"
     ]
    }
   ],
   "source": [
    "# Establish Connection to Database\n",
    "try:\n",
    "    # Try to Connect to Existing StudentMobilityDB\n",
    "    engine = create_engine(f'mysql://{MySQL_DB_Connection}', echo=False)\n",
    "    connection = engine.connect()\n",
    "    print(f'\\n<Connected> MySQL Database: student_mobility')\n",
    "\n",
    "except exc.OperationalError:\n",
    "    # Existing Database Not Exist: Create New MySQL Database: Name='StudentMobilityDB'\n",
    "    MySQL_Base_Connection = f'{user}:{password}@localhost'\n",
    "    engine = create_engine(f'mysql://{MySQL_Base_Connection}', echo=False)\n",
    "    connection = engine.connect()\n",
    "    engine.execute('CREATE DATABASE IF NOT EXISTS student_mobility;')\n",
    "    engine = create_engine(f'mysql://{MySQL_DB_Connection}', echo=False)\n",
    "    print(f'\\n<Created> New MySQL Database: student_mobility [Connection: Established]')"
   ]
  },
  {
   "cell_type": "code",
   "execution_count": 13,
   "metadata": {},
   "outputs": [],
   "source": [
    "Base.metadata.create_all(engine)"
   ]
  },
  {
   "cell_type": "code",
   "execution_count": 14,
   "metadata": {},
   "outputs": [
    {
     "data": {
      "text/plain": [
       "['cities',\n",
       " 'program_enrollment',\n",
       " 'school_programs',\n",
       " 'schools',\n",
       " 'student_records',\n",
       " 'students']"
      ]
     },
     "execution_count": 14,
     "metadata": {},
     "output_type": "execute_result"
    }
   ],
   "source": [
    "inspector = inspect(engine)\n",
    "inspector.get_table_names()"
   ]
  },
  {
   "cell_type": "code",
   "execution_count": 15,
   "metadata": {},
   "outputs": [
    {
     "data": {
      "text/plain": [
       "['city_id',\n",
       " 'city_code',\n",
       " 'city_name',\n",
       " 'city_median_income',\n",
       " 'city_population',\n",
       " 'city_crime_rate']"
      ]
     },
     "execution_count": 15,
     "metadata": {},
     "output_type": "execute_result"
    }
   ],
   "source": [
    "# Preview Table Fields - \"cities\"\n",
    "cities = [city['name'] for city in inspector.get_columns('cities')]\n",
    "cities"
   ]
  },
  {
   "cell_type": "code",
   "execution_count": 16,
   "metadata": {},
   "outputs": [
    {
     "data": {
      "text/plain": [
       "['school_id', 'school_name', 'school_address', 'school_district']"
      ]
     },
     "execution_count": 16,
     "metadata": {},
     "output_type": "execute_result"
    }
   ],
   "source": [
    "# Preview Table Fields - \"schools\"\n",
    "schools = [school['name'] for school in inspector.get_columns('schools')]\n",
    "schools"
   ]
  },
  {
   "cell_type": "code",
   "execution_count": 17,
   "metadata": {},
   "outputs": [
    {
     "data": {
      "text/plain": [
       "['enrollment_index', 'student_id', 'program_id', 'enrollment_date']"
      ]
     },
     "execution_count": 17,
     "metadata": {},
     "output_type": "execute_result"
    }
   ],
   "source": [
    "# Preview Table Fields - \"program_enrollement\"\n",
    "programs = [prg['name'] for prg in inspector.get_columns('program_enrollment')]\n",
    "programs"
   ]
  },
  {
   "cell_type": "code",
   "execution_count": 18,
   "metadata": {},
   "outputs": [
    {
     "data": {
      "text/plain": [
       "['student_id',\n",
       " 'student_fname',\n",
       " 'student_lname',\n",
       " 'student_age',\n",
       " 'student_residence_id',\n",
       " 'updated_on',\n",
       " 'updated_by']"
      ]
     },
     "execution_count": 18,
     "metadata": {},
     "output_type": "execute_result"
    }
   ],
   "source": [
    "# Preview Table Fields - \"students\"\n",
    "students = [student['name'] for student in inspector.get_columns('students')]\n",
    "students"
   ]
  },
  {
   "cell_type": "code",
   "execution_count": 19,
   "metadata": {},
   "outputs": [
    {
     "data": {
      "text/plain": [
       "['record_index',\n",
       " 'student_id',\n",
       " 'gifted_student',\n",
       " 'disability_student',\n",
       " 'esl_student',\n",
       " 'student_school_id',\n",
       " 'student_entry_date',\n",
       " 'student_program_id',\n",
       " 'student_grade_level',\n",
       " 'student_leave_date',\n",
       " 'student_exit_reason']"
      ]
     },
     "execution_count": 19,
     "metadata": {},
     "output_type": "execute_result"
    }
   ],
   "source": [
    "# Preview Table Fields - \"student_records\"\n",
    "records = [rec['name'] for rec in inspector.get_columns('student_records')]\n",
    "records"
   ]
  },
  {
   "cell_type": "code",
   "execution_count": 20,
   "metadata": {},
   "outputs": [
    {
     "name": "stdout",
     "output_type": "stream",
     "text": [
      "All done :)\n"
     ]
    }
   ],
   "source": [
    "print('All done :)')"
   ]
  },
  {
   "cell_type": "code",
   "execution_count": null,
   "metadata": {},
   "outputs": [],
   "source": []
  },
  {
   "cell_type": "code",
   "execution_count": null,
   "metadata": {},
   "outputs": [],
   "source": []
  }
 ],
 "metadata": {
  "kernelspec": {
   "display_name": "Python 3",
   "language": "python",
   "name": "python3"
  },
  "language_info": {
   "codemirror_mode": {
    "name": "ipython",
    "version": 3
   },
   "file_extension": ".py",
   "mimetype": "text/x-python",
   "name": "python",
   "nbconvert_exporter": "python",
   "pygments_lexer": "ipython3",
   "version": "3.6.7"
  }
 },
 "nbformat": 4,
 "nbformat_minor": 2
}
