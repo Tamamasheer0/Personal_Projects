{
 "cells": [
  {
   "cell_type": "code",
   "execution_count": null,
   "metadata": {},
   "outputs": [],
   "source": [
    "# Import Library Dependencies\n",
    "from sqlalchemy import create_engine, inspect, exc\n",
    "from sqlalchemy import Column, ForeignKey\n",
    "from sqlalchemy import Float, Integer, String\n",
    "from sqlalchemy import Boolean, DateTime, Numeric\n",
    "from sqlalchemy.ext.declarative import declarative_base\n",
    "from sqlalchemy.orm import relationship, backref\n",
    "\n",
    "from datetime import datetime\n",
    "from config import user, password"
   ]
  },
  {
   "cell_type": "code",
   "execution_count": null,
   "metadata": {},
   "outputs": [],
   "source": [
    "Base = declarative_base()"
   ]
  },
  {
   "cell_type": "code",
   "execution_count": null,
   "metadata": {},
   "outputs": [],
   "source": [
    "# Create Student Class -- Main\n",
    "\n",
    "class Student(Base):\n",
    "    __tablename__ = 'students'\n",
    "    student_id = Column(Integer, primary_key=True, nullable=False)\n",
    "    student_fname = Column(String(100), nullable=False)\n",
    "#    student_mname = Column(String(100))\n",
    "    student_lname = Column(String(100), nullable=False)\n",
    "    student_age = Column(Integer)\n",
    "    student_residence_id = Column(Integer, ForeignKey('cities.city_id'))\n",
    "    updated_on = Column(DateTime, onupdate=datetime.now())\n",
    "    updated_by = Column(String(255))\n",
    "    \n",
    "    def __repr__(self):\n",
    "        return (f'{self.__class__.__name__}('\n",
    "                f'{self.student_id}, '\n",
    "                f'{self.student_fname}, '\n",
    "#                f'{self.student_mname}, '\n",
    "                f'{self.student_lname}, '\n",
    "                f'{self.student_age}, '\n",
    "                f'{self.student_residence_id}, '\n",
    "                f'{self.updated_on}, '\n",
    "                f'{self.updated_by})')"
   ]
  },
  {
   "cell_type": "code",
   "execution_count": null,
   "metadata": {},
   "outputs": [],
   "source": [
    "# Student Record Model - Database Table Configuration\n",
    "\n",
    "class Student_Record(Base):\n",
    "    __tablename__ = 'student_records'\n",
    "    record_index = Column(Integer, primary_key=True, autoincrement=True)\n",
    "    student_id = Column(Integer, ForeignKey('students.student_id'))\n",
    "    gifted_student = Column(Boolean, default=False)\n",
    "    disability_student = Column(Boolean, default=False)\n",
    "    esl_student = Column(Boolean, default=False)\n",
    "#    minority_student = Column(Boolean, default=False)\n",
    "#    student_school_district = Column(String(10), nullable=False)\n",
    "    student_school_id = Column(Integer, ForeignKey('schools.school_id'))\n",
    "    student_entry_date = Column(DateTime, nullable=False)\n",
    "    student_program_id = Column(String(5))#, ForeignKey('school_programs.program_id'))\n",
    "    student_grade_level = Column(Integer, nullable=False)\n",
    "    student_leave_date = Column(DateTime, nullable=False)\n",
    "    student_exit_reason = Column(Integer, nullable=False)    \n",
    "    \n",
    "    student = relationship('Student', backref=backref('student_records'))\n",
    "    school = relationship('School', backref=backref('schools'))\n",
    "    #program = relationship('School_Program', backref=backref('school_programs'))\n",
    "    \n",
    "    def __repr__(self):\n",
    "        return (f'{self.__class__.__name__}('\n",
    "                f'{self.record_index}, '\n",
    "                f'{self.student_id}, '\n",
    "                f'{self.gifted_student}, '\n",
    "                f'{self.disability_student}, '\n",
    "                f'{self.esl_student}, '\n",
    "#                f'{self.minority_student}, '\n",
    "#                f'{self.student_school_district}, '\n",
    "                f'{self.student_school_id}, '\n",
    "                f'{self.student_entry_date}, '\n",
    "                f'{self.student_grade_level}, '\n",
    "                f'{self.student_leave_date}, '\n",
    "                f'{self.student_exit_reason})')"
   ]
  },
  {
   "cell_type": "code",
   "execution_count": null,
   "metadata": {},
   "outputs": [],
   "source": [
    "class School(Base):\n",
    "    __tablename__ =  'schools'\n",
    "    school_id = Column(Integer, primary_key=True, nullable=False)\n",
    "    school_name = Column(String(255), nullable=False)\n",
    "    school_address = Column(String(255), nullable=True)\n",
    "#    school_city_id = Column(Integer, ForeignKey('cities.city_id'))\n",
    "    school_district = Column(String(10), nullable=False)\n",
    "    \n",
    "    student_record = relationship('Student_Record', backref=backref('schools'))\n",
    "    school_program = relationship('School_Program', backref=backref('school_programs'))\n",
    "    \n",
    "    def __repr__(self):\n",
    "        return (f'{self.__class__.__name__}('\n",
    "                f'{self.school_id}, '\n",
    "                f'{self.school_name}, '\n",
    "                f'{self.school_address}, '\n",
    "                f'{self.school_city}, '\n",
    "                f'{self.district})')"
   ]
  },
  {
   "cell_type": "code",
   "execution_count": null,
   "metadata": {},
   "outputs": [],
   "source": [
    "class School_Program(Base):\n",
    "    __tablename__ = 'school_programs'\n",
    "    #program_index = Column(Integer, primary_key=True)\n",
    "    program_id = Column(String(5), primary_key=True)\n",
    "    program_name = Column(String(255), nullable=False)\n",
    "#    program_type = Column(String(10))\n",
    "    program_description = Column(String(255))\n",
    "    program_start_date = Column(DateTime, nullable=True)\n",
    "    program_end_date = Column(DateTime, nullable=True)\n",
    "#    program_school_id = Column(Integer, ForeignKey('schools.school_id'))\n",
    "    \n",
    "    def __repr__(self):\n",
    "        return (f'{self.__class__.__name__}('\n",
    "                f'{self.program_id}, '\n",
    "                f'{self.program_name}, '\n",
    "#                f'{self.program_type}, '\n",
    "                f'{self.program_description}, '\n",
    "                f'{self.program_start_date}, '\n",
    "                f'{self.program_end_date}, '\n",
    "                f'{self.program_school_id})')"
   ]
  },
  {
   "cell_type": "code",
   "execution_count": null,
   "metadata": {},
   "outputs": [],
   "source": [
    "class City(Base):\n",
    "    __tablename__ = 'cities'\n",
    "    city_id =  Column(Integer, primary_key=True, nullable=False)\n",
    "    city_code = Column(String(5))\n",
    "    city_name = Column(String(255), nullable=False)\n",
    "    city_median_income = Column(Integer)\n",
    "    city_population = Column(Integer)\n",
    "    city_crime_rate = Column(Float)\n",
    "    \n",
    "    def __repr__(self):\n",
    "        return (f'{self.__class__.__name__}('\n",
    "                f'{self.city_id}, '\n",
    "                f'{self.city_code}, '\n",
    "                f'{self.city_name}, '\n",
    "                f'{self.city_median_income}, '\n",
    "                f'{self.city_population}, '\n",
    "                f'{self.city_crime_rate})')"
   ]
  },
  {
   "cell_type": "code",
   "execution_count": null,
   "metadata": {},
   "outputs": [],
   "source": [
    "# MySQL Database Connection String\n",
    "MySQL_DB_Connection = f'{user}:{password}@localhost/student_mobility'"
   ]
  },
  {
   "cell_type": "code",
   "execution_count": null,
   "metadata": {},
   "outputs": [],
   "source": [
    "print(MySQL_DB_Connection)"
   ]
  },
  {
   "cell_type": "code",
   "execution_count": null,
   "metadata": {},
   "outputs": [],
   "source": [
    "# Establish Connection to Database\n",
    "try:\n",
    "    # Try to Connect to Existing StudentMobilityDB\n",
    "    engine = create_engine(f'mysql://{MySQL_DB_Connection}', echo=False)\n",
    "    connection = engine.connect()\n",
    "    print(f'\\n<Connected> MySQL Database: student_mobility')\n",
    "\n",
    "except exc.OperationalError:\n",
    "    # Existing Database Not Exist: Create New MySQL Database: Name='StudentMobilityDB'\n",
    "    MySQL_Base_Connection = f'{user}:{password}@localhost'\n",
    "    engine = create_engine(f'mysql://{MySQL_Base_Connection}', echo=False)\n",
    "    connection = engine.connect()\n",
    "    engine.execute('CREATE DATABASE IF NOT EXISTS student_mobility;')\n",
    "    engine = create_engine(f'mysql://{MySQL_DB_Connection}', echo=False)\n",
    "    print(f'\\n<Created> New MySQL Database: student_mobility [Connection: Established]')"
   ]
  },
  {
   "cell_type": "code",
   "execution_count": null,
   "metadata": {},
   "outputs": [],
   "source": [
    "Base.metadata.create_all(engine)"
   ]
  },
  {
   "cell_type": "code",
   "execution_count": null,
   "metadata": {},
   "outputs": [],
   "source": [
    "inspector = inspect(engine)\n",
    "inspector.get_table_names()"
   ]
  },
  {
   "cell_type": "code",
   "execution_count": null,
   "metadata": {},
   "outputs": [],
   "source": [
    "# Preview Table Fields - \"cities\"\n",
    "cities = [city['name'] for city in inspector.get_columns('cities')]\n",
    "cities"
   ]
  },
  {
   "cell_type": "code",
   "execution_count": null,
   "metadata": {},
   "outputs": [],
   "source": [
    "# Preview Table Fields - \"schools\"\n",
    "schools = [school['name'] for school in inspector.get_columns('schools')]\n",
    "schools"
   ]
  },
  {
   "cell_type": "code",
   "execution_count": null,
   "metadata": {},
   "outputs": [],
   "source": [
    "# Preview Table Fields - \"students\"\n",
    "students = [student['name'] for student in inspector.get_columns('students')]\n",
    "students"
   ]
  },
  {
   "cell_type": "code",
   "execution_count": null,
   "metadata": {},
   "outputs": [],
   "source": [
    "# Preview Table Fields - \"student_records\"\n",
    "records = [rec['name'] for rec in inspector.get_columns('student_records')]\n",
    "records"
   ]
  },
  {
   "cell_type": "code",
   "execution_count": null,
   "metadata": {},
   "outputs": [],
   "source": [
    "print('All done :)')"
   ]
  },
  {
   "cell_type": "code",
   "execution_count": null,
   "metadata": {},
   "outputs": [],
   "source": []
  }
 ],
 "metadata": {
  "kernelspec": {
   "display_name": "Python 3",
   "language": "python",
   "name": "python3"
  },
  "language_info": {
   "codemirror_mode": {
    "name": "ipython",
    "version": 3
   },
   "file_extension": ".py",
   "mimetype": "text/x-python",
   "name": "python",
   "nbconvert_exporter": "python",
   "pygments_lexer": "ipython3",
   "version": "3.6.7"
  }
 },
 "nbformat": 4,
 "nbformat_minor": 2
}
