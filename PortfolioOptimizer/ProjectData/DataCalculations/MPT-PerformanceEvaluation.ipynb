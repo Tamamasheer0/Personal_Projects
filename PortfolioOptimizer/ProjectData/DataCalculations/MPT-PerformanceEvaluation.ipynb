{
 "cells": [
  {
   "cell_type": "code",
   "execution_count": 1,
   "metadata": {},
   "outputs": [],
   "source": [
    "%matplotlib inline\n",
    "\n",
    "import matplotlib.pyplot as plt\n",
    "import datetime as dt\n",
    "import pandas as pd\n",
    "import numpy as np\n",
    "\n",
    "from apidata import (\n",
    "    closing_prices,\n",
    "    optimize_portfolio,\n",
    "    backtest_portfolio,\n",
    "    evaluate_portfolio,\n",
    ")"
   ]
  },
  {
   "cell_type": "code",
   "execution_count": 2,
   "metadata": {},
   "outputs": [],
   "source": [
    "# 1: <Good Performance> Select Stocks For Inclusion in Portfolio\n",
    "selected_stocks = [\"FCX\",\"GOOG\",\"F\"]"
   ]
  },
  {
   "cell_type": "code",
   "execution_count": 3,
   "metadata": {},
   "outputs": [
    {
     "name": "stdout",
     "output_type": "stream",
     "text": [
      "[0] Retrieving Stock Data: FCX\n",
      "[1] Retrieving Stock Data: GOOG\n",
      "[2] Retrieving Stock Data: F\n",
      "\n",
      "Optimizing Portfolio Weights >> Simulations: x 5000\n",
      "\n",
      "Optimized Portfolio Weights:\n",
      "F           0.0003\n",
      "FCX         0.0112\n",
      "GOOG        0.9885\n",
      "Return      0.1426\n",
      "Sharpe      0.1998\n",
      "Variance    0.2232\n",
      "Name: 467, dtype: float64\n"
     ]
    }
   ],
   "source": [
    "# 2: Optimize Portfolio Around List of Provided Stocks\n",
    "portfolio = optimize_portfolio(selected_stocks)"
   ]
  },
  {
   "cell_type": "code",
   "execution_count": 4,
   "metadata": {},
   "outputs": [
    {
     "name": "stdout",
     "output_type": "stream",
     "text": [
      "\n",
      "Ticker: F \tPortfolio Weight: 0.0003\n",
      "                   F\n",
      "Date                \n",
      "2014-01-03  0.000001\n",
      "2014-01-06  0.000001\n",
      "2014-01-07 -0.000004\n",
      "2014-01-08  0.000003\n",
      "2014-01-09  0.000006\n",
      "\n",
      "Ticker: FCX \tPortfolio Weight: 0.0112\n",
      "                 FCX\n",
      "Date                \n",
      "2014-01-03 -0.000093\n",
      "2014-01-06 -0.000090\n",
      "2014-01-07 -0.000109\n",
      "2014-01-08 -0.000141\n",
      "2014-01-09 -0.000153\n",
      "\n",
      "Ticker: GOOG \tPortfolio Weight: 0.9885\n",
      "                GOOG\n",
      "Date                \n",
      "2014-03-28  0.002704\n",
      "2014-03-31 -0.005345\n",
      "2014-04-01  0.017922\n",
      "2014-04-02 -0.000279\n",
      "2014-04-03  0.004765\n",
      "\n",
      "[Historic] Portfolio Performance:\n",
      "                    F       FCX      GOOG      RTNp\n",
      "Date                                              \n",
      "2014-03-28  0.000004  0.000154  0.002704  0.002863\n",
      "2014-03-31  0.000003  0.000071 -0.005345 -0.005271\n",
      "2014-04-01  0.000014 -0.000051  0.017922  0.017884\n",
      "2014-04-02  0.000003  0.000135 -0.000279 -0.000141\n",
      "2014-04-03 -0.000001  0.000030  0.004765  0.004794\n"
     ]
    }
   ],
   "source": [
    "# 3: Back-Test Performance of Optimized Portfolio Using Historical Data\n",
    "performance = backtest_portfolio(portfolio)"
   ]
  },
  {
   "cell_type": "code",
   "execution_count": 5,
   "metadata": {},
   "outputs": [
    {
     "name": "stdout",
     "output_type": "stream",
     "text": [
      "                   F       FCX      GOOG      RTNp      RTNm    Excess  \\\n",
      "Date                                                                     \n",
      "2014-03-28  0.000004  0.000154  0.002704  0.002863 -0.026811  0.029674   \n",
      "2014-03-31  0.000003  0.000071 -0.005345 -0.005271  0.019605 -0.024876   \n",
      "2014-04-01  0.000014 -0.000051  0.017922  0.017884 -0.008794  0.026678   \n",
      "2014-04-02  0.000003  0.000135 -0.000279 -0.000141  0.001535 -0.001676   \n",
      "2014-04-03 -0.000001  0.000030  0.004765  0.004794 -0.007698  0.012493   \n",
      "\n",
      "                 Compare  \n",
      "Date                      \n",
      "2014-03-28    Outperform  \n",
      "2014-03-31  Underperform  \n",
      "2014-04-01    Outperform  \n",
      "2014-04-02  Underperform  \n",
      "2014-04-03    Outperform  \n"
     ]
    }
   ],
   "source": [
    "# 4: Evaluate Portfolio Historic Performance Against Benchmark\n",
    "pfolio_eval = evaluate_portfolio(performance)"
   ]
  },
  {
   "cell_type": "code",
   "execution_count": 6,
   "metadata": {},
   "outputs": [
    {
     "data": {
      "text/html": [
       "<div>\n",
       "<style scoped>\n",
       "    .dataframe tbody tr th:only-of-type {\n",
       "        vertical-align: middle;\n",
       "    }\n",
       "\n",
       "    .dataframe tbody tr th {\n",
       "        vertical-align: top;\n",
       "    }\n",
       "\n",
       "    .dataframe thead th {\n",
       "        text-align: right;\n",
       "    }\n",
       "</style>\n",
       "<table border=\"1\" class=\"dataframe\">\n",
       "  <thead>\n",
       "    <tr style=\"text-align: right;\">\n",
       "      <th></th>\n",
       "      <th>F</th>\n",
       "      <th>FCX</th>\n",
       "      <th>GOOG</th>\n",
       "      <th>RTNp</th>\n",
       "      <th>RTNm</th>\n",
       "      <th>Excess</th>\n",
       "      <th>Compare</th>\n",
       "    </tr>\n",
       "    <tr>\n",
       "      <th>Date</th>\n",
       "      <th></th>\n",
       "      <th></th>\n",
       "      <th></th>\n",
       "      <th></th>\n",
       "      <th></th>\n",
       "      <th></th>\n",
       "      <th></th>\n",
       "    </tr>\n",
       "  </thead>\n",
       "  <tbody>\n",
       "    <tr>\n",
       "      <th>2014-03-28</th>\n",
       "      <td>0.000004</td>\n",
       "      <td>0.000154</td>\n",
       "      <td>0.002704</td>\n",
       "      <td>0.002863</td>\n",
       "      <td>-0.026811</td>\n",
       "      <td>0.029674</td>\n",
       "      <td>Outperform</td>\n",
       "    </tr>\n",
       "    <tr>\n",
       "      <th>2014-03-31</th>\n",
       "      <td>0.000003</td>\n",
       "      <td>0.000071</td>\n",
       "      <td>-0.005345</td>\n",
       "      <td>-0.005271</td>\n",
       "      <td>0.019605</td>\n",
       "      <td>-0.024876</td>\n",
       "      <td>Underperform</td>\n",
       "    </tr>\n",
       "    <tr>\n",
       "      <th>2014-04-01</th>\n",
       "      <td>0.000014</td>\n",
       "      <td>-0.000051</td>\n",
       "      <td>0.017922</td>\n",
       "      <td>0.017884</td>\n",
       "      <td>-0.008794</td>\n",
       "      <td>0.026678</td>\n",
       "      <td>Outperform</td>\n",
       "    </tr>\n",
       "    <tr>\n",
       "      <th>2014-04-02</th>\n",
       "      <td>0.000003</td>\n",
       "      <td>0.000135</td>\n",
       "      <td>-0.000279</td>\n",
       "      <td>-0.000141</td>\n",
       "      <td>0.001535</td>\n",
       "      <td>-0.001676</td>\n",
       "      <td>Underperform</td>\n",
       "    </tr>\n",
       "    <tr>\n",
       "      <th>2014-04-03</th>\n",
       "      <td>-0.000001</td>\n",
       "      <td>0.000030</td>\n",
       "      <td>0.004765</td>\n",
       "      <td>0.004794</td>\n",
       "      <td>-0.007698</td>\n",
       "      <td>0.012493</td>\n",
       "      <td>Outperform</td>\n",
       "    </tr>\n",
       "  </tbody>\n",
       "</table>\n",
       "</div>"
      ],
      "text/plain": [
       "                   F       FCX      GOOG      RTNp      RTNm    Excess  \\\n",
       "Date                                                                     \n",
       "2014-03-28  0.000004  0.000154  0.002704  0.002863 -0.026811  0.029674   \n",
       "2014-03-31  0.000003  0.000071 -0.005345 -0.005271  0.019605 -0.024876   \n",
       "2014-04-01  0.000014 -0.000051  0.017922  0.017884 -0.008794  0.026678   \n",
       "2014-04-02  0.000003  0.000135 -0.000279 -0.000141  0.001535 -0.001676   \n",
       "2014-04-03 -0.000001  0.000030  0.004765  0.004794 -0.007698  0.012493   \n",
       "\n",
       "                 Compare  \n",
       "Date                      \n",
       "2014-03-28    Outperform  \n",
       "2014-03-31  Underperform  \n",
       "2014-04-01    Outperform  \n",
       "2014-04-02  Underperform  \n",
       "2014-04-03    Outperform  "
      ]
     },
     "execution_count": 6,
     "metadata": {},
     "output_type": "execute_result"
    }
   ],
   "source": [
    "# [View] Portfolio Evaluation Summary\n",
    "pfolio_eval.head()"
   ]
  },
  {
   "cell_type": "code",
   "execution_count": null,
   "metadata": {
    "scrolled": true
   },
   "outputs": [],
   "source": [
    "# [View] Evaluation Sample Size\n",
    "pfolio_eval.count()"
   ]
  },
  {
   "cell_type": "code",
   "execution_count": null,
   "metadata": {
    "scrolled": true
   },
   "outputs": [],
   "source": [
    "# [View] Portfolio/Market Performance Comparison Summary\n",
    "round(pfolio_eval[\"Compare\"].value_counts()/pfolio_eval[\"Compare\"].count(), 4)"
   ]
  },
  {
   "cell_type": "code",
   "execution_count": null,
   "metadata": {},
   "outputs": [],
   "source": [
    "pfolio_eval[\"RTNp\"].head(10)"
   ]
  },
  {
   "cell_type": "code",
   "execution_count": null,
   "metadata": {},
   "outputs": [],
   "source": [
    "xaxis_dates = pfolio_eval.reset_index()[\"Date\"]\n",
    "xmin = xaxis_dates.iloc[0]\n",
    "xmax = xaxis_dates.iloc[-1]"
   ]
  },
  {
   "cell_type": "code",
   "execution_count": null,
   "metadata": {},
   "outputs": [],
   "source": [
    "# [View] Volatility of Portfolio Returns\n",
    "pfolio_eval[\"RTNp\"].plot(alpha=.75)\n",
    "plt.title(\"[Optimized] Volatility of Returns\")\n",
    "plt.xlabel(\"Dates\")\n",
    "plt.ylabel(\"Daily Return\")\n",
    "plt.ylim(-.08, .08)\n",
    "plt.grid(axis=\"y\", linestyle=\"dashed\")\n",
    "plt.hlines(.02, xmin, xmax, linestyle=\"dashed\", colors=\"red\")\n",
    "plt.hlines(-.02, xmin, xmax, linestyle=\"dashed\", colors=\"red\")"
   ]
  },
  {
   "cell_type": "code",
   "execution_count": null,
   "metadata": {},
   "outputs": [],
   "source": [
    "# [View] Volatility of Market Returns\n",
    "pfolio_eval[\"RTNm\"].plot(alpha=.75)\n",
    "plt.title(\"[S&P500] Volatility of Returns\")\n",
    "plt.xlabel(\"Date\")\n",
    "plt.ylabel(\"Daily Returns\")\n",
    "plt.ylim(-.08, .08)\n",
    "plt.grid(axis=\"y\", linestyle=\"dashed\")\n",
    "plt.hlines(.02, xmin, xmax, linestyle=\"dashed\", colors=\"red\")\n",
    "plt.hlines(-.02, xmin, xmax, linestyle=\"dashed\", colors=\"red\")"
   ]
  },
  {
   "cell_type": "code",
   "execution_count": null,
   "metadata": {},
   "outputs": [],
   "source": [
    "# Calculate Portfolio Beta -- Show The Correlation of Returns\n",
    "# Explanation as to Why On an Absolute Basis Portfolio Underpeforms Only Slightly\n"
   ]
  },
  {
   "cell_type": "code",
   "execution_count": null,
   "metadata": {},
   "outputs": [],
   "source": [
    "rtn_df = pfolio_eval[\"RTNp\"].apply(lambda x: x + 1).reset_index()"
   ]
  },
  {
   "cell_type": "code",
   "execution_count": null,
   "metadata": {},
   "outputs": [],
   "source": [
    "rtn_df.head()"
   ]
  },
  {
   "cell_type": "code",
   "execution_count": null,
   "metadata": {},
   "outputs": [],
   "source": [
    "rtn_df.iloc[0][\"Date\"].date()"
   ]
  },
  {
   "cell_type": "code",
   "execution_count": null,
   "metadata": {},
   "outputs": [],
   "source": [
    "mkt_val = [(row[1][0].date(), row[1][1]) for row in rtn_df.iterrows()]"
   ]
  },
  {
   "cell_type": "code",
   "execution_count": null,
   "metadata": {},
   "outputs": [],
   "source": [
    "mkt_val[:10]"
   ]
  },
  {
   "cell_type": "code",
   "execution_count": null,
   "metadata": {},
   "outputs": [],
   "source": [
    "pfolio_eval.describe()"
   ]
  },
  {
   "cell_type": "code",
   "execution_count": null,
   "metadata": {},
   "outputs": [],
   "source": []
  },
  {
   "cell_type": "code",
   "execution_count": null,
   "metadata": {},
   "outputs": [],
   "source": []
  }
 ],
 "metadata": {
  "kernelspec": {
   "display_name": "Python 3",
   "language": "python",
   "name": "python3"
  },
  "language_info": {
   "codemirror_mode": {
    "name": "ipython",
    "version": 3
   },
   "file_extension": ".py",
   "mimetype": "text/x-python",
   "name": "python",
   "nbconvert_exporter": "python",
   "pygments_lexer": "ipython3",
   "version": "3.6.7"
  }
 },
 "nbformat": 4,
 "nbformat_minor": 2
}
