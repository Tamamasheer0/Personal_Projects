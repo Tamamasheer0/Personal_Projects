{
 "cells": [
  {
   "cell_type": "code",
   "execution_count": 1,
   "metadata": {},
   "outputs": [],
   "source": [
    "%matplotlib inline\n",
    "\n",
    "import matplotlib.pyplot as plt\n",
    "import datetime as dt\n",
    "import pandas as pd\n",
    "import numpy as np\n",
    "\n",
    "from apidata import (\n",
    "    closing_prices,\n",
    "    optimize_portfolio,\n",
    "    backtest_portfolio,\n",
    "    evaluate_portfolio,\n",
    ")"
   ]
  },
  {
   "cell_type": "code",
   "execution_count": 2,
   "metadata": {},
   "outputs": [],
   "source": [
    "# 1: <Good Performance> Select Stocks For Inclusion in Portfolio\n",
    "selected_stocks = [\"FCX\",\"GOOG\",\"F\"]"
   ]
  },
  {
   "cell_type": "code",
   "execution_count": 3,
   "metadata": {},
   "outputs": [
    {
     "name": "stdout",
     "output_type": "stream",
     "text": [
      "[0] Retrieving Stock Data: FCX\n",
      "[1] Retrieving Stock Data: GOOG\n",
      "[2] Retrieving Stock Data: F\n",
      "\n",
      "Optimizing Portfolio Weights >> Simulations: x 5000\n",
      "\n",
      "Optimized Portfolio Weights:\n",
      "F           0.0120\n",
      "FCX         0.0629\n",
      "GOOG        0.9251\n",
      "Return      0.1242\n",
      "Sharpe      0.1206\n",
      "Variance    0.2172\n",
      "Name: 1305, dtype: float64\n"
     ]
    }
   ],
   "source": [
    "# 2: Optimize Portfolio Around List of Provided Stocks\n",
    "portfolio = optimize_portfolio(selected_stocks)"
   ]
  },
  {
   "cell_type": "code",
   "execution_count": 4,
   "metadata": {},
   "outputs": [
    {
     "name": "stdout",
     "output_type": "stream",
     "text": [
      "\n",
      "Ticker: F \tPortfolio Weight: 0.012\n",
      "                   F\n",
      "Date                \n",
      "2014-01-03  0.000054\n",
      "2014-01-06  0.000054\n",
      "2014-01-07 -0.000155\n",
      "2014-01-08  0.000124\n",
      "2014-01-09  0.000229\n",
      "\n",
      "Ticker: FCX \tPortfolio Weight: 0.0629\n",
      "                 FCX\n",
      "Date                \n",
      "2014-01-03 -0.000520\n",
      "2014-01-06 -0.000508\n",
      "2014-01-07 -0.000615\n",
      "2014-01-08 -0.000794\n",
      "2014-01-09 -0.000857\n",
      "\n",
      "Ticker: GOOG \tPortfolio Weight: 0.9251\n",
      "                GOOG\n",
      "Date                \n",
      "2014-03-28  0.002531\n",
      "2014-03-31 -0.005003\n",
      "2014-04-01  0.016772\n",
      "2014-04-02 -0.000261\n",
      "2014-04-03  0.004460\n",
      "\n",
      "[Historic] Portfolio Performance:\n",
      "                    F       FCX      GOOG      RTNp\n",
      "Date                                              \n",
      "2014-03-28  0.000156  0.000867  0.002531  0.003555\n",
      "2014-03-31  0.000116  0.000401 -0.005003 -0.004486\n",
      "2014-04-01  0.000541 -0.000286  0.016772  0.017028\n",
      "2014-04-02  0.000103  0.000760 -0.000261  0.000601\n",
      "2014-04-03 -0.000051  0.000170  0.004460  0.004578\n"
     ]
    }
   ],
   "source": [
    "# 3: Back-Test Performance of Optimized Portfolio Using Historical Data\n",
    "performance = backtest_portfolio(portfolio)"
   ]
  },
  {
   "cell_type": "code",
   "execution_count": 5,
   "metadata": {},
   "outputs": [
    {
     "name": "stdout",
     "output_type": "stream",
     "text": [
      "                   F       FCX      GOOG      RTNp      RTNm    Excess  \\\n",
      "Date                                                                     \n",
      "2014-03-28  0.000156  0.000867  0.002531  0.003555 -0.026811  0.030366   \n",
      "2014-03-31  0.000116  0.000401 -0.005003 -0.004486  0.019605 -0.024091   \n",
      "2014-04-01  0.000541 -0.000286  0.016772  0.017028 -0.008794  0.025821   \n",
      "2014-04-02  0.000103  0.000760 -0.000261  0.000601  0.001535 -0.000934   \n",
      "2014-04-03 -0.000051  0.000170  0.004460  0.004578 -0.007698  0.012277   \n",
      "\n",
      "                 Compare  \n",
      "Date                      \n",
      "2014-03-28    Outperform  \n",
      "2014-03-31  Underperform  \n",
      "2014-04-01    Outperform  \n",
      "2014-04-02  Underperform  \n",
      "2014-04-03    Outperform  \n"
     ]
    }
   ],
   "source": [
    "# 4: Evaluate Portfolio Historic Performance Against Benchmark\n",
    "pfolio_eval = evaluate_portfolio(performance)"
   ]
  },
  {
   "cell_type": "code",
   "execution_count": 6,
   "metadata": {},
   "outputs": [
    {
     "data": {
      "text/html": [
       "<div>\n",
       "<style scoped>\n",
       "    .dataframe tbody tr th:only-of-type {\n",
       "        vertical-align: middle;\n",
       "    }\n",
       "\n",
       "    .dataframe tbody tr th {\n",
       "        vertical-align: top;\n",
       "    }\n",
       "\n",
       "    .dataframe thead th {\n",
       "        text-align: right;\n",
       "    }\n",
       "</style>\n",
       "<table border=\"1\" class=\"dataframe\">\n",
       "  <thead>\n",
       "    <tr style=\"text-align: right;\">\n",
       "      <th></th>\n",
       "      <th>F</th>\n",
       "      <th>FCX</th>\n",
       "      <th>GOOG</th>\n",
       "      <th>RTNp</th>\n",
       "      <th>RTNm</th>\n",
       "      <th>Excess</th>\n",
       "      <th>Compare</th>\n",
       "    </tr>\n",
       "    <tr>\n",
       "      <th>Date</th>\n",
       "      <th></th>\n",
       "      <th></th>\n",
       "      <th></th>\n",
       "      <th></th>\n",
       "      <th></th>\n",
       "      <th></th>\n",
       "      <th></th>\n",
       "    </tr>\n",
       "  </thead>\n",
       "  <tbody>\n",
       "    <tr>\n",
       "      <th>2014-03-28</th>\n",
       "      <td>0.000156</td>\n",
       "      <td>0.000867</td>\n",
       "      <td>0.002531</td>\n",
       "      <td>0.003555</td>\n",
       "      <td>-0.026811</td>\n",
       "      <td>0.030366</td>\n",
       "      <td>Outperform</td>\n",
       "    </tr>\n",
       "    <tr>\n",
       "      <th>2014-03-31</th>\n",
       "      <td>0.000116</td>\n",
       "      <td>0.000401</td>\n",
       "      <td>-0.005003</td>\n",
       "      <td>-0.004486</td>\n",
       "      <td>0.019605</td>\n",
       "      <td>-0.024091</td>\n",
       "      <td>Underperform</td>\n",
       "    </tr>\n",
       "    <tr>\n",
       "      <th>2014-04-01</th>\n",
       "      <td>0.000541</td>\n",
       "      <td>-0.000286</td>\n",
       "      <td>0.016772</td>\n",
       "      <td>0.017028</td>\n",
       "      <td>-0.008794</td>\n",
       "      <td>0.025821</td>\n",
       "      <td>Outperform</td>\n",
       "    </tr>\n",
       "    <tr>\n",
       "      <th>2014-04-02</th>\n",
       "      <td>0.000103</td>\n",
       "      <td>0.000760</td>\n",
       "      <td>-0.000261</td>\n",
       "      <td>0.000601</td>\n",
       "      <td>0.001535</td>\n",
       "      <td>-0.000934</td>\n",
       "      <td>Underperform</td>\n",
       "    </tr>\n",
       "    <tr>\n",
       "      <th>2014-04-03</th>\n",
       "      <td>-0.000051</td>\n",
       "      <td>0.000170</td>\n",
       "      <td>0.004460</td>\n",
       "      <td>0.004578</td>\n",
       "      <td>-0.007698</td>\n",
       "      <td>0.012277</td>\n",
       "      <td>Outperform</td>\n",
       "    </tr>\n",
       "  </tbody>\n",
       "</table>\n",
       "</div>"
      ],
      "text/plain": [
       "                   F       FCX      GOOG      RTNp      RTNm    Excess  \\\n",
       "Date                                                                     \n",
       "2014-03-28  0.000156  0.000867  0.002531  0.003555 -0.026811  0.030366   \n",
       "2014-03-31  0.000116  0.000401 -0.005003 -0.004486  0.019605 -0.024091   \n",
       "2014-04-01  0.000541 -0.000286  0.016772  0.017028 -0.008794  0.025821   \n",
       "2014-04-02  0.000103  0.000760 -0.000261  0.000601  0.001535 -0.000934   \n",
       "2014-04-03 -0.000051  0.000170  0.004460  0.004578 -0.007698  0.012277   \n",
       "\n",
       "                 Compare  \n",
       "Date                      \n",
       "2014-03-28    Outperform  \n",
       "2014-03-31  Underperform  \n",
       "2014-04-01    Outperform  \n",
       "2014-04-02  Underperform  \n",
       "2014-04-03    Outperform  "
      ]
     },
     "execution_count": 6,
     "metadata": {},
     "output_type": "execute_result"
    }
   ],
   "source": [
    "# [View] Portfolio Evaluation Summary\n",
    "pfolio_eval.head()"
   ]
  },
  {
   "cell_type": "code",
   "execution_count": 7,
   "metadata": {
    "scrolled": true
   },
   "outputs": [
    {
     "data": {
      "text/plain": [
       "F          1006\n",
       "FCX        1006\n",
       "GOOG       1006\n",
       "RTNp       1006\n",
       "RTNm       1006\n",
       "Excess     1006\n",
       "Compare    1006\n",
       "dtype: int64"
      ]
     },
     "execution_count": 7,
     "metadata": {},
     "output_type": "execute_result"
    }
   ],
   "source": [
    "# [View] Evaluation Sample Size\n",
    "pfolio_eval.count()"
   ]
  },
  {
   "cell_type": "code",
   "execution_count": 8,
   "metadata": {
    "scrolled": true
   },
   "outputs": [
    {
     "data": {
      "text/plain": [
       "Outperform      0.5099\n",
       "Underperform    0.4901\n",
       "Name: Compare, dtype: float64"
      ]
     },
     "execution_count": 8,
     "metadata": {},
     "output_type": "execute_result"
    }
   ],
   "source": [
    "# [View] Portfolio/Market Performance Comparison Summary\n",
    "round(pfolio_eval[\"Compare\"].value_counts()/pfolio_eval[\"Compare\"].count(), 4)"
   ]
  },
  {
   "cell_type": "code",
   "execution_count": 9,
   "metadata": {},
   "outputs": [
    {
     "data": {
      "text/plain": [
       "Date\n",
       "2014-03-28    0.003555\n",
       "2014-03-31   -0.004486\n",
       "2014-04-01    0.017028\n",
       "2014-04-02    0.000601\n",
       "2014-04-03    0.004578\n",
       "2014-04-04   -0.044593\n",
       "2014-04-07   -0.009135\n",
       "2014-04-08    0.029493\n",
       "2014-04-09    0.015752\n",
       "2014-04-10   -0.040471\n",
       "Name: RTNp, dtype: float64"
      ]
     },
     "execution_count": 9,
     "metadata": {},
     "output_type": "execute_result"
    }
   ],
   "source": [
    "pfolio_eval[\"RTNp\"].head(10)"
   ]
  },
  {
   "cell_type": "code",
   "execution_count": 10,
   "metadata": {},
   "outputs": [],
   "source": [
    "xaxis_dates = pfolio_eval.reset_index()[\"Date\"]\n",
    "xmin = xaxis_dates.iloc[0]\n",
    "xmax = xaxis_dates.iloc[-1]"
   ]
  },
  {
   "cell_type": "code",
   "execution_count": 11,
   "metadata": {},
   "outputs": [
    {
     "data": {
      "text/plain": [
       "<matplotlib.collections.LineCollection at 0x15dfdaab438>"
      ]
     },
     "execution_count": 11,
     "metadata": {},
     "output_type": "execute_result"
    },
    {
     "data": {
      "image/png": "[encoded data removed]",
      "text/plain": [
       "<Figure size 432x288 with 1 Axes>"
      ]
     },
     "metadata": {
      "needs_background": "light"
     },
     "output_type": "display_data"
    }
   ],
   "source": [
    "# [View] Volatility of Portfolio Returns\n",
    "pfolio_eval[\"RTNp\"].plot(alpha=.75)\n",
    "plt.title(\"[Optimized] Volatility of Returns\")\n",
    "plt.xlabel(\"Dates\")\n",
    "plt.ylabel(\"Daily Return\")\n",
    "plt.ylim(-.08, .08)\n",
    "plt.grid(axis=\"y\", linestyle=\"dashed\")\n",
    "plt.hlines(.02, xmin, xmax, linestyle=\"dashed\", colors=\"red\")\n",
    "plt.hlines(-.02, xmin, xmax, linestyle=\"dashed\", colors=\"red\")"
   ]
  },
  {
   "cell_type": "code",
   "execution_count": 12,
   "metadata": {},
   "outputs": [
    {
     "data": {
      "text/plain": [
       "<matplotlib.collections.LineCollection at 0x15d8137d6a0>"
      ]
     },
     "execution_count": 12,
     "metadata": {},
     "output_type": "execute_result"
    },
    {
     "data": {
      "image/png": "[encoded data removed]",
      "text/plain": [
       "<Figure size 432x288 with 1 Axes>"
      ]
     },
     "metadata": {
      "needs_background": "light"
     },
     "output_type": "display_data"
    }
   ],
   "source": [
    "# [View] Volatility of Market Returns\n",
    "pfolio_eval[\"RTNm\"].plot(alpha=.75)\n",
    "plt.title(\"[S&P500] Volatility of Returns\")\n",
    "plt.xlabel(\"Date\")\n",
    "plt.ylabel(\"Daily Returns\")\n",
    "plt.ylim(-.08, .08)\n",
    "plt.grid(axis=\"y\", linestyle=\"dashed\")\n",
    "plt.hlines(.02, xmin, xmax, linestyle=\"dashed\", colors=\"red\")\n",
    "plt.hlines(-.02, xmin, xmax, linestyle=\"dashed\", colors=\"red\")"
   ]
  },
  {
   "cell_type": "code",
   "execution_count": null,
   "metadata": {},
   "outputs": [],
   "source": [
    "# Calculate Portfolio Beta -- Show The Correlation of Returns\n",
    "# Explanation as to Why On an Absolute Basis Portfolio Underpeforms Only Slightly\n"
   ]
  },
  {
   "cell_type": "code",
   "execution_count": null,
   "metadata": {},
   "outputs": [],
   "source": [
    "rtn_df = pfolio_eval[\"RTNp\"].apply(lambda x: x + 1).reset_index()"
   ]
  },
  {
   "cell_type": "code",
   "execution_count": null,
   "metadata": {},
   "outputs": [],
   "source": [
    "rtn_df.head()"
   ]
  },
  {
   "cell_type": "code",
   "execution_count": null,
   "metadata": {},
   "outputs": [],
   "source": [
    "rtn_df.iloc[0][\"Date\"].date()"
   ]
  },
  {
   "cell_type": "code",
   "execution_count": null,
   "metadata": {},
   "outputs": [],
   "source": [
    "mkt_val = [(row[1][0].date(), row[1][1]) for row in rtn_df.iterrows()]"
   ]
  },
  {
   "cell_type": "code",
   "execution_count": null,
   "metadata": {},
   "outputs": [],
   "source": [
    "mkt_val[:10]"
   ]
  },
  {
   "cell_type": "code",
   "execution_count": null,
   "metadata": {},
   "outputs": [],
   "source": [
    "pfolio_eval.describe()"
   ]
  },
  {
   "cell_type": "code",
   "execution_count": null,
   "metadata": {},
   "outputs": [],
   "source": []
  },
  {
   "cell_type": "code",
   "execution_count": null,
   "metadata": {},
   "outputs": [],
   "source": []
  }
 ],
 "metadata": {
  "kernelspec": {
   "display_name": "Python 3",
   "language": "python",
   "name": "python3"
  },
  "language_info": {
   "codemirror_mode": {
    "name": "ipython",
    "version": 3
   },
   "file_extension": ".py",
   "mimetype": "text/x-python",
   "name": "python",
   "nbconvert_exporter": "python",
   "pygments_lexer": "ipython3",
   "version": "3.6.7"
  }
 },
 "nbformat": 4,
 "nbformat_minor": 2
}
