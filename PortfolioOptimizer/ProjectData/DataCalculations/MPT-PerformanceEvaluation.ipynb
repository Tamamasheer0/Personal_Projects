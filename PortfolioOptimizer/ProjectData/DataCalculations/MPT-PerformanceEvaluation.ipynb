{
 "cells": [
  {
   "cell_type": "code",
   "execution_count": 1,
   "metadata": {},
   "outputs": [],
   "source": [
    "%matplotlib inline\n",
    "\n",
    "import matplotlib.pyplot as plt\n",
    "import datetime as dt\n",
    "import pandas as pd\n",
    "import numpy as np\n",
    "\n",
    "from apidata import (\n",
    "    closing_prices,\n",
    "    optimize_portfolio,\n",
    "    backtest_portfolio,\n",
    "    evaluate_portfolio,\n",
    ")"
   ]
  },
  {
   "cell_type": "code",
   "execution_count": 2,
   "metadata": {},
   "outputs": [],
   "source": [
    "# 1: <Good Performance> Select Stocks For Inclusion in Portfolio\n",
    "selected_stocks = [\"AMZN\",\"JPM\",\"FCX\",\"HAL\",\"F\"]"
   ]
  },
  {
   "cell_type": "code",
   "execution_count": 3,
   "metadata": {},
   "outputs": [
    {
     "name": "stdout",
     "output_type": "stream",
     "text": [
      "[0] Retrieving Stock Data: AMZN\n",
      "[1] Retrieving Stock Data: JPM\n",
      "[2] Retrieving Stock Data: FCX\n",
      "[3] Retrieving Stock Data: HAL\n",
      "[4] Retrieving Stock Data: F\n",
      "\n",
      "Optimizing Portfolio Weights >> Simulations: x 5000\n",
      "\n",
      "Optimized Portfolio Weights:\n",
      "AMZN        0.4794\n",
      "F           0.0179\n",
      "FCX         0.0069\n",
      "HAL         0.0064\n",
      "JPM         0.4895\n",
      "Return      0.2179\n",
      "Sharpe      0.5956\n",
      "Variance    0.2013\n",
      "Name: 4280, dtype: float64\n"
     ]
    }
   ],
   "source": [
    "# 2: Optimize Portfolio Around List of Provided Stocks\n",
    "portfolio = optimize_portfolio(selected_stocks)"
   ]
  },
  {
   "cell_type": "code",
   "execution_count": 4,
   "metadata": {},
   "outputs": [
    {
     "name": "stdout",
     "output_type": "stream",
     "text": [
      "\n",
      "Ticker: AMZN \tPortfolio Weight: 0.4794\n",
      "                AMZN\n",
      "Date                \n",
      "2014-01-03 -0.001847\n",
      "2014-01-06 -0.003410\n",
      "2014-01-07  0.005329\n",
      "2014-01-08  0.004662\n",
      "2014-01-09 -0.001087\n",
      "\n",
      "Ticker: F \tPortfolio Weight: 0.0179\n",
      "                   F\n",
      "Date                \n",
      "2014-01-03  0.000081\n",
      "2014-01-06  0.000081\n",
      "2014-01-07 -0.000231\n",
      "2014-01-08  0.000185\n",
      "2014-01-09  0.000342\n",
      "\n",
      "Ticker: FCX \tPortfolio Weight: 0.0069\n",
      "                 FCX\n",
      "Date                \n",
      "2014-01-03 -0.000057\n",
      "2014-01-06 -0.000056\n",
      "2014-01-07 -0.000067\n",
      "2014-01-08 -0.000087\n",
      "2014-01-09 -0.000094\n",
      "\n",
      "Ticker: HAL \tPortfolio Weight: 0.0064\n",
      "                 HAL\n",
      "Date                \n",
      "2014-01-03  0.000015\n",
      "2014-01-06  0.000024\n",
      "2014-01-07 -0.000015\n",
      "2014-01-08 -0.000090\n",
      "2014-01-09  0.000014\n",
      "\n",
      "Ticker: JPM \tPortfolio Weight: 0.4895\n",
      "                 JPM\n",
      "Date                \n",
      "2014-01-03  0.003770\n",
      "2014-01-06  0.002829\n",
      "2014-01-07 -0.005674\n",
      "2014-01-08  0.004595\n",
      "2014-01-09 -0.000915\n",
      "\n",
      "[Historic] Portfolio Performance:\n",
      "                 AMZN         F       FCX       HAL       JPM      RTNp\n",
      "Date                                                                  \n",
      "2014-01-03 -0.001847  0.000081 -0.000057  0.000015  0.003770  0.001962\n",
      "2014-01-06 -0.003410  0.000081 -0.000056  0.000024  0.002829 -0.000532\n",
      "2014-01-07  0.005329 -0.000231 -0.000067 -0.000015 -0.005674 -0.000659\n",
      "2014-01-08  0.004662  0.000185 -0.000087 -0.000090  0.004595  0.009265\n",
      "2014-01-09 -0.001087  0.000342 -0.000094  0.000014 -0.000915 -0.001740\n"
     ]
    }
   ],
   "source": [
    "# 3: Back-Test Performance of Optimized Portfolio Using Historical Data\n",
    "performance = backtest_portfolio(portfolio)"
   ]
  },
  {
   "cell_type": "code",
   "execution_count": 5,
   "metadata": {},
   "outputs": [
    {
     "name": "stdout",
     "output_type": "stream",
     "text": [
      "                AMZN         F       FCX       HAL       JPM      RTNp  \\\n",
      "Date                                                                     \n",
      "2014-01-03 -0.001847  0.000081 -0.000057  0.000015  0.003770  0.001962   \n",
      "2014-01-06 -0.003410  0.000081 -0.000056  0.000024  0.002829 -0.000532   \n",
      "2014-01-07  0.005329 -0.000231 -0.000067 -0.000015 -0.005674 -0.000659   \n",
      "2014-01-08  0.004662  0.000185 -0.000087 -0.000090  0.004595  0.009265   \n",
      "2014-01-09 -0.001087  0.000342 -0.000094  0.000014 -0.000915 -0.001740   \n",
      "\n",
      "                RTNm    Excess       Compare  \n",
      "Date                                          \n",
      "2014-01-03  0.005026 -0.003064  Underperform  \n",
      "2014-01-06 -0.021439  0.020907    Outperform  \n",
      "2014-01-07  0.005109 -0.005769  Underperform  \n",
      "2014-01-08 -0.005897  0.015163    Outperform  \n",
      "2014-01-09 -0.005932  0.004193    Outperform  \n"
     ]
    }
   ],
   "source": [
    "# 4: Evaluate Portfolio Historic Performance Against Benchmark\n",
    "pfolio_eval = evaluate_portfolio(performance)"
   ]
  },
  {
   "cell_type": "code",
   "execution_count": 6,
   "metadata": {},
   "outputs": [
    {
     "data": {
      "text/html": [
       "<div>\n",
       "<style scoped>\n",
       "    .dataframe tbody tr th:only-of-type {\n",
       "        vertical-align: middle;\n",
       "    }\n",
       "\n",
       "    .dataframe tbody tr th {\n",
       "        vertical-align: top;\n",
       "    }\n",
       "\n",
       "    .dataframe thead th {\n",
       "        text-align: right;\n",
       "    }\n",
       "</style>\n",
       "<table border=\"1\" class=\"dataframe\">\n",
       "  <thead>\n",
       "    <tr style=\"text-align: right;\">\n",
       "      <th></th>\n",
       "      <th>AMZN</th>\n",
       "      <th>F</th>\n",
       "      <th>FCX</th>\n",
       "      <th>HAL</th>\n",
       "      <th>JPM</th>\n",
       "      <th>RTNp</th>\n",
       "      <th>RTNm</th>\n",
       "      <th>Excess</th>\n",
       "      <th>Compare</th>\n",
       "    </tr>\n",
       "    <tr>\n",
       "      <th>Date</th>\n",
       "      <th></th>\n",
       "      <th></th>\n",
       "      <th></th>\n",
       "      <th></th>\n",
       "      <th></th>\n",
       "      <th></th>\n",
       "      <th></th>\n",
       "      <th></th>\n",
       "      <th></th>\n",
       "    </tr>\n",
       "  </thead>\n",
       "  <tbody>\n",
       "    <tr>\n",
       "      <th>2014-01-03</th>\n",
       "      <td>-0.001847</td>\n",
       "      <td>0.000081</td>\n",
       "      <td>-0.000057</td>\n",
       "      <td>0.000015</td>\n",
       "      <td>0.003770</td>\n",
       "      <td>0.001962</td>\n",
       "      <td>0.005026</td>\n",
       "      <td>-0.003064</td>\n",
       "      <td>Underperform</td>\n",
       "    </tr>\n",
       "    <tr>\n",
       "      <th>2014-01-06</th>\n",
       "      <td>-0.003410</td>\n",
       "      <td>0.000081</td>\n",
       "      <td>-0.000056</td>\n",
       "      <td>0.000024</td>\n",
       "      <td>0.002829</td>\n",
       "      <td>-0.000532</td>\n",
       "      <td>-0.021439</td>\n",
       "      <td>0.020907</td>\n",
       "      <td>Outperform</td>\n",
       "    </tr>\n",
       "    <tr>\n",
       "      <th>2014-01-07</th>\n",
       "      <td>0.005329</td>\n",
       "      <td>-0.000231</td>\n",
       "      <td>-0.000067</td>\n",
       "      <td>-0.000015</td>\n",
       "      <td>-0.005674</td>\n",
       "      <td>-0.000659</td>\n",
       "      <td>0.005109</td>\n",
       "      <td>-0.005769</td>\n",
       "      <td>Underperform</td>\n",
       "    </tr>\n",
       "    <tr>\n",
       "      <th>2014-01-08</th>\n",
       "      <td>0.004662</td>\n",
       "      <td>0.000185</td>\n",
       "      <td>-0.000087</td>\n",
       "      <td>-0.000090</td>\n",
       "      <td>0.004595</td>\n",
       "      <td>0.009265</td>\n",
       "      <td>-0.005897</td>\n",
       "      <td>0.015163</td>\n",
       "      <td>Outperform</td>\n",
       "    </tr>\n",
       "    <tr>\n",
       "      <th>2014-01-09</th>\n",
       "      <td>-0.001087</td>\n",
       "      <td>0.000342</td>\n",
       "      <td>-0.000094</td>\n",
       "      <td>0.000014</td>\n",
       "      <td>-0.000915</td>\n",
       "      <td>-0.001740</td>\n",
       "      <td>-0.005932</td>\n",
       "      <td>0.004193</td>\n",
       "      <td>Outperform</td>\n",
       "    </tr>\n",
       "  </tbody>\n",
       "</table>\n",
       "</div>"
      ],
      "text/plain": [
       "                AMZN         F       FCX       HAL       JPM      RTNp  \\\n",
       "Date                                                                     \n",
       "2014-01-03 -0.001847  0.000081 -0.000057  0.000015  0.003770  0.001962   \n",
       "2014-01-06 -0.003410  0.000081 -0.000056  0.000024  0.002829 -0.000532   \n",
       "2014-01-07  0.005329 -0.000231 -0.000067 -0.000015 -0.005674 -0.000659   \n",
       "2014-01-08  0.004662  0.000185 -0.000087 -0.000090  0.004595  0.009265   \n",
       "2014-01-09 -0.001087  0.000342 -0.000094  0.000014 -0.000915 -0.001740   \n",
       "\n",
       "                RTNm    Excess       Compare  \n",
       "Date                                          \n",
       "2014-01-03  0.005026 -0.003064  Underperform  \n",
       "2014-01-06 -0.021439  0.020907    Outperform  \n",
       "2014-01-07  0.005109 -0.005769  Underperform  \n",
       "2014-01-08 -0.005897  0.015163    Outperform  \n",
       "2014-01-09 -0.005932  0.004193    Outperform  "
      ]
     },
     "execution_count": 6,
     "metadata": {},
     "output_type": "execute_result"
    }
   ],
   "source": [
    "# [View] Portfolio Evaluation Summary\n",
    "pfolio_eval.head()"
   ]
  },
  {
   "cell_type": "code",
   "execution_count": 7,
   "metadata": {
    "scrolled": true
   },
   "outputs": [
    {
     "data": {
      "text/plain": [
       "AMZN       1063\n",
       "F          1063\n",
       "FCX        1063\n",
       "HAL        1063\n",
       "JPM        1063\n",
       "RTNp       1063\n",
       "RTNm       1063\n",
       "Excess     1063\n",
       "Compare    1063\n",
       "dtype: int64"
      ]
     },
     "execution_count": 7,
     "metadata": {},
     "output_type": "execute_result"
    }
   ],
   "source": [
    "# [View] Evaluation Sample Size\n",
    "pfolio_eval.count()"
   ]
  },
  {
   "cell_type": "code",
   "execution_count": 8,
   "metadata": {
    "scrolled": true
   },
   "outputs": [
    {
     "data": {
      "text/plain": [
       "Outperform      0.5146\n",
       "Underperform    0.4854\n",
       "Name: Compare, dtype: float64"
      ]
     },
     "execution_count": 8,
     "metadata": {},
     "output_type": "execute_result"
    }
   ],
   "source": [
    "# [View] Portfolio/Market Performance Comparison Summary\n",
    "round(pfolio_eval[\"Compare\"].value_counts()/pfolio_eval[\"Compare\"].count(), 4)"
   ]
  },
  {
   "cell_type": "code",
   "execution_count": 9,
   "metadata": {},
   "outputs": [
    {
     "data": {
      "text/plain": [
       "Date\n",
       "2014-01-03    0.001962\n",
       "2014-01-06   -0.000532\n",
       "2014-01-07   -0.000659\n",
       "2014-01-08    0.009265\n",
       "2014-01-09   -0.001740\n",
       "2014-01-10   -0.005813\n",
       "2014-01-13   -0.014958\n",
       "2014-01-14    0.008835\n",
       "2014-01-15    0.013045\n",
       "2014-01-16   -0.004095\n",
       "Name: RTNp, dtype: float64"
      ]
     },
     "execution_count": 9,
     "metadata": {},
     "output_type": "execute_result"
    }
   ],
   "source": [
    "pfolio_eval[\"RTNp\"].head(10)"
   ]
  },
  {
   "cell_type": "code",
   "execution_count": 10,
   "metadata": {},
   "outputs": [],
   "source": [
    "xaxis_dates = pfolio_eval.reset_index()[\"Date\"]\n",
    "xmin = xaxis_dates.iloc[0]\n",
    "xmax = xaxis_dates.iloc[-1]"
   ]
  },
  {
   "cell_type": "code",
   "execution_count": 11,
   "metadata": {},
   "outputs": [
    {
     "data": {
      "text/plain": [
       "<matplotlib.collections.LineCollection at 0x26e66bc78d0>"
      ]
     },
     "execution_count": 11,
     "metadata": {},
     "output_type": "execute_result"
    },
    {
     "data": {
      "image/png": "[encoded data removed]",
      "text/plain": [
       "<Figure size 432x288 with 1 Axes>"
      ]
     },
     "metadata": {
      "needs_background": "light"
     },
     "output_type": "display_data"
    }
   ],
   "source": [
    "# [View] Volatility of Portfolio Returns\n",
    "pfolio_eval[\"RTNp\"].plot(alpha=.75)\n",
    "plt.title(\"[Optimized] Volatility of Returns\")\n",
    "plt.xlabel(\"Dates\")\n",
    "plt.ylabel(\"Daily Return\")\n",
    "plt.ylim(-.08, .08)\n",
    "plt.grid(axis=\"y\", linestyle=\"dashed\")\n",
    "plt.hlines(.02, xmin, xmax, linestyle=\"dashed\", colors=\"red\")\n",
    "plt.hlines(-.02, xmin, xmax, linestyle=\"dashed\", colors=\"red\")"
   ]
  },
  {
   "cell_type": "code",
   "execution_count": 12,
   "metadata": {},
   "outputs": [
    {
     "data": {
      "text/plain": [
       "<matplotlib.collections.LineCollection at 0x26e678f0a20>"
      ]
     },
     "execution_count": 12,
     "metadata": {},
     "output_type": "execute_result"
    },
    {
     "data": {
      "image/png": "[encoded data removed]",
      "text/plain": [
       "<Figure size 432x288 with 1 Axes>"
      ]
     },
     "metadata": {
      "needs_background": "light"
     },
     "output_type": "display_data"
    }
   ],
   "source": [
    "# [View] Volatility of Market Returns\n",
    "pfolio_eval[\"RTNm\"].plot(alpha=.75)\n",
    "plt.title(\"[S&P500] Volatility of Returns\")\n",
    "plt.xlabel(\"Date\")\n",
    "plt.ylabel(\"Daily Returns\")\n",
    "plt.ylim(-.08, .08)\n",
    "plt.grid(axis=\"y\", linestyle=\"dashed\")\n",
    "plt.hlines(.02, xmin, xmax, linestyle=\"dashed\", colors=\"red\")\n",
    "plt.hlines(-.02, xmin, xmax, linestyle=\"dashed\", colors=\"red\")"
   ]
  },
  {
   "cell_type": "code",
   "execution_count": 13,
   "metadata": {},
   "outputs": [],
   "source": [
    "# Calculate Portfolio Beta -- Show The Correlation of Returns\n",
    "# Explanation as to Why On an Absolute Basis Portfolio Underpeforms Only Slightly\n"
   ]
  },
  {
   "cell_type": "code",
   "execution_count": 14,
   "metadata": {},
   "outputs": [],
   "source": [
    "rtn_df = pfolio_eval[\"RTNp\"].apply(lambda x: x + 1).reset_index()"
   ]
  },
  {
   "cell_type": "code",
   "execution_count": 15,
   "metadata": {},
   "outputs": [
    {
     "data": {
      "text/html": [
       "<div>\n",
       "<style scoped>\n",
       "    .dataframe tbody tr th:only-of-type {\n",
       "        vertical-align: middle;\n",
       "    }\n",
       "\n",
       "    .dataframe tbody tr th {\n",
       "        vertical-align: top;\n",
       "    }\n",
       "\n",
       "    .dataframe thead th {\n",
       "        text-align: right;\n",
       "    }\n",
       "</style>\n",
       "<table border=\"1\" class=\"dataframe\">\n",
       "  <thead>\n",
       "    <tr style=\"text-align: right;\">\n",
       "      <th></th>\n",
       "      <th>Date</th>\n",
       "      <th>RTNp</th>\n",
       "    </tr>\n",
       "  </thead>\n",
       "  <tbody>\n",
       "    <tr>\n",
       "      <th>0</th>\n",
       "      <td>2014-01-03</td>\n",
       "      <td>1.001962</td>\n",
       "    </tr>\n",
       "    <tr>\n",
       "      <th>1</th>\n",
       "      <td>2014-01-06</td>\n",
       "      <td>0.999468</td>\n",
       "    </tr>\n",
       "    <tr>\n",
       "      <th>2</th>\n",
       "      <td>2014-01-07</td>\n",
       "      <td>0.999341</td>\n",
       "    </tr>\n",
       "    <tr>\n",
       "      <th>3</th>\n",
       "      <td>2014-01-08</td>\n",
       "      <td>1.009265</td>\n",
       "    </tr>\n",
       "    <tr>\n",
       "      <th>4</th>\n",
       "      <td>2014-01-09</td>\n",
       "      <td>0.998260</td>\n",
       "    </tr>\n",
       "  </tbody>\n",
       "</table>\n",
       "</div>"
      ],
      "text/plain": [
       "        Date      RTNp\n",
       "0 2014-01-03  1.001962\n",
       "1 2014-01-06  0.999468\n",
       "2 2014-01-07  0.999341\n",
       "3 2014-01-08  1.009265\n",
       "4 2014-01-09  0.998260"
      ]
     },
     "execution_count": 15,
     "metadata": {},
     "output_type": "execute_result"
    }
   ],
   "source": [
    "rtn_df.head()"
   ]
  },
  {
   "cell_type": "code",
   "execution_count": 16,
   "metadata": {},
   "outputs": [
    {
     "data": {
      "text/plain": [
       "datetime.date(2014, 1, 3)"
      ]
     },
     "execution_count": 16,
     "metadata": {},
     "output_type": "execute_result"
    }
   ],
   "source": [
    "rtn_df.iloc[0][\"Date\"].date()"
   ]
  },
  {
   "cell_type": "code",
   "execution_count": 17,
   "metadata": {},
   "outputs": [],
   "source": [
    "mkt_val = [(row[1][0].date(), row[1][1]) for row in rtn_df.iterrows()]"
   ]
  },
  {
   "cell_type": "code",
   "execution_count": 18,
   "metadata": {},
   "outputs": [
    {
     "data": {
      "text/plain": [
       "[(datetime.date(2014, 1, 3), 1.001962210800478),\n",
       " (datetime.date(2014, 1, 6), 0.9994680048138288),\n",
       " (datetime.date(2014, 1, 7), 0.9993405736972956),\n",
       " (datetime.date(2014, 1, 8), 1.0092654578828253),\n",
       " (datetime.date(2014, 1, 9), 0.9982602838152678),\n",
       " (datetime.date(2014, 1, 10), 0.9941865875109595),\n",
       " (datetime.date(2014, 1, 13), 0.9850424819963217),\n",
       " (datetime.date(2014, 1, 14), 1.0088346175309344),\n",
       " (datetime.date(2014, 1, 15), 1.0130452561087542),\n",
       " (datetime.date(2014, 1, 16), 0.9959049124313001)]"
      ]
     },
     "execution_count": 18,
     "metadata": {},
     "output_type": "execute_result"
    }
   ],
   "source": [
    "mkt_val[:10]"
   ]
  },
  {
   "cell_type": "code",
   "execution_count": 19,
   "metadata": {},
   "outputs": [
    {
     "data": {
      "text/html": [
       "<div>\n",
       "<style scoped>\n",
       "    .dataframe tbody tr th:only-of-type {\n",
       "        vertical-align: middle;\n",
       "    }\n",
       "\n",
       "    .dataframe tbody tr th {\n",
       "        vertical-align: top;\n",
       "    }\n",
       "\n",
       "    .dataframe thead th {\n",
       "        text-align: right;\n",
       "    }\n",
       "</style>\n",
       "<table border=\"1\" class=\"dataframe\">\n",
       "  <thead>\n",
       "    <tr style=\"text-align: right;\">\n",
       "      <th></th>\n",
       "      <th>AMZN</th>\n",
       "      <th>F</th>\n",
       "      <th>FCX</th>\n",
       "      <th>HAL</th>\n",
       "      <th>JPM</th>\n",
       "      <th>RTNp</th>\n",
       "      <th>RTNm</th>\n",
       "      <th>Excess</th>\n",
       "    </tr>\n",
       "  </thead>\n",
       "  <tbody>\n",
       "    <tr>\n",
       "      <th>count</th>\n",
       "      <td>1063.000000</td>\n",
       "      <td>1063.000000</td>\n",
       "      <td>1063.000000</td>\n",
       "      <td>1.063000e+03</td>\n",
       "      <td>1063.000000</td>\n",
       "      <td>1063.000000</td>\n",
       "      <td>1063.000000</td>\n",
       "      <td>1063.000000</td>\n",
       "    </tr>\n",
       "    <tr>\n",
       "      <th>mean</th>\n",
       "      <td>0.000598</td>\n",
       "      <td>-0.000006</td>\n",
       "      <td>-0.000005</td>\n",
       "      <td>-3.111991e-07</td>\n",
       "      <td>0.000284</td>\n",
       "      <td>0.000870</td>\n",
       "      <td>0.000294</td>\n",
       "      <td>0.000576</td>\n",
       "    </tr>\n",
       "    <tr>\n",
       "      <th>std</th>\n",
       "      <td>0.008895</td>\n",
       "      <td>0.000256</td>\n",
       "      <td>0.000250</td>\n",
       "      <td>1.252565e-04</td>\n",
       "      <td>0.006429</td>\n",
       "      <td>0.012729</td>\n",
       "      <td>0.017077</td>\n",
       "      <td>0.018689</td>\n",
       "    </tr>\n",
       "    <tr>\n",
       "      <th>min</th>\n",
       "      <td>-0.055851</td>\n",
       "      <td>-0.001525</td>\n",
       "      <td>-0.001568</td>\n",
       "      <td>-7.355865e-04</td>\n",
       "      <td>-0.035248</td>\n",
       "      <td>-0.061878</td>\n",
       "      <td>-0.076003</td>\n",
       "      <td>-0.084049</td>\n",
       "    </tr>\n",
       "    <tr>\n",
       "      <th>25%</th>\n",
       "      <td>-0.003315</td>\n",
       "      <td>-0.000130</td>\n",
       "      <td>-0.000120</td>\n",
       "      <td>-6.657306e-05</td>\n",
       "      <td>-0.002701</td>\n",
       "      <td>-0.004968</td>\n",
       "      <td>-0.008794</td>\n",
       "      <td>-0.009510</td>\n",
       "    </tr>\n",
       "    <tr>\n",
       "      <th>50%</th>\n",
       "      <td>0.000532</td>\n",
       "      <td>0.000000</td>\n",
       "      <td>-0.000003</td>\n",
       "      <td>-1.455041e-06</td>\n",
       "      <td>0.000261</td>\n",
       "      <td>0.001063</td>\n",
       "      <td>0.000000</td>\n",
       "      <td>0.000486</td>\n",
       "    </tr>\n",
       "    <tr>\n",
       "      <th>75%</th>\n",
       "      <td>0.004952</td>\n",
       "      <td>0.000144</td>\n",
       "      <td>0.000104</td>\n",
       "      <td>7.345835e-05</td>\n",
       "      <td>0.003657</td>\n",
       "      <td>0.007231</td>\n",
       "      <td>0.009350</td>\n",
       "      <td>0.011200</td>\n",
       "    </tr>\n",
       "    <tr>\n",
       "      <th>max</th>\n",
       "      <td>0.063366</td>\n",
       "      <td>0.000887</td>\n",
       "      <td>0.001739</td>\n",
       "      <td>6.731019e-04</td>\n",
       "      <td>0.039160</td>\n",
       "      <td>0.062047</td>\n",
       "      <td>0.082238</td>\n",
       "      <td>0.094025</td>\n",
       "    </tr>\n",
       "  </tbody>\n",
       "</table>\n",
       "</div>"
      ],
      "text/plain": [
       "              AMZN            F          FCX           HAL          JPM  \\\n",
       "count  1063.000000  1063.000000  1063.000000  1.063000e+03  1063.000000   \n",
       "mean      0.000598    -0.000006    -0.000005 -3.111991e-07     0.000284   \n",
       "std       0.008895     0.000256     0.000250  1.252565e-04     0.006429   \n",
       "min      -0.055851    -0.001525    -0.001568 -7.355865e-04    -0.035248   \n",
       "25%      -0.003315    -0.000130    -0.000120 -6.657306e-05    -0.002701   \n",
       "50%       0.000532     0.000000    -0.000003 -1.455041e-06     0.000261   \n",
       "75%       0.004952     0.000144     0.000104  7.345835e-05     0.003657   \n",
       "max       0.063366     0.000887     0.001739  6.731019e-04     0.039160   \n",
       "\n",
       "              RTNp         RTNm       Excess  \n",
       "count  1063.000000  1063.000000  1063.000000  \n",
       "mean      0.000870     0.000294     0.000576  \n",
       "std       0.012729     0.017077     0.018689  \n",
       "min      -0.061878    -0.076003    -0.084049  \n",
       "25%      -0.004968    -0.008794    -0.009510  \n",
       "50%       0.001063     0.000000     0.000486  \n",
       "75%       0.007231     0.009350     0.011200  \n",
       "max       0.062047     0.082238     0.094025  "
      ]
     },
     "execution_count": 19,
     "metadata": {},
     "output_type": "execute_result"
    }
   ],
   "source": [
    "pfolio_eval.describe()"
   ]
  },
  {
   "cell_type": "code",
   "execution_count": null,
   "metadata": {},
   "outputs": [],
   "source": []
  },
  {
   "cell_type": "code",
   "execution_count": null,
   "metadata": {},
   "outputs": [],
   "source": []
  }
 ],
 "metadata": {
  "kernelspec": {
   "display_name": "Python 3",
   "language": "python",
   "name": "python3"
  },
  "language_info": {
   "codemirror_mode": {
    "name": "ipython",
    "version": 3
   },
   "file_extension": ".py",
   "mimetype": "text/x-python",
   "name": "python",
   "nbconvert_exporter": "python",
   "pygments_lexer": "ipython3",
   "version": "3.6.7"
  }
 },
 "nbformat": 4,
 "nbformat_minor": 2
}
