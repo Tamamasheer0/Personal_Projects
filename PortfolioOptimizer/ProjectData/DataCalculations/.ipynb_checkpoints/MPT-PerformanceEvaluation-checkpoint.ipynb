{
 "cells": [
  {
   "cell_type": "code",
   "execution_count": 1,
   "metadata": {},
   "outputs": [],
   "source": [
    "%matplotlib inline\n",
    "\n",
    "import matplotlib.pyplot as plt\n",
    "import datetime as dt\n",
    "import pandas as pd\n",
    "import numpy as np\n",
    "\n",
    "from apidata import (\n",
    "    closing_prices,\n",
    "    optimize_portfolio,\n",
    "    backtest_portfolio,\n",
    "    evaluate_portfolio,\n",
    ")"
   ]
  },
  {
   "cell_type": "code",
   "execution_count": 2,
   "metadata": {},
   "outputs": [],
   "source": [
    "# 1: <Good Performance> Select Stocks For Inclusion in Portfolio\n",
    "selected_stocks = [\"AMZN\",\"JPM\",\"FCX\",\"HAL\",\"F\"]"
   ]
  },
  {
   "cell_type": "code",
   "execution_count": 3,
   "metadata": {},
   "outputs": [
    {
     "name": "stdout",
     "output_type": "stream",
     "text": [
      "[0] Retrieving Stock Data: AMZN\n",
      "[1] Retrieving Stock Data: JPM\n",
      "[2] Retrieving Stock Data: FCX\n",
      "[3] Retrieving Stock Data: HAL\n",
      "[4] Retrieving Stock Data: F\n",
      "\n",
      "Optimizing Portfolio Weights >> Simulations: x 5000\n",
      "\n",
      "Optimized Portfolio Weights:\n",
      "AMZN        0.5595\n",
      "F           0.0342\n",
      "FCX         0.0045\n",
      "HAL         0.0850\n",
      "JPM         0.3169\n",
      "Return      0.2155\n",
      "Sharpe      0.5609\n",
      "Variance    0.2095\n",
      "Name: 2049, dtype: float64\n"
     ]
    }
   ],
   "source": [
    "# 2: Optimize Portfolio Around List of Provided Stocks\n",
    "portfolio = optimize_portfolio(selected_stocks)"
   ]
  },
  {
   "cell_type": "code",
   "execution_count": 4,
   "metadata": {},
   "outputs": [
    {
     "name": "stdout",
     "output_type": "stream",
     "text": [
      "\n",
      "Ticker: AMZN \tPortfolio Weight: 0.5595\n",
      "                AMZN\n",
      "Date                \n",
      "2014-01-03 -0.002155\n",
      "2014-01-06 -0.003980\n",
      "2014-01-07  0.006219\n",
      "2014-01-08  0.005442\n",
      "2014-01-09 -0.001268\n",
      "\n",
      "Ticker: F \tPortfolio Weight: 0.0342\n",
      "                   F\n",
      "Date                \n",
      "2014-01-03  0.000155\n",
      "2014-01-06  0.000154\n",
      "2014-01-07 -0.000442\n",
      "2014-01-08  0.000354\n",
      "2014-01-09  0.000654\n",
      "\n",
      "Ticker: FCX \tPortfolio Weight: 0.0045\n",
      "                 FCX\n",
      "Date                \n",
      "2014-01-03 -0.000037\n",
      "2014-01-06 -0.000036\n",
      "2014-01-07 -0.000044\n",
      "2014-01-08 -0.000057\n",
      "2014-01-09 -0.000061\n",
      "\n",
      "Ticker: HAL \tPortfolio Weight: 0.085\n",
      "                 HAL\n",
      "Date                \n",
      "2014-01-03  0.000204\n",
      "2014-01-06  0.000322\n",
      "2014-01-07 -0.000203\n",
      "2014-01-08 -0.001194\n",
      "2014-01-09  0.000189\n",
      "\n",
      "Ticker: JPM \tPortfolio Weight: 0.3169\n",
      "                 JPM\n",
      "Date                \n",
      "2014-01-03  0.002440\n",
      "2014-01-06  0.001831\n",
      "2014-01-07 -0.003674\n",
      "2014-01-08  0.002975\n",
      "2014-01-09 -0.000593\n",
      "\n",
      "[Historic] Portfolio Performance:\n",
      "                 AMZN         F       FCX       HAL       JPM      RTNp\n",
      "Date                                                                  \n",
      "2014-01-03 -0.002155  0.000155 -0.000037  0.000204  0.002440  0.000606\n",
      "2014-01-06 -0.003980  0.000154 -0.000036  0.000322  0.001831 -0.001709\n",
      "2014-01-07  0.006219 -0.000442 -0.000044 -0.000203 -0.003674  0.001857\n",
      "2014-01-08  0.005442  0.000354 -0.000057 -0.001194  0.002975  0.007520\n",
      "2014-01-09 -0.001268  0.000654 -0.000061  0.000189 -0.000593 -0.001080\n"
     ]
    }
   ],
   "source": [
    "# 3: Back-Test Performance of Optimized Portfolio Using Historical Data\n",
    "performance = backtest_portfolio(portfolio)"
   ]
  },
  {
   "cell_type": "code",
   "execution_count": 5,
   "metadata": {},
   "outputs": [
    {
     "name": "stdout",
     "output_type": "stream",
     "text": [
      "                AMZN         F       FCX       HAL       JPM      RTNp  \\\n",
      "Date                                                                     \n",
      "2014-01-03 -0.002155  0.000155 -0.000037  0.000204  0.002440  0.000606   \n",
      "2014-01-06 -0.003980  0.000154 -0.000036  0.000322  0.001831 -0.001709   \n",
      "2014-01-07  0.006219 -0.000442 -0.000044 -0.000203 -0.003674  0.001857   \n",
      "2014-01-08  0.005442  0.000354 -0.000057 -0.001194  0.002975  0.007520   \n",
      "2014-01-09 -0.001268  0.000654 -0.000061  0.000189 -0.000593 -0.001080   \n",
      "\n",
      "                RTNm    Excess       Compare  \n",
      "Date                                          \n",
      "2014-01-03  0.005026 -0.004420  Underperform  \n",
      "2014-01-06 -0.021439  0.019730    Outperform  \n",
      "2014-01-07  0.005109 -0.003252  Underperform  \n",
      "2014-01-08 -0.005897  0.013417    Outperform  \n",
      "2014-01-09 -0.005932  0.004853    Outperform  \n"
     ]
    }
   ],
   "source": [
    "# 4: Evaluate Portfolio Historic Performance Against Benchmark\n",
    "pfolio_eval = evaluate_portfolio(performance)"
   ]
  },
  {
   "cell_type": "code",
   "execution_count": 6,
   "metadata": {},
   "outputs": [
    {
     "data": {
      "text/html": [
       "<div>\n",
       "<style scoped>\n",
       "    .dataframe tbody tr th:only-of-type {\n",
       "        vertical-align: middle;\n",
       "    }\n",
       "\n",
       "    .dataframe tbody tr th {\n",
       "        vertical-align: top;\n",
       "    }\n",
       "\n",
       "    .dataframe thead th {\n",
       "        text-align: right;\n",
       "    }\n",
       "</style>\n",
       "<table border=\"1\" class=\"dataframe\">\n",
       "  <thead>\n",
       "    <tr style=\"text-align: right;\">\n",
       "      <th></th>\n",
       "      <th>AMZN</th>\n",
       "      <th>F</th>\n",
       "      <th>FCX</th>\n",
       "      <th>HAL</th>\n",
       "      <th>JPM</th>\n",
       "      <th>RTNp</th>\n",
       "      <th>RTNm</th>\n",
       "      <th>Excess</th>\n",
       "      <th>Compare</th>\n",
       "    </tr>\n",
       "    <tr>\n",
       "      <th>Date</th>\n",
       "      <th></th>\n",
       "      <th></th>\n",
       "      <th></th>\n",
       "      <th></th>\n",
       "      <th></th>\n",
       "      <th></th>\n",
       "      <th></th>\n",
       "      <th></th>\n",
       "      <th></th>\n",
       "    </tr>\n",
       "  </thead>\n",
       "  <tbody>\n",
       "    <tr>\n",
       "      <th>2014-01-03</th>\n",
       "      <td>-0.002155</td>\n",
       "      <td>0.000155</td>\n",
       "      <td>-0.000037</td>\n",
       "      <td>0.000204</td>\n",
       "      <td>0.002440</td>\n",
       "      <td>0.000606</td>\n",
       "      <td>0.005026</td>\n",
       "      <td>-0.004420</td>\n",
       "      <td>Underperform</td>\n",
       "    </tr>\n",
       "    <tr>\n",
       "      <th>2014-01-06</th>\n",
       "      <td>-0.003980</td>\n",
       "      <td>0.000154</td>\n",
       "      <td>-0.000036</td>\n",
       "      <td>0.000322</td>\n",
       "      <td>0.001831</td>\n",
       "      <td>-0.001709</td>\n",
       "      <td>-0.021439</td>\n",
       "      <td>0.019730</td>\n",
       "      <td>Outperform</td>\n",
       "    </tr>\n",
       "    <tr>\n",
       "      <th>2014-01-07</th>\n",
       "      <td>0.006219</td>\n",
       "      <td>-0.000442</td>\n",
       "      <td>-0.000044</td>\n",
       "      <td>-0.000203</td>\n",
       "      <td>-0.003674</td>\n",
       "      <td>0.001857</td>\n",
       "      <td>0.005109</td>\n",
       "      <td>-0.003252</td>\n",
       "      <td>Underperform</td>\n",
       "    </tr>\n",
       "    <tr>\n",
       "      <th>2014-01-08</th>\n",
       "      <td>0.005442</td>\n",
       "      <td>0.000354</td>\n",
       "      <td>-0.000057</td>\n",
       "      <td>-0.001194</td>\n",
       "      <td>0.002975</td>\n",
       "      <td>0.007520</td>\n",
       "      <td>-0.005897</td>\n",
       "      <td>0.013417</td>\n",
       "      <td>Outperform</td>\n",
       "    </tr>\n",
       "    <tr>\n",
       "      <th>2014-01-09</th>\n",
       "      <td>-0.001268</td>\n",
       "      <td>0.000654</td>\n",
       "      <td>-0.000061</td>\n",
       "      <td>0.000189</td>\n",
       "      <td>-0.000593</td>\n",
       "      <td>-0.001080</td>\n",
       "      <td>-0.005932</td>\n",
       "      <td>0.004853</td>\n",
       "      <td>Outperform</td>\n",
       "    </tr>\n",
       "  </tbody>\n",
       "</table>\n",
       "</div>"
      ],
      "text/plain": [
       "                AMZN         F       FCX       HAL       JPM      RTNp  \\\n",
       "Date                                                                     \n",
       "2014-01-03 -0.002155  0.000155 -0.000037  0.000204  0.002440  0.000606   \n",
       "2014-01-06 -0.003980  0.000154 -0.000036  0.000322  0.001831 -0.001709   \n",
       "2014-01-07  0.006219 -0.000442 -0.000044 -0.000203 -0.003674  0.001857   \n",
       "2014-01-08  0.005442  0.000354 -0.000057 -0.001194  0.002975  0.007520   \n",
       "2014-01-09 -0.001268  0.000654 -0.000061  0.000189 -0.000593 -0.001080   \n",
       "\n",
       "                RTNm    Excess       Compare  \n",
       "Date                                          \n",
       "2014-01-03  0.005026 -0.004420  Underperform  \n",
       "2014-01-06 -0.021439  0.019730    Outperform  \n",
       "2014-01-07  0.005109 -0.003252  Underperform  \n",
       "2014-01-08 -0.005897  0.013417    Outperform  \n",
       "2014-01-09 -0.005932  0.004853    Outperform  "
      ]
     },
     "execution_count": 6,
     "metadata": {},
     "output_type": "execute_result"
    }
   ],
   "source": [
    "# [View] Portfolio Evaluation Summary\n",
    "pfolio_eval.head()"
   ]
  },
  {
   "cell_type": "code",
   "execution_count": 7,
   "metadata": {
    "scrolled": true
   },
   "outputs": [
    {
     "data": {
      "text/plain": [
       "AMZN       1063\n",
       "F          1063\n",
       "FCX        1063\n",
       "HAL        1063\n",
       "JPM        1063\n",
       "RTNp       1063\n",
       "RTNm       1063\n",
       "Excess     1063\n",
       "Compare    1063\n",
       "dtype: int64"
      ]
     },
     "execution_count": 7,
     "metadata": {},
     "output_type": "execute_result"
    }
   ],
   "source": [
    "# [View] Evaluation Sample Size\n",
    "pfolio_eval.count()"
   ]
  },
  {
   "cell_type": "code",
   "execution_count": 8,
   "metadata": {
    "scrolled": true
   },
   "outputs": [
    {
     "data": {
      "text/plain": [
       "Outperform      0.5174\n",
       "Underperform    0.4826\n",
       "Name: Compare, dtype: float64"
      ]
     },
     "execution_count": 8,
     "metadata": {},
     "output_type": "execute_result"
    }
   ],
   "source": [
    "# [View] Portfolio/Market Performance Comparison Summary\n",
    "round(pfolio_eval[\"Compare\"].value_counts()/pfolio_eval[\"Compare\"].count(), 4)"
   ]
  },
  {
   "cell_type": "code",
   "execution_count": 9,
   "metadata": {},
   "outputs": [
    {
     "data": {
      "text/plain": [
       "Date\n",
       "2014-01-03    0.000606\n",
       "2014-01-06   -0.001709\n",
       "2014-01-07    0.001857\n",
       "2014-01-08    0.007520\n",
       "2014-01-09   -0.001080\n",
       "2014-01-10   -0.004057\n",
       "2014-01-13   -0.015367\n",
       "2014-01-14    0.011595\n",
       "2014-01-15    0.008191\n",
       "2014-01-16   -0.002240\n",
       "Name: RTNp, dtype: float64"
      ]
     },
     "execution_count": 9,
     "metadata": {},
     "output_type": "execute_result"
    }
   ],
   "source": [
    "pfolio_eval[\"RTNp\"].head(10)"
   ]
  },
  {
   "cell_type": "code",
   "execution_count": 10,
   "metadata": {},
   "outputs": [],
   "source": [
    "xaxis_dates = pfolio_eval.reset_index()[\"Date\"]\n",
    "xmin = xaxis_dates.iloc[0]\n",
    "xmax = xaxis_dates.iloc[-1]"
   ]
  },
  {
   "cell_type": "code",
   "execution_count": 11,
   "metadata": {},
   "outputs": [
    {
     "data": {
      "text/plain": [
       "<matplotlib.collections.LineCollection at 0x232405f89b0>"
      ]
     },
     "execution_count": 11,
     "metadata": {},
     "output_type": "execute_result"
    },
    {
     "data": {
      "image/png": "[encoded data removed]",
      "text/plain": [
       "<Figure size 432x288 with 1 Axes>"
      ]
     },
     "metadata": {
      "needs_background": "light"
     },
     "output_type": "display_data"
    }
   ],
   "source": [
    "# [View] Volatility of Portfolio Returns\n",
    "pfolio_eval[\"RTNp\"].plot(alpha=.75)\n",
    "plt.title(\"[Optimized] Volatility of Returns\")\n",
    "plt.xlabel(\"Dates\")\n",
    "plt.ylabel(\"Daily Return\")\n",
    "plt.ylim(-.08, .08)\n",
    "plt.grid(axis=\"y\", linestyle=\"dashed\")\n",
    "plt.hlines(.02, xmin, xmax, linestyle=\"dashed\", colors=\"red\")\n",
    "plt.hlines(-.02, xmin, xmax, linestyle=\"dashed\", colors=\"red\")"
   ]
  },
  {
   "cell_type": "code",
   "execution_count": 12,
   "metadata": {},
   "outputs": [
    {
     "data": {
      "text/plain": [
       "<matplotlib.collections.LineCollection at 0x232411dc320>"
      ]
     },
     "execution_count": 12,
     "metadata": {},
     "output_type": "execute_result"
    },
    {
     "data": {
      "image/png": "[encoded data removed]",
      "text/plain": [
       "<Figure size 432x288 with 1 Axes>"
      ]
     },
     "metadata": {
      "needs_background": "light"
     },
     "output_type": "display_data"
    }
   ],
   "source": [
    "# [View] Volatility of Market Returns\n",
    "pfolio_eval[\"RTNm\"].plot(alpha=.75)\n",
    "plt.title(\"[S&P500] Volatility of Returns\")\n",
    "plt.xlabel(\"Date\")\n",
    "plt.ylabel(\"Daily Returns\")\n",
    "plt.ylim(-.08, .08)\n",
    "plt.grid(axis=\"y\", linestyle=\"dashed\")\n",
    "plt.hlines(.02, xmin, xmax, linestyle=\"dashed\", colors=\"red\")\n",
    "plt.hlines(-.02, xmin, xmax, linestyle=\"dashed\", colors=\"red\")"
   ]
  },
  {
   "cell_type": "code",
   "execution_count": 13,
   "metadata": {},
   "outputs": [],
   "source": [
    "# Calculate Portfolio Beta -- Show The Correlation of Returns\n",
    "# Explanation as to Why On an Absolute Basis Portfolio Underpeforms Only Slightly\n"
   ]
  },
  {
   "cell_type": "code",
   "execution_count": 14,
   "metadata": {},
   "outputs": [],
   "source": [
    "rtn_df = pfolio_eval[\"RTNp\"].apply(lambda x: x + 1).reset_index()"
   ]
  },
  {
   "cell_type": "code",
   "execution_count": 15,
   "metadata": {},
   "outputs": [
    {
     "data": {
      "text/html": [
       "<div>\n",
       "<style scoped>\n",
       "    .dataframe tbody tr th:only-of-type {\n",
       "        vertical-align: middle;\n",
       "    }\n",
       "\n",
       "    .dataframe tbody tr th {\n",
       "        vertical-align: top;\n",
       "    }\n",
       "\n",
       "    .dataframe thead th {\n",
       "        text-align: right;\n",
       "    }\n",
       "</style>\n",
       "<table border=\"1\" class=\"dataframe\">\n",
       "  <thead>\n",
       "    <tr style=\"text-align: right;\">\n",
       "      <th></th>\n",
       "      <th>Date</th>\n",
       "      <th>RTNp</th>\n",
       "    </tr>\n",
       "  </thead>\n",
       "  <tbody>\n",
       "    <tr>\n",
       "      <th>0</th>\n",
       "      <td>2014-01-03</td>\n",
       "      <td>1.000606</td>\n",
       "    </tr>\n",
       "    <tr>\n",
       "      <th>1</th>\n",
       "      <td>2014-01-06</td>\n",
       "      <td>0.998291</td>\n",
       "    </tr>\n",
       "    <tr>\n",
       "      <th>2</th>\n",
       "      <td>2014-01-07</td>\n",
       "      <td>1.001857</td>\n",
       "    </tr>\n",
       "    <tr>\n",
       "      <th>3</th>\n",
       "      <td>2014-01-08</td>\n",
       "      <td>1.007520</td>\n",
       "    </tr>\n",
       "    <tr>\n",
       "      <th>4</th>\n",
       "      <td>2014-01-09</td>\n",
       "      <td>0.998920</td>\n",
       "    </tr>\n",
       "  </tbody>\n",
       "</table>\n",
       "</div>"
      ],
      "text/plain": [
       "        Date      RTNp\n",
       "0 2014-01-03  1.000606\n",
       "1 2014-01-06  0.998291\n",
       "2 2014-01-07  1.001857\n",
       "3 2014-01-08  1.007520\n",
       "4 2014-01-09  0.998920"
      ]
     },
     "execution_count": 15,
     "metadata": {},
     "output_type": "execute_result"
    }
   ],
   "source": [
    "rtn_df.head()"
   ]
  },
  {
   "cell_type": "code",
   "execution_count": 16,
   "metadata": {},
   "outputs": [
    {
     "data": {
      "text/plain": [
       "datetime.date(2014, 1, 3)"
      ]
     },
     "execution_count": 16,
     "metadata": {},
     "output_type": "execute_result"
    }
   ],
   "source": [
    "rtn_df.iloc[0][\"Date\"].date()"
   ]
  },
  {
   "cell_type": "code",
   "execution_count": 17,
   "metadata": {},
   "outputs": [],
   "source": [
    "mkt_val = [(row[1][0].date(), row[1][1]) for row in rtn_df.iterrows()]"
   ]
  },
  {
   "cell_type": "code",
   "execution_count": 18,
   "metadata": {},
   "outputs": [
    {
     "data": {
      "text/plain": [
       "[(datetime.date(2014, 1, 3), 1.0006064579391158),\n",
       " (datetime.date(2014, 1, 6), 0.9982908193437366),\n",
       " (datetime.date(2014, 1, 7), 1.0018569972565041),\n",
       " (datetime.date(2014, 1, 8), 1.0075196399473332),\n",
       " (datetime.date(2014, 1, 9), 0.9989203840242142),\n",
       " (datetime.date(2014, 1, 10), 0.9959425084183613),\n",
       " (datetime.date(2014, 1, 13), 0.9846330097064759),\n",
       " (datetime.date(2014, 1, 14), 1.011595157851874),\n",
       " (datetime.date(2014, 1, 15), 1.0081910943027033),\n",
       " (datetime.date(2014, 1, 16), 0.9977597326477169)]"
      ]
     },
     "execution_count": 18,
     "metadata": {},
     "output_type": "execute_result"
    }
   ],
   "source": [
    "mkt_val[:10]"
   ]
  },
  {
   "cell_type": "code",
   "execution_count": 19,
   "metadata": {},
   "outputs": [
    {
     "data": {
      "text/html": [
       "<div>\n",
       "<style scoped>\n",
       "    .dataframe tbody tr th:only-of-type {\n",
       "        vertical-align: middle;\n",
       "    }\n",
       "\n",
       "    .dataframe tbody tr th {\n",
       "        vertical-align: top;\n",
       "    }\n",
       "\n",
       "    .dataframe thead th {\n",
       "        text-align: right;\n",
       "    }\n",
       "</style>\n",
       "<table border=\"1\" class=\"dataframe\">\n",
       "  <thead>\n",
       "    <tr style=\"text-align: right;\">\n",
       "      <th></th>\n",
       "      <th>AMZN</th>\n",
       "      <th>F</th>\n",
       "      <th>FCX</th>\n",
       "      <th>HAL</th>\n",
       "      <th>JPM</th>\n",
       "      <th>RTNp</th>\n",
       "      <th>RTNm</th>\n",
       "      <th>Excess</th>\n",
       "    </tr>\n",
       "  </thead>\n",
       "  <tbody>\n",
       "    <tr>\n",
       "      <th>count</th>\n",
       "      <td>1063.000000</td>\n",
       "      <td>1063.000000</td>\n",
       "      <td>1063.000000</td>\n",
       "      <td>1063.000000</td>\n",
       "      <td>1063.000000</td>\n",
       "      <td>1063.000000</td>\n",
       "      <td>1063.000000</td>\n",
       "      <td>1063.000000</td>\n",
       "    </tr>\n",
       "    <tr>\n",
       "      <th>mean</th>\n",
       "      <td>0.000697</td>\n",
       "      <td>-0.000011</td>\n",
       "      <td>-0.000003</td>\n",
       "      <td>-0.000004</td>\n",
       "      <td>0.000184</td>\n",
       "      <td>0.000862</td>\n",
       "      <td>0.000294</td>\n",
       "      <td>0.000568</td>\n",
       "    </tr>\n",
       "    <tr>\n",
       "      <th>std</th>\n",
       "      <td>0.010381</td>\n",
       "      <td>0.000490</td>\n",
       "      <td>0.000163</td>\n",
       "      <td>0.001664</td>\n",
       "      <td>0.004162</td>\n",
       "      <td>0.013254</td>\n",
       "      <td>0.017077</td>\n",
       "      <td>0.019164</td>\n",
       "    </tr>\n",
       "    <tr>\n",
       "      <th>min</th>\n",
       "      <td>-0.065183</td>\n",
       "      <td>-0.002913</td>\n",
       "      <td>-0.001023</td>\n",
       "      <td>-0.009770</td>\n",
       "      <td>-0.022819</td>\n",
       "      <td>-0.070225</td>\n",
       "      <td>-0.076003</td>\n",
       "      <td>-0.084408</td>\n",
       "    </tr>\n",
       "    <tr>\n",
       "      <th>25%</th>\n",
       "      <td>-0.003869</td>\n",
       "      <td>-0.000248</td>\n",
       "      <td>-0.000078</td>\n",
       "      <td>-0.000884</td>\n",
       "      <td>-0.001749</td>\n",
       "      <td>-0.005236</td>\n",
       "      <td>-0.008794</td>\n",
       "      <td>-0.009635</td>\n",
       "    </tr>\n",
       "    <tr>\n",
       "      <th>50%</th>\n",
       "      <td>0.000620</td>\n",
       "      <td>0.000000</td>\n",
       "      <td>-0.000002</td>\n",
       "      <td>-0.000019</td>\n",
       "      <td>0.000169</td>\n",
       "      <td>0.001118</td>\n",
       "      <td>0.000000</td>\n",
       "      <td>0.000604</td>\n",
       "    </tr>\n",
       "    <tr>\n",
       "      <th>75%</th>\n",
       "      <td>0.005779</td>\n",
       "      <td>0.000275</td>\n",
       "      <td>0.000068</td>\n",
       "      <td>0.000976</td>\n",
       "      <td>0.002368</td>\n",
       "      <td>0.007700</td>\n",
       "      <td>0.009350</td>\n",
       "      <td>0.011209</td>\n",
       "    </tr>\n",
       "    <tr>\n",
       "      <th>max</th>\n",
       "      <td>0.073954</td>\n",
       "      <td>0.001694</td>\n",
       "      <td>0.001134</td>\n",
       "      <td>0.008940</td>\n",
       "      <td>0.025352</td>\n",
       "      <td>0.072829</td>\n",
       "      <td>0.082238</td>\n",
       "      <td>0.091591</td>\n",
       "    </tr>\n",
       "  </tbody>\n",
       "</table>\n",
       "</div>"
      ],
      "text/plain": [
       "              AMZN            F          FCX          HAL          JPM  \\\n",
       "count  1063.000000  1063.000000  1063.000000  1063.000000  1063.000000   \n",
       "mean      0.000697    -0.000011    -0.000003    -0.000004     0.000184   \n",
       "std       0.010381     0.000490     0.000163     0.001664     0.004162   \n",
       "min      -0.065183    -0.002913    -0.001023    -0.009770    -0.022819   \n",
       "25%      -0.003869    -0.000248    -0.000078    -0.000884    -0.001749   \n",
       "50%       0.000620     0.000000    -0.000002    -0.000019     0.000169   \n",
       "75%       0.005779     0.000275     0.000068     0.000976     0.002368   \n",
       "max       0.073954     0.001694     0.001134     0.008940     0.025352   \n",
       "\n",
       "              RTNp         RTNm       Excess  \n",
       "count  1063.000000  1063.000000  1063.000000  \n",
       "mean      0.000862     0.000294     0.000568  \n",
       "std       0.013254     0.017077     0.019164  \n",
       "min      -0.070225    -0.076003    -0.084408  \n",
       "25%      -0.005236    -0.008794    -0.009635  \n",
       "50%       0.001118     0.000000     0.000604  \n",
       "75%       0.007700     0.009350     0.011209  \n",
       "max       0.072829     0.082238     0.091591  "
      ]
     },
     "execution_count": 19,
     "metadata": {},
     "output_type": "execute_result"
    }
   ],
   "source": [
    "pfolio_eval.describe()"
   ]
  },
  {
   "cell_type": "code",
   "execution_count": null,
   "metadata": {},
   "outputs": [],
   "source": []
  },
  {
   "cell_type": "code",
   "execution_count": null,
   "metadata": {},
   "outputs": [],
   "source": []
  }
 ],
 "metadata": {
  "kernelspec": {
   "display_name": "Python 3",
   "language": "python",
   "name": "python3"
  },
  "language_info": {
   "codemirror_mode": {
    "name": "ipython",
    "version": 3
   },
   "file_extension": ".py",
   "mimetype": "text/x-python",
   "name": "python",
   "nbconvert_exporter": "python",
   "pygments_lexer": "ipython3",
   "version": "3.6.7"
  }
 },
 "nbformat": 4,
 "nbformat_minor": 2
}
