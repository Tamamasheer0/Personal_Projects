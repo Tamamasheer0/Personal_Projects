{
 "cells": [
  {
   "cell_type": "code",
   "execution_count": 1,
   "metadata": {},
   "outputs": [],
   "source": [
    "from espn_mlb import espn_team_info_links\n",
    "from espn_mlb import espn_player_info_links\n",
    "from espn_mlb import get_player_info\n",
    "\n",
    "from sqlalchemy import create_engine\n",
    "from config import user, password\n",
    "\n",
    "import pandas as pd"
   ]
  },
  {
   "cell_type": "code",
   "execution_count": 2,
   "metadata": {},
   "outputs": [
    {
     "name": "stdout",
     "output_type": "stream",
     "text": [
      "Chicago-White-Sox \n",
      " http://www.espn.com/mlb/team/roster/_/name/chw/chicago-white-sox\n",
      "Cleveland-Indians \n",
      " http://www.espn.com/mlb/team/roster/_/name/cle/cleveland-indians\n",
      "Detroit-Tigers \n",
      " http://www.espn.com/mlb/team/roster/_/name/det/detroit-tigers\n",
      "Kansas-City-Royals \n",
      " http://www.espn.com/mlb/team/roster/_/name/kc/kansas-city-royals\n",
      "Minnesota-Twins \n",
      " http://www.espn.com/mlb/team/roster/_/name/min/minnesota-twins\n",
      "Baltimore-Orioles \n",
      " http://www.espn.com/mlb/team/roster/_/name/bal/baltimore-orioles\n",
      "Boston-Red-Sox \n",
      " http://www.espn.com/mlb/team/roster/_/name/bos/boston-red-sox\n",
      "New-York-Yankees \n",
      " http://www.espn.com/mlb/team/roster/_/name/nyy/new-york-yankees\n",
      "Tampa-Bay-Rays \n",
      " http://www.espn.com/mlb/team/roster/_/name/tb/tampa-bay-rays\n",
      "Toronto-Blue-Jays \n",
      " http://www.espn.com/mlb/team/roster/_/name/tor/toronto-blue-jays\n",
      "Houston-Astros \n",
      " http://www.espn.com/mlb/team/roster/_/name/hou/houston-astros\n",
      "Los-Angeles-Angels \n",
      " http://www.espn.com/mlb/team/roster/_/name/laa/los-angeles-angels\n",
      "Oakland-Athletics \n",
      " http://www.espn.com/mlb/team/roster/_/name/oak/oakland-athletics\n",
      "Seattle-Mariners \n",
      " http://www.espn.com/mlb/team/roster/_/name/sea/seattle-mariners\n",
      "Texas-Rangers \n",
      " http://www.espn.com/mlb/team/roster/_/name/tex/texas-rangers\n",
      "Chicago-Cubs \n",
      " http://www.espn.com/mlb/team/roster/_/name/chc/chicago-cubs\n",
      "Cincinnati-Reds \n",
      " http://www.espn.com/mlb/team/roster/_/name/cin/cincinnati-reds\n",
      "Milwaukee-Brewers \n",
      " http://www.espn.com/mlb/team/roster/_/name/mil/milwaukee-brewers\n",
      "Pittsburgh-Pirates \n",
      " http://www.espn.com/mlb/team/roster/_/name/pit/pittsburgh-pirates\n",
      "St-Louis-Cardinals \n",
      " http://www.espn.com/mlb/team/roster/_/name/stl/st-louis-cardinals\n",
      "Atlanta-Braves \n",
      " http://www.espn.com/mlb/team/roster/_/name/atl/atlanta-braves\n",
      "Miami-Marlins \n",
      " http://www.espn.com/mlb/team/roster/_/name/mia/miami-marlins\n",
      "New-York-Mets \n",
      " http://www.espn.com/mlb/team/roster/_/name/nym/new-york-mets\n",
      "Philadelphia-Phillies \n",
      " http://www.espn.com/mlb/team/roster/_/name/phi/philadelphia-phillies\n",
      "Washington-Nationals \n",
      " http://www.espn.com/mlb/team/roster/_/name/wsh/washington-nationals\n",
      "Arizona-Diamondbacks \n",
      " http://www.espn.com/mlb/team/roster/_/name/ari/arizona-diamondbacks\n",
      "Colorado-Rockies \n",
      " http://www.espn.com/mlb/team/roster/_/name/col/colorado-rockies\n",
      "Los-Angeles-Dodgers \n",
      " http://www.espn.com/mlb/team/roster/_/name/lad/los-angeles-dodgers\n",
      "San-Diego-Padres \n",
      " http://www.espn.com/mlb/team/roster/_/name/sd/san-diego-padres\n",
      "San-Francisco-Giants \n",
      " http://www.espn.com/mlb/team/roster/_/name/sf/san-francisco-giants\n"
     ]
    }
   ],
   "source": [
    "# Extract\n",
    "team_rosters = espn_team_info_links('roster', Verbose=True)"
   ]
  },
  {
   "cell_type": "code",
   "execution_count": 3,
   "metadata": {},
   "outputs": [
    {
     "name": "stdout",
     "output_type": "stream",
     "text": [
      "\n",
      "<Skip> No Player Link Found\n",
      "\n"
     ]
    },
    {
     "ename": "KeyError",
     "evalue": "'title'",
     "output_type": "error",
     "traceback": [
      "\u001b[1;31m---------------------------------------------------------------------------\u001b[0m",
      "\u001b[1;31mKeyError\u001b[0m                                  Traceback (most recent call last)",
      "\u001b[1;32m<ipython-input-3-7bd426092048>\u001b[0m in \u001b[0;36m<module>\u001b[1;34m\u001b[0m\n\u001b[0;32m      1\u001b[0m \u001b[1;31m# Extract\u001b[0m\u001b[1;33m\u001b[0m\u001b[1;33m\u001b[0m\u001b[1;33m\u001b[0m\u001b[0m\n\u001b[1;32m----> 2\u001b[1;33m \u001b[0mplayer_links\u001b[0m \u001b[1;33m=\u001b[0m \u001b[0mespn_player_info_links\u001b[0m\u001b[1;33m(\u001b[0m\u001b[0mteam_rosters\u001b[0m\u001b[1;33m,\u001b[0m \u001b[0mVerbose\u001b[0m\u001b[1;33m=\u001b[0m\u001b[1;32mTrue\u001b[0m\u001b[1;33m)\u001b[0m\u001b[1;33m\u001b[0m\u001b[1;33m\u001b[0m\u001b[0m\n\u001b[0m",
      "\u001b[1;32m~\\Desktop\\Ryan\\Programming\\Projects\\ETL-Process\\espn_mlb.py\u001b[0m in \u001b[0;36mespn_player_info_links\u001b[1;34m(roster, Verbose)\u001b[0m\n\u001b[0;32m     45\u001b[0m                 \u001b[1;32mif\u001b[0m \u001b[1;34m'player'\u001b[0m \u001b[1;32min\u001b[0m \u001b[0m_info\u001b[0m\u001b[1;33m:\u001b[0m\u001b[1;33m\u001b[0m\u001b[1;33m\u001b[0m\u001b[0m\n\u001b[0;32m     46\u001b[0m                     \u001b[0m_pID\u001b[0m \u001b[1;33m=\u001b[0m \u001b[0m_info\u001b[0m\u001b[1;33m[\u001b[0m\u001b[1;33m-\u001b[0m\u001b[1;36m1\u001b[0m\u001b[1;33m]\u001b[0m\u001b[1;33m.\u001b[0m\u001b[0mstrip\u001b[0m\u001b[1;33m(\u001b[0m\u001b[1;33m)\u001b[0m\u001b[1;33m\u001b[0m\u001b[1;33m\u001b[0m\u001b[0m\n\u001b[1;32m---> 47\u001b[1;33m                     \u001b[0m_pName\u001b[0m \u001b[1;33m=\u001b[0m \u001b[0m_span\u001b[0m\u001b[1;33m.\u001b[0m\u001b[0ma\u001b[0m\u001b[1;33m.\u001b[0m\u001b[0mfind\u001b[0m\u001b[1;33m(\u001b[0m\u001b[1;34m'figure'\u001b[0m\u001b[1;33m)\u001b[0m\u001b[1;33m[\u001b[0m\u001b[1;34m'title'\u001b[0m\u001b[1;33m]\u001b[0m\u001b[1;33m.\u001b[0m\u001b[0mstrip\u001b[0m\u001b[1;33m(\u001b[0m\u001b[1;33m)\u001b[0m\u001b[1;33m.\u001b[0m\u001b[0mtitle\u001b[0m\u001b[1;33m(\u001b[0m\u001b[1;33m)\u001b[0m\u001b[1;33m\u001b[0m\u001b[1;33m\u001b[0m\u001b[0m\n\u001b[0m\u001b[0;32m     48\u001b[0m                     \u001b[0m_t\u001b[0m \u001b[1;33m=\u001b[0m \u001b[0m_url\u001b[0m\u001b[1;33m.\u001b[0m\u001b[0msplit\u001b[0m\u001b[1;33m(\u001b[0m\u001b[1;34m'/'\u001b[0m\u001b[1;33m)\u001b[0m\u001b[1;33m.\u001b[0m\u001b[0mindex\u001b[0m\u001b[1;33m(\u001b[0m\u001b[1;34m'name'\u001b[0m\u001b[1;33m)\u001b[0m \u001b[1;33m+\u001b[0m \u001b[1;36m1\u001b[0m\u001b[1;33m\u001b[0m\u001b[1;33m\u001b[0m\u001b[0m\n\u001b[0;32m     49\u001b[0m                     \u001b[0m_tID\u001b[0m \u001b[1;33m=\u001b[0m \u001b[0m_url\u001b[0m\u001b[1;33m.\u001b[0m\u001b[0msplit\u001b[0m\u001b[1;33m(\u001b[0m\u001b[1;34m'/'\u001b[0m\u001b[1;33m)\u001b[0m\u001b[1;33m[\u001b[0m\u001b[0m_t\u001b[0m\u001b[1;33m]\u001b[0m\u001b[1;33m.\u001b[0m\u001b[0mupper\u001b[0m\u001b[1;33m(\u001b[0m\u001b[1;33m)\u001b[0m\u001b[1;33m\u001b[0m\u001b[1;33m\u001b[0m\u001b[0m\n",
      "\u001b[1;32m~\\AppData\\Local\\conda\\conda\\envs\\PythonData\\lib\\site-packages\\bs4\\element.py\u001b[0m in \u001b[0;36m__getitem__\u001b[1;34m(self, key)\u001b[0m\n\u001b[0;32m   1069\u001b[0m         \"\"\"tag[key] returns the value of the 'key' attribute for the tag,\n\u001b[0;32m   1070\u001b[0m         and throws an exception if it's not there.\"\"\"\n\u001b[1;32m-> 1071\u001b[1;33m         \u001b[1;32mreturn\u001b[0m \u001b[0mself\u001b[0m\u001b[1;33m.\u001b[0m\u001b[0mattrs\u001b[0m\u001b[1;33m[\u001b[0m\u001b[0mkey\u001b[0m\u001b[1;33m]\u001b[0m\u001b[1;33m\u001b[0m\u001b[1;33m\u001b[0m\u001b[0m\n\u001b[0m\u001b[0;32m   1072\u001b[0m \u001b[1;33m\u001b[0m\u001b[0m\n\u001b[0;32m   1073\u001b[0m     \u001b[1;32mdef\u001b[0m \u001b[0m__iter__\u001b[0m\u001b[1;33m(\u001b[0m\u001b[0mself\u001b[0m\u001b[1;33m)\u001b[0m\u001b[1;33m:\u001b[0m\u001b[1;33m\u001b[0m\u001b[1;33m\u001b[0m\u001b[0m\n",
      "\u001b[1;31mKeyError\u001b[0m: 'title'"
     ]
    }
   ],
   "source": [
    "# Extract\n",
    "player_links = espn_player_info_links(team_rosters, Verbose=True)"
   ]
  },
  {
   "cell_type": "code",
   "execution_count": null,
   "metadata": {},
   "outputs": [],
   "source": [
    "# Transform\n",
    "mlb_player_data = []\n",
    "for playerId, playerInfo in player_links.items():\n",
    "    playerData = get_player_info(playerInfo['link'])\n",
    "    playerData['pid'] = playerId\n",
    "    playerData['fname'] = playerInfo['name'].split(' ')[0].strip()\n",
    "    playerData['lname'] = playerInfo['name'].split(' ')[1].strip()\n",
    "    playerData['tid'] = playerInfo['tid']\n",
    "    mlb_player_data.append(playerData)\n",
    "    print(playerData, '\\n')"
   ]
  },
  {
   "cell_type": "code",
   "execution_count": null,
   "metadata": {},
   "outputs": [],
   "source": [
    "col_order = [\n",
    "    'pid',\n",
    "    'fname',\n",
    "    'lname',\n",
    "    'age',\n",
    "    'height',\n",
    "    'weight',\n",
    "    'birthday',\n",
    "    'city',\n",
    "    'number',\n",
    "    'position',\n",
    "    'exp',\n",
    "    'team',\n",
    "    'throw',\n",
    "    'bat',\n",
    "    'college'\n",
    "]\n",
    "mlb_players_df = pd.DataFrame(mlb_player_data)[col_order]\n",
    "mlb_players_df.head()"
   ]
  },
  {
   "cell_type": "code",
   "execution_count": null,
   "metadata": {},
   "outputs": [],
   "source": [
    "# Preivew\n",
    "mlb_players_df.count()"
   ]
  },
  {
   "cell_type": "code",
   "execution_count": null,
   "metadata": {},
   "outputs": [],
   "source": [
    "# Preview \n",
    "mlb_players_df.dtypes"
   ]
  },
  {
   "cell_type": "code",
   "execution_count": null,
   "metadata": {},
   "outputs": [],
   "source": [
    "# Run Configure_MySQL_DB-Load\n",
    "\n",
    "\n",
    "# Load\n",
    "MySQL_DB_Connection = f'{user}:{password}@localhost/moneyball_db'\n",
    "engine = create_engine(f'mysql://{MySQL_DB_Connection}', echo=False)\n",
    "engine.table_names()"
   ]
  },
  {
   "cell_type": "code",
   "execution_count": null,
   "metadata": {},
   "outputs": [],
   "source": [
    "# Load\n",
    "mlb_players_df.to_sql(name='mlb_players_2019', con=engine, if_exists='append', index=False)"
   ]
  },
  {
   "cell_type": "code",
   "execution_count": null,
   "metadata": {},
   "outputs": [],
   "source": [
    "print(MySQL_DB_Connection)"
   ]
  },
  {
   "cell_type": "code",
   "execution_count": null,
   "metadata": {},
   "outputs": [],
   "source": []
  },
  {
   "cell_type": "code",
   "execution_count": null,
   "metadata": {},
   "outputs": [],
   "source": []
  },
  {
   "cell_type": "code",
   "execution_count": null,
   "metadata": {},
   "outputs": [],
   "source": [
    "mlb_players_df.columns"
   ]
  },
  {
   "cell_type": "code",
   "execution_count": null,
   "metadata": {},
   "outputs": [],
   "source": [
    "for col in mlb_players_df.columns:\n",
    "    print(col)"
   ]
  },
  {
   "cell_type": "code",
   "execution_count": null,
   "metadata": {},
   "outputs": [],
   "source": [
    "col_headers = [\n",
    "    'pid',\n",
    "    'lname',\n",
    "    'height',\n",
    "    'weight',\n",
    "    'throw',\n",
    "    'position'\n",
    "]\n",
    "team = mlb_players_df[col_headers]"
   ]
  },
  {
   "cell_type": "code",
   "execution_count": null,
   "metadata": {},
   "outputs": [],
   "source": [
    "team.head()"
   ]
  },
  {
   "cell_type": "code",
   "execution_count": null,
   "metadata": {},
   "outputs": [],
   "source": [
    "team.dtypes"
   ]
  },
  {
   "cell_type": "code",
   "execution_count": null,
   "metadata": {},
   "outputs": [],
   "source": []
  }
 ],
 "metadata": {
  "kernelspec": {
   "display_name": "Python 3",
   "language": "python",
   "name": "python3"
  },
  "language_info": {
   "codemirror_mode": {
    "name": "ipython",
    "version": 3
   },
   "file_extension": ".py",
   "mimetype": "text/x-python",
   "name": "python",
   "nbconvert_exporter": "python",
   "pygments_lexer": "ipython3",
   "version": "3.6.7"
  }
 },
 "nbformat": 4,
 "nbformat_minor": 2
}
