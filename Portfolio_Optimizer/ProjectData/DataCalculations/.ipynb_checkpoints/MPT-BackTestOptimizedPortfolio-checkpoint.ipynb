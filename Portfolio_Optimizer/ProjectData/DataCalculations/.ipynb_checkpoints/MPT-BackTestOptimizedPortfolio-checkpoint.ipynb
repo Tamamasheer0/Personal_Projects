{
 "cells": [
  {
   "cell_type": "code",
   "execution_count": 1,
   "metadata": {},
   "outputs": [],
   "source": [
    "import matplotlib.pyplot as plt\n",
    "import datetime as dt\n",
    "import pandas as pd\n",
    "import numpy as np\n",
    "\n",
    "from apidata import (\n",
    "    quandl_stock_data,\n",
    "    optimize_portfolio,\n",
    "    closing_prices,\n",
    ")\n",
    "\n",
    "%matplotlib notebook"
   ]
  },
  {
   "cell_type": "code",
   "execution_count": 2,
   "metadata": {},
   "outputs": [
    {
     "data": {
      "text/plain": [
       "['AMZN', 'PFE', 'AMD', 'HAL', 'PG', 'COF']"
      ]
     },
     "execution_count": 2,
     "metadata": {},
     "output_type": "execute_result"
    }
   ],
   "source": [
    "stock_selection = [\n",
    "    \"AMZN\",\n",
    "    \"PFE\",\n",
    "    \"AMD\",\n",
    "    \"HAL\",\n",
    "    \"PG\",\n",
    "    \"COF\",    \n",
    "]\n",
    "\n",
    "stock_selection"
   ]
  },
  {
   "cell_type": "code",
   "execution_count": 4,
   "metadata": {},
   "outputs": [
    {
     "name": "stdout",
     "output_type": "stream",
     "text": [
      "[1] Retrieving Stock Data: PFE\n",
      "[2] Retrieving Stock Data: AMD\n",
      "[3] Retrieving Stock Data: HAL\n",
      "[4] Retrieving Stock Data: PG\n",
      "[5] Retrieving Stock Data: COF\n",
      "\n",
      "Optimizing Portfolio Weights >> Simulations: x 5000\n",
      "\n",
      "Optimized Portfolio Weights:\n",
      "AMD         0.1613\n",
      "AMZN        0.5860\n",
      "COF         0.0253\n",
      "HAL         0.0115\n",
      "PFE         0.0457\n",
      "PG          0.1702\n",
      "Return      0.2189\n",
      "Sharpe      0.5409\n",
      "Variance    0.2235\n",
      "Name: 3676, dtype: float64\n"
     ]
    }
   ],
   "source": [
    "portfolio = optimize_portfolio(assets=stock_selection)"
   ]
  },
  {
   "cell_type": "code",
   "execution_count": 5,
   "metadata": {},
   "outputs": [],
   "source": [
    "def backtest_portfolio_performance(pfolio):\n",
    "    exclude = [\"Return\", \"Sharpe\", \"Variance\"]\n",
    "    assets = [(a,wt) for a, wt in pfolio.items() if a not in exclude]\n",
    "    \n",
    "    # Initialize Portfolio Back-Test Performance DataFrame\n",
    "    back_test = closing_prices(assets[0][0]).set_index(\"Date\")\n",
    "    back_test = np.log(back_test / back_test.shift(1)).iloc[1:]\n",
    "    back_test = back_test.apply(lambda x: x * assets[0][1])\n",
    "    \n",
    "    for allocation in assets[1:]:\n",
    "        stock = allocation[0]\n",
    "        weight = allocation[1]\n",
    "        print(f'\\nTicker: {stock} \\tPortfolio Weight: {weight}')\n",
    "        \n",
    "        closing_data = closing_prices(stock).set_index(\"Date\")\n",
    "        pct_return = np.log(closing_data / closing_data.shift(1)).iloc[1:]\n",
    "        pct_return = pct_return.apply(lambda x: x * weight)\n",
    "        back_test = pd.merge(back_test, pct_return, on=\"Date\", how=\"inner\")\n",
    "        print(pct_return.head())\n",
    "        \n",
    "    back_test[\"RTNp\"] = back_test.sum(axis=1)\n",
    "    print(\"\\n[Historic] Portfolio Performance:\\n\", back_test.head())\n",
    "    \n",
    "    return back_test"
   ]
  },
  {
   "cell_type": "code",
   "execution_count": 6,
   "metadata": {},
   "outputs": [
    {
     "name": "stdout",
     "output_type": "stream",
     "text": [
      "\n",
      "Ticker: AMZN \tPortfolio Weight: 0.586\n",
      "                AMZN\n",
      "Date                \n",
      "2014-01-03 -0.002257\n",
      "2014-01-06 -0.004168\n",
      "2014-01-07  0.006514\n",
      "2014-01-08  0.005699\n",
      "2014-01-09 -0.001328\n",
      "\n",
      "Ticker: COF \tPortfolio Weight: 0.0253\n",
      "                 COF\n",
      "Date                \n",
      "2014-01-03  0.000029\n",
      "2014-01-06 -0.000247\n",
      "2014-01-07  0.000227\n",
      "2014-01-08  0.000186\n",
      "2014-01-09  0.000000\n",
      "\n",
      "Ticker: HAL \tPortfolio Weight: 0.0115\n",
      "                 HAL\n",
      "Date                \n",
      "2014-01-03  0.000028\n",
      "2014-01-06  0.000044\n",
      "2014-01-07 -0.000027\n",
      "2014-01-08 -0.000161\n",
      "2014-01-09  0.000026\n",
      "\n",
      "Ticker: PFE \tPortfolio Weight: 0.0457\n",
      "                 PFE\n",
      "Date                \n",
      "2014-01-03  0.000090\n",
      "2014-01-06  0.000045\n",
      "2014-01-07  0.000283\n",
      "2014-01-08  0.000311\n",
      "2014-01-09 -0.000030\n",
      "\n",
      "Ticker: PG \tPortfolio Weight: 0.1702\n",
      "                  PG\n",
      "Date                \n",
      "2014-01-03 -0.000190\n",
      "2014-01-06  0.000401\n",
      "2014-01-07  0.001638\n",
      "2014-01-08 -0.002485\n",
      "2014-01-09  0.000381\n",
      "\n",
      "[Historic] Portfolio Performance:\n",
      "                  AMD      AMZN       COF       HAL       PFE        PG  \\\n",
      "Date                                                                     \n",
      "2014-01-03  0.002029 -0.002257  0.000029  0.000028  0.000090 -0.000190   \n",
      "2014-01-06  0.005159 -0.004168 -0.000247  0.000044  0.000045  0.000401   \n",
      "2014-01-07  0.001941  0.006514  0.000227 -0.000027  0.000283  0.001638   \n",
      "2014-01-08  0.000000  0.005699  0.000186 -0.000161  0.000311 -0.002485   \n",
      "2014-01-09 -0.003511 -0.001328  0.000000  0.000026 -0.000030  0.000381   \n",
      "\n",
      "                RTNp  \n",
      "Date                  \n",
      "2014-01-03 -0.000272  \n",
      "2014-01-06  0.001234  \n",
      "2014-01-07  0.010576  \n",
      "2014-01-08  0.003550  \n",
      "2014-01-09 -0.004462  \n"
     ]
    }
   ],
   "source": [
    "historic_perform = backtest_portfolio_performance(pfolio=portfolio)"
   ]
  },
  {
   "cell_type": "code",
   "execution_count": 7,
   "metadata": {},
   "outputs": [
    {
     "data": {
      "text/html": [
       "<div>\n",
       "<style scoped>\n",
       "    .dataframe tbody tr th:only-of-type {\n",
       "        vertical-align: middle;\n",
       "    }\n",
       "\n",
       "    .dataframe tbody tr th {\n",
       "        vertical-align: top;\n",
       "    }\n",
       "\n",
       "    .dataframe thead th {\n",
       "        text-align: right;\n",
       "    }\n",
       "</style>\n",
       "<table border=\"1\" class=\"dataframe\">\n",
       "  <thead>\n",
       "    <tr style=\"text-align: right;\">\n",
       "      <th></th>\n",
       "      <th>AMD</th>\n",
       "      <th>AMZN</th>\n",
       "      <th>COF</th>\n",
       "      <th>HAL</th>\n",
       "      <th>PFE</th>\n",
       "      <th>PG</th>\n",
       "      <th>RTNp</th>\n",
       "    </tr>\n",
       "    <tr>\n",
       "      <th>Date</th>\n",
       "      <th></th>\n",
       "      <th></th>\n",
       "      <th></th>\n",
       "      <th></th>\n",
       "      <th></th>\n",
       "      <th></th>\n",
       "      <th></th>\n",
       "    </tr>\n",
       "  </thead>\n",
       "  <tbody>\n",
       "    <tr>\n",
       "      <th>2014-01-03</th>\n",
       "      <td>0.002029</td>\n",
       "      <td>-0.002257</td>\n",
       "      <td>0.000029</td>\n",
       "      <td>0.000028</td>\n",
       "      <td>0.000090</td>\n",
       "      <td>-0.000190</td>\n",
       "      <td>-0.000272</td>\n",
       "    </tr>\n",
       "    <tr>\n",
       "      <th>2014-01-06</th>\n",
       "      <td>0.005159</td>\n",
       "      <td>-0.004168</td>\n",
       "      <td>-0.000247</td>\n",
       "      <td>0.000044</td>\n",
       "      <td>0.000045</td>\n",
       "      <td>0.000401</td>\n",
       "      <td>0.001234</td>\n",
       "    </tr>\n",
       "    <tr>\n",
       "      <th>2014-01-07</th>\n",
       "      <td>0.001941</td>\n",
       "      <td>0.006514</td>\n",
       "      <td>0.000227</td>\n",
       "      <td>-0.000027</td>\n",
       "      <td>0.000283</td>\n",
       "      <td>0.001638</td>\n",
       "      <td>0.010576</td>\n",
       "    </tr>\n",
       "    <tr>\n",
       "      <th>2014-01-08</th>\n",
       "      <td>0.000000</td>\n",
       "      <td>0.005699</td>\n",
       "      <td>0.000186</td>\n",
       "      <td>-0.000161</td>\n",
       "      <td>0.000311</td>\n",
       "      <td>-0.002485</td>\n",
       "      <td>0.003550</td>\n",
       "    </tr>\n",
       "    <tr>\n",
       "      <th>2014-01-09</th>\n",
       "      <td>-0.003511</td>\n",
       "      <td>-0.001328</td>\n",
       "      <td>0.000000</td>\n",
       "      <td>0.000026</td>\n",
       "      <td>-0.000030</td>\n",
       "      <td>0.000381</td>\n",
       "      <td>-0.004462</td>\n",
       "    </tr>\n",
       "    <tr>\n",
       "      <th>2014-01-10</th>\n",
       "      <td>0.003125</td>\n",
       "      <td>-0.004916</td>\n",
       "      <td>0.000055</td>\n",
       "      <td>0.000209</td>\n",
       "      <td>-0.000356</td>\n",
       "      <td>-0.000254</td>\n",
       "      <td>-0.002137</td>\n",
       "    </tr>\n",
       "    <tr>\n",
       "      <th>2014-01-13</th>\n",
       "      <td>-0.001555</td>\n",
       "      <td>-0.009927</td>\n",
       "      <td>-0.000541</td>\n",
       "      <td>-0.000216</td>\n",
       "      <td>-0.000224</td>\n",
       "      <td>-0.000616</td>\n",
       "      <td>-0.013079</td>\n",
       "    </tr>\n",
       "    <tr>\n",
       "      <th>2014-01-14</th>\n",
       "      <td>0.006506</td>\n",
       "      <td>0.009751</td>\n",
       "      <td>0.000326</td>\n",
       "      <td>0.000189</td>\n",
       "      <td>0.000683</td>\n",
       "      <td>0.001820</td>\n",
       "      <td>0.019274</td>\n",
       "    </tr>\n",
       "    <tr>\n",
       "      <th>2014-01-15</th>\n",
       "      <td>0.006254</td>\n",
       "      <td>-0.002467</td>\n",
       "      <td>-0.000108</td>\n",
       "      <td>0.000055</td>\n",
       "      <td>0.000265</td>\n",
       "      <td>-0.000168</td>\n",
       "      <td>0.003830</td>\n",
       "    </tr>\n",
       "    <tr>\n",
       "      <th>2014-01-16</th>\n",
       "      <td>-0.003281</td>\n",
       "      <td>-0.000104</td>\n",
       "      <td>-0.000195</td>\n",
       "      <td>0.000059</td>\n",
       "      <td>-0.000015</td>\n",
       "      <td>-0.000485</td>\n",
       "      <td>-0.004020</td>\n",
       "    </tr>\n",
       "  </tbody>\n",
       "</table>\n",
       "</div>"
      ],
      "text/plain": [
       "                 AMD      AMZN       COF       HAL       PFE        PG  \\\n",
       "Date                                                                     \n",
       "2014-01-03  0.002029 -0.002257  0.000029  0.000028  0.000090 -0.000190   \n",
       "2014-01-06  0.005159 -0.004168 -0.000247  0.000044  0.000045  0.000401   \n",
       "2014-01-07  0.001941  0.006514  0.000227 -0.000027  0.000283  0.001638   \n",
       "2014-01-08  0.000000  0.005699  0.000186 -0.000161  0.000311 -0.002485   \n",
       "2014-01-09 -0.003511 -0.001328  0.000000  0.000026 -0.000030  0.000381   \n",
       "2014-01-10  0.003125 -0.004916  0.000055  0.000209 -0.000356 -0.000254   \n",
       "2014-01-13 -0.001555 -0.009927 -0.000541 -0.000216 -0.000224 -0.000616   \n",
       "2014-01-14  0.006506  0.009751  0.000326  0.000189  0.000683  0.001820   \n",
       "2014-01-15  0.006254 -0.002467 -0.000108  0.000055  0.000265 -0.000168   \n",
       "2014-01-16 -0.003281 -0.000104 -0.000195  0.000059 -0.000015 -0.000485   \n",
       "\n",
       "                RTNp  \n",
       "Date                  \n",
       "2014-01-03 -0.000272  \n",
       "2014-01-06  0.001234  \n",
       "2014-01-07  0.010576  \n",
       "2014-01-08  0.003550  \n",
       "2014-01-09 -0.004462  \n",
       "2014-01-10 -0.002137  \n",
       "2014-01-13 -0.013079  \n",
       "2014-01-14  0.019274  \n",
       "2014-01-15  0.003830  \n",
       "2014-01-16 -0.004020  "
      ]
     },
     "execution_count": 7,
     "metadata": {},
     "output_type": "execute_result"
    }
   ],
   "source": [
    "historic_perform.head(10)"
   ]
  },
  {
   "cell_type": "code",
   "execution_count": 8,
   "metadata": {},
   "outputs": [
    {
     "data": {
      "text/html": [
       "<div>\n",
       "<style scoped>\n",
       "    .dataframe tbody tr th:only-of-type {\n",
       "        vertical-align: middle;\n",
       "    }\n",
       "\n",
       "    .dataframe tbody tr th {\n",
       "        vertical-align: top;\n",
       "    }\n",
       "\n",
       "    .dataframe thead th {\n",
       "        text-align: right;\n",
       "    }\n",
       "</style>\n",
       "<table border=\"1\" class=\"dataframe\">\n",
       "  <thead>\n",
       "    <tr style=\"text-align: right;\">\n",
       "      <th></th>\n",
       "      <th>AMD</th>\n",
       "      <th>AMZN</th>\n",
       "      <th>COF</th>\n",
       "      <th>HAL</th>\n",
       "      <th>PFE</th>\n",
       "      <th>PG</th>\n",
       "      <th>RTNp</th>\n",
       "    </tr>\n",
       "  </thead>\n",
       "  <tbody>\n",
       "    <tr>\n",
       "      <th>count</th>\n",
       "      <td>1063.000000</td>\n",
       "      <td>1063.000000</td>\n",
       "      <td>1063.000000</td>\n",
       "      <td>1.063000e+03</td>\n",
       "      <td>1063.000000</td>\n",
       "      <td>1063.000000</td>\n",
       "      <td>1063.000000</td>\n",
       "    </tr>\n",
       "    <tr>\n",
       "      <th>mean</th>\n",
       "      <td>0.000137</td>\n",
       "      <td>0.000730</td>\n",
       "      <td>0.000004</td>\n",
       "      <td>-5.591859e-07</td>\n",
       "      <td>0.000006</td>\n",
       "      <td>-0.000007</td>\n",
       "      <td>0.000871</td>\n",
       "    </tr>\n",
       "    <tr>\n",
       "      <th>std</th>\n",
       "      <td>0.006077</td>\n",
       "      <td>0.010873</td>\n",
       "      <td>0.000378</td>\n",
       "      <td>2.250702e-04</td>\n",
       "      <td>0.000503</td>\n",
       "      <td>0.001487</td>\n",
       "      <td>0.014132</td>\n",
       "    </tr>\n",
       "    <tr>\n",
       "      <th>min</th>\n",
       "      <td>-0.045007</td>\n",
       "      <td>-0.068271</td>\n",
       "      <td>-0.003559</td>\n",
       "      <td>-1.321757e-03</td>\n",
       "      <td>-0.002488</td>\n",
       "      <td>-0.006959</td>\n",
       "      <td>-0.072012</td>\n",
       "    </tr>\n",
       "    <tr>\n",
       "      <th>25%</th>\n",
       "      <td>-0.002704</td>\n",
       "      <td>-0.004052</td>\n",
       "      <td>-0.000189</td>\n",
       "      <td>-1.196235e-04</td>\n",
       "      <td>-0.000243</td>\n",
       "      <td>-0.000756</td>\n",
       "      <td>-0.006383</td>\n",
       "    </tr>\n",
       "    <tr>\n",
       "      <th>50%</th>\n",
       "      <td>0.000000</td>\n",
       "      <td>0.000650</td>\n",
       "      <td>0.000007</td>\n",
       "      <td>-2.614528e-06</td>\n",
       "      <td>0.000000</td>\n",
       "      <td>-0.000019</td>\n",
       "      <td>0.001620</td>\n",
       "    </tr>\n",
       "    <tr>\n",
       "      <th>75%</th>\n",
       "      <td>0.002783</td>\n",
       "      <td>0.006053</td>\n",
       "      <td>0.000204</td>\n",
       "      <td>1.319955e-04</td>\n",
       "      <td>0.000247</td>\n",
       "      <td>0.000772</td>\n",
       "      <td>0.008397</td>\n",
       "    </tr>\n",
       "    <tr>\n",
       "      <th>max</th>\n",
       "      <td>0.067846</td>\n",
       "      <td>0.077456</td>\n",
       "      <td>0.002077</td>\n",
       "      <td>1.209480e-03</td>\n",
       "      <td>0.003120</td>\n",
       "      <td>0.006201</td>\n",
       "      <td>0.074871</td>\n",
       "    </tr>\n",
       "  </tbody>\n",
       "</table>\n",
       "</div>"
      ],
      "text/plain": [
       "               AMD         AMZN          COF           HAL          PFE  \\\n",
       "count  1063.000000  1063.000000  1063.000000  1.063000e+03  1063.000000   \n",
       "mean      0.000137     0.000730     0.000004 -5.591859e-07     0.000006   \n",
       "std       0.006077     0.010873     0.000378  2.250702e-04     0.000503   \n",
       "min      -0.045007    -0.068271    -0.003559 -1.321757e-03    -0.002488   \n",
       "25%      -0.002704    -0.004052    -0.000189 -1.196235e-04    -0.000243   \n",
       "50%       0.000000     0.000650     0.000007 -2.614528e-06     0.000000   \n",
       "75%       0.002783     0.006053     0.000204  1.319955e-04     0.000247   \n",
       "max       0.067846     0.077456     0.002077  1.209480e-03     0.003120   \n",
       "\n",
       "                PG         RTNp  \n",
       "count  1063.000000  1063.000000  \n",
       "mean     -0.000007     0.000871  \n",
       "std       0.001487     0.014132  \n",
       "min      -0.006959    -0.072012  \n",
       "25%      -0.000756    -0.006383  \n",
       "50%      -0.000019     0.001620  \n",
       "75%       0.000772     0.008397  \n",
       "max       0.006201     0.074871  "
      ]
     },
     "execution_count": 8,
     "metadata": {},
     "output_type": "execute_result"
    }
   ],
   "source": [
    "historic_perform.describe()"
   ]
  },
  {
   "cell_type": "code",
   "execution_count": 9,
   "metadata": {
    "scrolled": true
   },
   "outputs": [
    {
     "data": {
      "image/png": "[encoded data removed]",
      "text/plain": [
       "<Figure size 432x288 with 1 Axes>"
      ]
     },
     "metadata": {
      "needs_background": "light"
     },
     "output_type": "display_data"
    }
   ],
   "source": [
    "historic_perform[\"RTNp\"].plot()\n",
    "plt.grid(True)\n",
    "plt.show()"
   ]
  },
  {
   "cell_type": "code",
   "execution_count": 10,
   "metadata": {},
   "outputs": [
    {
     "data": {
      "text/plain": [
       "Date\n",
       "2014-01-03   -0.000272\n",
       "2014-01-06    0.001234\n",
       "2014-01-07    0.010576\n",
       "2014-01-08    0.003550\n",
       "2014-01-09   -0.004462\n",
       "2014-01-10   -0.002137\n",
       "2014-01-13   -0.013079\n",
       "2014-01-14    0.019274\n",
       "2014-01-15    0.003830\n",
       "2014-01-16   -0.004020\n",
       "Name: RTNp, dtype: float64"
      ]
     },
     "execution_count": 10,
     "metadata": {},
     "output_type": "execute_result"
    }
   ],
   "source": [
    "RTNp = historic_perform[\"RTNp\"]\n",
    "RTNp.head(10)"
   ]
  },
  {
   "cell_type": "code",
   "execution_count": 11,
   "metadata": {},
   "outputs": [
    {
     "data": {
      "text/plain": [
       "pandas.core.series.Series"
      ]
     },
     "execution_count": 11,
     "metadata": {},
     "output_type": "execute_result"
    }
   ],
   "source": [
    "type(RTNp)"
   ]
  },
  {
   "cell_type": "code",
   "execution_count": 12,
   "metadata": {},
   "outputs": [
    {
     "data": {
      "text/plain": [
       "Date\n",
       "2014-01-03   -0.000272\n",
       "2014-01-06    0.001234\n",
       "2014-01-07    0.010576\n",
       "2014-01-08    0.003550\n",
       "2014-01-09   -0.004462\n",
       "Name: RTNp, dtype: float64"
      ]
     },
     "execution_count": 12,
     "metadata": {},
     "output_type": "execute_result"
    }
   ],
   "source": [
    "RTNp.map(lambda x: x + 1)\n",
    "RTNp.head()"
   ]
  },
  {
   "cell_type": "code",
   "execution_count": null,
   "metadata": {},
   "outputs": [],
   "source": []
  }
 ],
 "metadata": {
  "kernelspec": {
   "display_name": "Python 3",
   "language": "python",
   "name": "python3"
  },
  "language_info": {
   "codemirror_mode": {
    "name": "ipython",
    "version": 3
   },
   "file_extension": ".py",
   "mimetype": "text/x-python",
   "name": "python",
   "nbconvert_exporter": "python",
   "pygments_lexer": "ipython3",
   "version": "3.6.7"
  }
 },
 "nbformat": 4,
 "nbformat_minor": 2
}
