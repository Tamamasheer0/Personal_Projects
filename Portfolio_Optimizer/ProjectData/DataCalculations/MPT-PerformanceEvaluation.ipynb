{
 "cells": [
  {
   "cell_type": "code",
   "execution_count": 1,
   "metadata": {},
   "outputs": [],
   "source": [
    "%matplotlib inline\n",
    "\n",
    "import matplotlib.pyplot as plt\n",
    "import datetime as dt\n",
    "import pandas as pd\n",
    "import numpy as np\n",
    "\n",
    "from apidata import (\n",
    "    closing_prices,\n",
    "    optimize_portfolio,\n",
    "    backtest_portfolio,\n",
    "    evaluate_portfolio,\n",
    ")"
   ]
  },
  {
   "cell_type": "code",
   "execution_count": 2,
   "metadata": {},
   "outputs": [],
   "source": [
    "# 1: <Good Performance> Select Stocks For Inclusion in Portfolio\n",
    "selected_stocks = [\"AMZN\",\"JPM\",\"FCX\",\"HAL\",\"F\"]"
   ]
  },
  {
   "cell_type": "code",
   "execution_count": 3,
   "metadata": {},
   "outputs": [
    {
     "name": "stdout",
     "output_type": "stream",
     "text": [
      "[0] Retrieving Stock Data: AMZN\n",
      "[1] Retrieving Stock Data: JPM\n",
      "[2] Retrieving Stock Data: FCX\n",
      "[3] Retrieving Stock Data: HAL\n",
      "[4] Retrieving Stock Data: F\n",
      "\n",
      "Optimizing Portfolio Weights >> Simulations: x 5000\n",
      "\n",
      "Optimized Portfolio Weights:\n",
      "AMZN        0.5122\n",
      "F           0.0309\n",
      "FCX         0.0091\n",
      "HAL         0.0218\n",
      "JPM         0.4260\n",
      "Return      0.2171\n",
      "Sharpe      0.5838\n",
      "Variance    0.2040\n",
      "Name: 464, dtype: float64\n"
     ]
    }
   ],
   "source": [
    "# 2: Optimize Portfolio Around List of Provided Stocks\n",
    "portfolio = optimize_portfolio(selected_stocks)"
   ]
  },
  {
   "cell_type": "code",
   "execution_count": 4,
   "metadata": {},
   "outputs": [
    {
     "name": "stdout",
     "output_type": "stream",
     "text": [
      "\n",
      "Ticker: AMZN \tPortfolio Weight: 0.5122\n",
      "                AMZN\n",
      "Date                \n",
      "2014-01-03 -0.001973\n",
      "2014-01-06 -0.003643\n",
      "2014-01-07  0.005694\n",
      "2014-01-08  0.004981\n",
      "2014-01-09 -0.001161\n",
      "\n",
      "Ticker: F \tPortfolio Weight: 0.0309\n",
      "                   F\n",
      "Date                \n",
      "2014-01-03  0.000140\n",
      "2014-01-06  0.000139\n",
      "2014-01-07 -0.000399\n",
      "2014-01-08  0.000320\n",
      "2014-01-09  0.000591\n",
      "\n",
      "Ticker: FCX \tPortfolio Weight: 0.0091\n",
      "                 FCX\n",
      "Date                \n",
      "2014-01-03 -0.000075\n",
      "2014-01-06 -0.000073\n",
      "2014-01-07 -0.000089\n",
      "2014-01-08 -0.000115\n",
      "2014-01-09 -0.000124\n",
      "\n",
      "Ticker: HAL \tPortfolio Weight: 0.0218\n",
      "                 HAL\n",
      "Date                \n",
      "2014-01-03  0.000052\n",
      "2014-01-06  0.000082\n",
      "2014-01-07 -0.000052\n",
      "2014-01-08 -0.000306\n",
      "2014-01-09  0.000048\n",
      "\n",
      "Ticker: JPM \tPortfolio Weight: 0.426\n",
      "                 JPM\n",
      "Date                \n",
      "2014-01-03  0.003281\n",
      "2014-01-06  0.002462\n",
      "2014-01-07 -0.004938\n",
      "2014-01-08  0.003999\n",
      "2014-01-09 -0.000797\n",
      "\n",
      "[Historic] Portfolio Performance:\n",
      "                 AMZN         F       FCX       HAL       JPM      RTNp\n",
      "Date                                                                  \n",
      "2014-01-03 -0.001973  0.000140 -0.000075  0.000052  0.003281  0.001424\n",
      "2014-01-06 -0.003643  0.000139 -0.000073  0.000082  0.002462 -0.001033\n",
      "2014-01-07  0.005694 -0.000399 -0.000089 -0.000052 -0.004938  0.000215\n",
      "2014-01-08  0.004981  0.000320 -0.000115 -0.000306  0.003999  0.008879\n",
      "2014-01-09 -0.001161  0.000591 -0.000124  0.000048 -0.000797 -0.001443\n"
     ]
    }
   ],
   "source": [
    "# 3: Back-Test Performance of Optimized Portfolio Using Historical Data\n",
    "performance = backtest_portfolio(portfolio)"
   ]
  },
  {
   "cell_type": "code",
   "execution_count": 5,
   "metadata": {},
   "outputs": [
    {
     "name": "stdout",
     "output_type": "stream",
     "text": [
      "                AMZN         F       FCX       HAL       JPM      RTNp  \\\n",
      "Date                                                                     \n",
      "2014-01-03 -0.001973  0.000140 -0.000075  0.000052  0.003281  0.001424   \n",
      "2014-01-06 -0.003643  0.000139 -0.000073  0.000082  0.002462 -0.001033   \n",
      "2014-01-07  0.005694 -0.000399 -0.000089 -0.000052 -0.004938  0.000215   \n",
      "2014-01-08  0.004981  0.000320 -0.000115 -0.000306  0.003999  0.008879   \n",
      "2014-01-09 -0.001161  0.000591 -0.000124  0.000048 -0.000797 -0.001443   \n",
      "\n",
      "                RTNm    Excess       Compare  \n",
      "Date                                          \n",
      "2014-01-03  0.005026 -0.003602  Underperform  \n",
      "2014-01-06 -0.021439  0.020406    Outperform  \n",
      "2014-01-07  0.005109 -0.004894  Underperform  \n",
      "2014-01-08 -0.005897  0.014776    Outperform  \n",
      "2014-01-09 -0.005932  0.004490    Outperform  \n"
     ]
    }
   ],
   "source": [
    "# 4: Evaluate Portfolio Historic Performance Against Benchmark\n",
    "pfolio_eval = evaluate_portfolio(performance)"
   ]
  },
  {
   "cell_type": "code",
   "execution_count": 6,
   "metadata": {},
   "outputs": [
    {
     "data": {
      "text/html": [
       "<div>\n",
       "<style scoped>\n",
       "    .dataframe tbody tr th:only-of-type {\n",
       "        vertical-align: middle;\n",
       "    }\n",
       "\n",
       "    .dataframe tbody tr th {\n",
       "        vertical-align: top;\n",
       "    }\n",
       "\n",
       "    .dataframe thead th {\n",
       "        text-align: right;\n",
       "    }\n",
       "</style>\n",
       "<table border=\"1\" class=\"dataframe\">\n",
       "  <thead>\n",
       "    <tr style=\"text-align: right;\">\n",
       "      <th></th>\n",
       "      <th>AMZN</th>\n",
       "      <th>F</th>\n",
       "      <th>FCX</th>\n",
       "      <th>HAL</th>\n",
       "      <th>JPM</th>\n",
       "      <th>RTNp</th>\n",
       "      <th>RTNm</th>\n",
       "      <th>Excess</th>\n",
       "      <th>Compare</th>\n",
       "    </tr>\n",
       "    <tr>\n",
       "      <th>Date</th>\n",
       "      <th></th>\n",
       "      <th></th>\n",
       "      <th></th>\n",
       "      <th></th>\n",
       "      <th></th>\n",
       "      <th></th>\n",
       "      <th></th>\n",
       "      <th></th>\n",
       "      <th></th>\n",
       "    </tr>\n",
       "  </thead>\n",
       "  <tbody>\n",
       "    <tr>\n",
       "      <th>2014-01-03</th>\n",
       "      <td>-0.001973</td>\n",
       "      <td>0.000140</td>\n",
       "      <td>-0.000075</td>\n",
       "      <td>0.000052</td>\n",
       "      <td>0.003281</td>\n",
       "      <td>0.001424</td>\n",
       "      <td>0.005026</td>\n",
       "      <td>-0.003602</td>\n",
       "      <td>Underperform</td>\n",
       "    </tr>\n",
       "    <tr>\n",
       "      <th>2014-01-06</th>\n",
       "      <td>-0.003643</td>\n",
       "      <td>0.000139</td>\n",
       "      <td>-0.000073</td>\n",
       "      <td>0.000082</td>\n",
       "      <td>0.002462</td>\n",
       "      <td>-0.001033</td>\n",
       "      <td>-0.021439</td>\n",
       "      <td>0.020406</td>\n",
       "      <td>Outperform</td>\n",
       "    </tr>\n",
       "    <tr>\n",
       "      <th>2014-01-07</th>\n",
       "      <td>0.005694</td>\n",
       "      <td>-0.000399</td>\n",
       "      <td>-0.000089</td>\n",
       "      <td>-0.000052</td>\n",
       "      <td>-0.004938</td>\n",
       "      <td>0.000215</td>\n",
       "      <td>0.005109</td>\n",
       "      <td>-0.004894</td>\n",
       "      <td>Underperform</td>\n",
       "    </tr>\n",
       "    <tr>\n",
       "      <th>2014-01-08</th>\n",
       "      <td>0.004981</td>\n",
       "      <td>0.000320</td>\n",
       "      <td>-0.000115</td>\n",
       "      <td>-0.000306</td>\n",
       "      <td>0.003999</td>\n",
       "      <td>0.008879</td>\n",
       "      <td>-0.005897</td>\n",
       "      <td>0.014776</td>\n",
       "      <td>Outperform</td>\n",
       "    </tr>\n",
       "    <tr>\n",
       "      <th>2014-01-09</th>\n",
       "      <td>-0.001161</td>\n",
       "      <td>0.000591</td>\n",
       "      <td>-0.000124</td>\n",
       "      <td>0.000048</td>\n",
       "      <td>-0.000797</td>\n",
       "      <td>-0.001443</td>\n",
       "      <td>-0.005932</td>\n",
       "      <td>0.004490</td>\n",
       "      <td>Outperform</td>\n",
       "    </tr>\n",
       "  </tbody>\n",
       "</table>\n",
       "</div>"
      ],
      "text/plain": [
       "                AMZN         F       FCX       HAL       JPM      RTNp  \\\n",
       "Date                                                                     \n",
       "2014-01-03 -0.001973  0.000140 -0.000075  0.000052  0.003281  0.001424   \n",
       "2014-01-06 -0.003643  0.000139 -0.000073  0.000082  0.002462 -0.001033   \n",
       "2014-01-07  0.005694 -0.000399 -0.000089 -0.000052 -0.004938  0.000215   \n",
       "2014-01-08  0.004981  0.000320 -0.000115 -0.000306  0.003999  0.008879   \n",
       "2014-01-09 -0.001161  0.000591 -0.000124  0.000048 -0.000797 -0.001443   \n",
       "\n",
       "                RTNm    Excess       Compare  \n",
       "Date                                          \n",
       "2014-01-03  0.005026 -0.003602  Underperform  \n",
       "2014-01-06 -0.021439  0.020406    Outperform  \n",
       "2014-01-07  0.005109 -0.004894  Underperform  \n",
       "2014-01-08 -0.005897  0.014776    Outperform  \n",
       "2014-01-09 -0.005932  0.004490    Outperform  "
      ]
     },
     "execution_count": 6,
     "metadata": {},
     "output_type": "execute_result"
    }
   ],
   "source": [
    "# [View] Portfolio Evaluation Summary\n",
    "pfolio_eval.head()"
   ]
  },
  {
   "cell_type": "code",
   "execution_count": 7,
   "metadata": {
    "scrolled": true
   },
   "outputs": [
    {
     "data": {
      "text/plain": [
       "AMZN       1063\n",
       "F          1063\n",
       "FCX        1063\n",
       "HAL        1063\n",
       "JPM        1063\n",
       "RTNp       1063\n",
       "RTNm       1063\n",
       "Excess     1063\n",
       "Compare    1063\n",
       "dtype: int64"
      ]
     },
     "execution_count": 7,
     "metadata": {},
     "output_type": "execute_result"
    }
   ],
   "source": [
    "# [View] Evaluation Sample Size\n",
    "pfolio_eval.count()"
   ]
  },
  {
   "cell_type": "code",
   "execution_count": 8,
   "metadata": {
    "scrolled": true
   },
   "outputs": [
    {
     "data": {
      "text/plain": [
       "Outperform      0.5127\n",
       "Underperform    0.4873\n",
       "Name: Compare, dtype: float64"
      ]
     },
     "execution_count": 8,
     "metadata": {},
     "output_type": "execute_result"
    }
   ],
   "source": [
    "# [View] Portfolio/Market Performance Comparison Summary\n",
    "round(pfolio_eval[\"Compare\"].value_counts()/pfolio_eval[\"Compare\"].count(), 4)"
   ]
  },
  {
   "cell_type": "code",
   "execution_count": 9,
   "metadata": {},
   "outputs": [
    {
     "data": {
      "text/plain": [
       "Date\n",
       "2014-01-03    0.001424\n",
       "2014-01-06   -0.001033\n",
       "2014-01-07    0.000215\n",
       "2014-01-08    0.008879\n",
       "2014-01-09   -0.001443\n",
       "2014-01-10   -0.005301\n",
       "2014-01-13   -0.014940\n",
       "2014-01-14    0.009851\n",
       "2014-01-15    0.011350\n",
       "2014-01-16   -0.003445\n",
       "Name: RTNp, dtype: float64"
      ]
     },
     "execution_count": 9,
     "metadata": {},
     "output_type": "execute_result"
    }
   ],
   "source": [
    "pfolio_eval[\"RTNp\"].head(10)"
   ]
  },
  {
   "cell_type": "code",
   "execution_count": 10,
   "metadata": {},
   "outputs": [],
   "source": [
    "xaxis_dates = pfolio_eval.reset_index()[\"Date\"]\n",
    "xmin = xaxis_dates.iloc[0]\n",
    "xmax = xaxis_dates.iloc[-1]"
   ]
  },
  {
   "cell_type": "code",
   "execution_count": 11,
   "metadata": {},
   "outputs": [
    {
     "data": {
      "text/plain": [
       "<matplotlib.collections.LineCollection at 0x2b56003cc50>"
      ]
     },
     "execution_count": 11,
     "metadata": {},
     "output_type": "execute_result"
    },
    {
     "data": {
      "image/png": "[encoded data removed]",
      "text/plain": [
       "<Figure size 432x288 with 1 Axes>"
      ]
     },
     "metadata": {
      "needs_background": "light"
     },
     "output_type": "display_data"
    }
   ],
   "source": [
    "# [View] Volatility of Portfolio Returns\n",
    "pfolio_eval[\"RTNp\"].plot(alpha=.75)\n",
    "plt.title(\"[Optimized] Volatility of Returns\")\n",
    "plt.xlabel(\"Dates\")\n",
    "plt.ylabel(\"Daily Return\")\n",
    "plt.ylim(-.08, .08)\n",
    "plt.grid(axis=\"y\", linestyle=\"dashed\")\n",
    "plt.hlines(.02, xmin, xmax, linestyle=\"dashed\", colors=\"red\")\n",
    "plt.hlines(-.02, xmin, xmax, linestyle=\"dashed\", colors=\"red\")"
   ]
  },
  {
   "cell_type": "code",
   "execution_count": 12,
   "metadata": {},
   "outputs": [
    {
     "data": {
      "text/plain": [
       "<matplotlib.collections.LineCollection at 0x2b56646fcc0>"
      ]
     },
     "execution_count": 12,
     "metadata": {},
     "output_type": "execute_result"
    },
    {
     "data": {
      "image/png": "[encoded data removed]",
      "text/plain": [
       "<Figure size 432x288 with 1 Axes>"
      ]
     },
     "metadata": {
      "needs_background": "light"
     },
     "output_type": "display_data"
    }
   ],
   "source": [
    "# [View] Volatility of Market Returns\n",
    "pfolio_eval[\"RTNm\"].plot(alpha=.75)\n",
    "plt.title(\"[S&P500] Volatility of Returns\")\n",
    "plt.xlabel(\"Date\")\n",
    "plt.ylabel(\"Daily Returns\")\n",
    "plt.ylim(-.08, .08)\n",
    "plt.grid(axis=\"y\", linestyle=\"dashed\")\n",
    "plt.hlines(.02, xmin, xmax, linestyle=\"dashed\", colors=\"red\")\n",
    "plt.hlines(-.02, xmin, xmax, linestyle=\"dashed\", colors=\"red\")"
   ]
  },
  {
   "cell_type": "code",
   "execution_count": 13,
   "metadata": {},
   "outputs": [],
   "source": [
    "# Calculate Portfolio Beta -- Show The Correlation of Returns\n",
    "# Explanation as to Why On an Absolute Basis Portfolio Underpeforms Only Slightly\n"
   ]
  },
  {
   "cell_type": "code",
   "execution_count": 14,
   "metadata": {},
   "outputs": [],
   "source": [
    "rtn_df = pfolio_eval[\"RTNp\"].apply(lambda x: x + 1).reset_index()"
   ]
  },
  {
   "cell_type": "code",
   "execution_count": 15,
   "metadata": {},
   "outputs": [
    {
     "data": {
      "text/html": [
       "<div>\n",
       "<style scoped>\n",
       "    .dataframe tbody tr th:only-of-type {\n",
       "        vertical-align: middle;\n",
       "    }\n",
       "\n",
       "    .dataframe tbody tr th {\n",
       "        vertical-align: top;\n",
       "    }\n",
       "\n",
       "    .dataframe thead th {\n",
       "        text-align: right;\n",
       "    }\n",
       "</style>\n",
       "<table border=\"1\" class=\"dataframe\">\n",
       "  <thead>\n",
       "    <tr style=\"text-align: right;\">\n",
       "      <th></th>\n",
       "      <th>Date</th>\n",
       "      <th>RTNp</th>\n",
       "    </tr>\n",
       "  </thead>\n",
       "  <tbody>\n",
       "    <tr>\n",
       "      <th>0</th>\n",
       "      <td>2014-01-03</td>\n",
       "      <td>1.001424</td>\n",
       "    </tr>\n",
       "    <tr>\n",
       "      <th>1</th>\n",
       "      <td>2014-01-06</td>\n",
       "      <td>0.998967</td>\n",
       "    </tr>\n",
       "    <tr>\n",
       "      <th>2</th>\n",
       "      <td>2014-01-07</td>\n",
       "      <td>1.000215</td>\n",
       "    </tr>\n",
       "    <tr>\n",
       "      <th>3</th>\n",
       "      <td>2014-01-08</td>\n",
       "      <td>1.008879</td>\n",
       "    </tr>\n",
       "    <tr>\n",
       "      <th>4</th>\n",
       "      <td>2014-01-09</td>\n",
       "      <td>0.998557</td>\n",
       "    </tr>\n",
       "  </tbody>\n",
       "</table>\n",
       "</div>"
      ],
      "text/plain": [
       "        Date      RTNp\n",
       "0 2014-01-03  1.001424\n",
       "1 2014-01-06  0.998967\n",
       "2 2014-01-07  1.000215\n",
       "3 2014-01-08  1.008879\n",
       "4 2014-01-09  0.998557"
      ]
     },
     "execution_count": 15,
     "metadata": {},
     "output_type": "execute_result"
    }
   ],
   "source": [
    "rtn_df.head()"
   ]
  },
  {
   "cell_type": "code",
   "execution_count": 16,
   "metadata": {},
   "outputs": [
    {
     "data": {
      "text/plain": [
       "datetime.date(2014, 1, 3)"
      ]
     },
     "execution_count": 16,
     "metadata": {},
     "output_type": "execute_result"
    }
   ],
   "source": [
    "rtn_df.iloc[0][\"Date\"].date()"
   ]
  },
  {
   "cell_type": "code",
   "execution_count": 17,
   "metadata": {},
   "outputs": [],
   "source": [
    "mkt_val = [(row[1][0].date(), row[1][1]) for row in rtn_df.iterrows()]"
   ]
  },
  {
   "cell_type": "code",
   "execution_count": 18,
   "metadata": {},
   "outputs": [
    {
     "data": {
      "text/plain": [
       "[(datetime.date(2014, 1, 3), 1.001424374596658),\n",
       " (datetime.date(2014, 1, 6), 0.9989667385221734),\n",
       " (datetime.date(2014, 1, 7), 1.000215064680869),\n",
       " (datetime.date(2014, 1, 8), 1.0088789253203667),\n",
       " (datetime.date(2014, 1, 9), 0.9985574737437145),\n",
       " (datetime.date(2014, 1, 10), 0.99469936854585),\n",
       " (datetime.date(2014, 1, 13), 0.985060317630467),\n",
       " (datetime.date(2014, 1, 14), 1.0098509763345145),\n",
       " (datetime.date(2014, 1, 15), 1.0113496514939464),\n",
       " (datetime.date(2014, 1, 16), 0.9965552230362782)]"
      ]
     },
     "execution_count": 18,
     "metadata": {},
     "output_type": "execute_result"
    }
   ],
   "source": [
    "mkt_val[:10]"
   ]
  },
  {
   "cell_type": "code",
   "execution_count": 19,
   "metadata": {},
   "outputs": [
    {
     "data": {
      "text/html": [
       "<div>\n",
       "<style scoped>\n",
       "    .dataframe tbody tr th:only-of-type {\n",
       "        vertical-align: middle;\n",
       "    }\n",
       "\n",
       "    .dataframe tbody tr th {\n",
       "        vertical-align: top;\n",
       "    }\n",
       "\n",
       "    .dataframe thead th {\n",
       "        text-align: right;\n",
       "    }\n",
       "</style>\n",
       "<table border=\"1\" class=\"dataframe\">\n",
       "  <thead>\n",
       "    <tr style=\"text-align: right;\">\n",
       "      <th></th>\n",
       "      <th>AMZN</th>\n",
       "      <th>F</th>\n",
       "      <th>FCX</th>\n",
       "      <th>HAL</th>\n",
       "      <th>JPM</th>\n",
       "      <th>RTNp</th>\n",
       "      <th>RTNm</th>\n",
       "      <th>Excess</th>\n",
       "    </tr>\n",
       "  </thead>\n",
       "  <tbody>\n",
       "    <tr>\n",
       "      <th>count</th>\n",
       "      <td>1063.000000</td>\n",
       "      <td>1063.000000</td>\n",
       "      <td>1063.000000</td>\n",
       "      <td>1063.000000</td>\n",
       "      <td>1063.000000</td>\n",
       "      <td>1063.000000</td>\n",
       "      <td>1063.000000</td>\n",
       "      <td>1063.000000</td>\n",
       "    </tr>\n",
       "    <tr>\n",
       "      <th>mean</th>\n",
       "      <td>0.000638</td>\n",
       "      <td>-0.000010</td>\n",
       "      <td>-0.000007</td>\n",
       "      <td>-0.000001</td>\n",
       "      <td>0.000247</td>\n",
       "      <td>0.000867</td>\n",
       "      <td>0.000294</td>\n",
       "      <td>0.000573</td>\n",
       "    </tr>\n",
       "    <tr>\n",
       "      <th>std</th>\n",
       "      <td>0.009503</td>\n",
       "      <td>0.000442</td>\n",
       "      <td>0.000330</td>\n",
       "      <td>0.000427</td>\n",
       "      <td>0.005595</td>\n",
       "      <td>0.012902</td>\n",
       "      <td>0.017077</td>\n",
       "      <td>0.018847</td>\n",
       "    </tr>\n",
       "    <tr>\n",
       "      <th>min</th>\n",
       "      <td>-0.059673</td>\n",
       "      <td>-0.002632</td>\n",
       "      <td>-0.002069</td>\n",
       "      <td>-0.002506</td>\n",
       "      <td>-0.030676</td>\n",
       "      <td>-0.065353</td>\n",
       "      <td>-0.076003</td>\n",
       "      <td>-0.084346</td>\n",
       "    </tr>\n",
       "    <tr>\n",
       "      <th>25%</th>\n",
       "      <td>-0.003542</td>\n",
       "      <td>-0.000224</td>\n",
       "      <td>-0.000158</td>\n",
       "      <td>-0.000227</td>\n",
       "      <td>-0.002351</td>\n",
       "      <td>-0.005199</td>\n",
       "      <td>-0.008794</td>\n",
       "      <td>-0.009778</td>\n",
       "    </tr>\n",
       "    <tr>\n",
       "      <th>50%</th>\n",
       "      <td>0.000568</td>\n",
       "      <td>0.000000</td>\n",
       "      <td>-0.000004</td>\n",
       "      <td>-0.000005</td>\n",
       "      <td>0.000227</td>\n",
       "      <td>0.001184</td>\n",
       "      <td>0.000000</td>\n",
       "      <td>0.000530</td>\n",
       "    </tr>\n",
       "    <tr>\n",
       "      <th>75%</th>\n",
       "      <td>0.005291</td>\n",
       "      <td>0.000249</td>\n",
       "      <td>0.000138</td>\n",
       "      <td>0.000250</td>\n",
       "      <td>0.003183</td>\n",
       "      <td>0.007452</td>\n",
       "      <td>0.009350</td>\n",
       "      <td>0.011113</td>\n",
       "    </tr>\n",
       "    <tr>\n",
       "      <th>max</th>\n",
       "      <td>0.067702</td>\n",
       "      <td>0.001531</td>\n",
       "      <td>0.002293</td>\n",
       "      <td>0.002293</td>\n",
       "      <td>0.034080</td>\n",
       "      <td>0.066619</td>\n",
       "      <td>0.082238</td>\n",
       "      <td>0.093349</td>\n",
       "    </tr>\n",
       "  </tbody>\n",
       "</table>\n",
       "</div>"
      ],
      "text/plain": [
       "              AMZN            F          FCX          HAL          JPM  \\\n",
       "count  1063.000000  1063.000000  1063.000000  1063.000000  1063.000000   \n",
       "mean      0.000638    -0.000010    -0.000007    -0.000001     0.000247   \n",
       "std       0.009503     0.000442     0.000330     0.000427     0.005595   \n",
       "min      -0.059673    -0.002632    -0.002069    -0.002506    -0.030676   \n",
       "25%      -0.003542    -0.000224    -0.000158    -0.000227    -0.002351   \n",
       "50%       0.000568     0.000000    -0.000004    -0.000005     0.000227   \n",
       "75%       0.005291     0.000249     0.000138     0.000250     0.003183   \n",
       "max       0.067702     0.001531     0.002293     0.002293     0.034080   \n",
       "\n",
       "              RTNp         RTNm       Excess  \n",
       "count  1063.000000  1063.000000  1063.000000  \n",
       "mean      0.000867     0.000294     0.000573  \n",
       "std       0.012902     0.017077     0.018847  \n",
       "min      -0.065353    -0.076003    -0.084346  \n",
       "25%      -0.005199    -0.008794    -0.009778  \n",
       "50%       0.001184     0.000000     0.000530  \n",
       "75%       0.007452     0.009350     0.011113  \n",
       "max       0.066619     0.082238     0.093349  "
      ]
     },
     "execution_count": 19,
     "metadata": {},
     "output_type": "execute_result"
    }
   ],
   "source": [
    "pfolio_eval.describe()"
   ]
  },
  {
   "cell_type": "code",
   "execution_count": null,
   "metadata": {},
   "outputs": [],
   "source": []
  },
  {
   "cell_type": "code",
   "execution_count": null,
   "metadata": {},
   "outputs": [],
   "source": []
  }
 ],
 "metadata": {
  "kernelspec": {
   "display_name": "Python 3",
   "language": "python",
   "name": "python3"
  },
  "language_info": {
   "codemirror_mode": {
    "name": "ipython",
    "version": 3
   },
   "file_extension": ".py",
   "mimetype": "text/x-python",
   "name": "python",
   "nbconvert_exporter": "python",
   "pygments_lexer": "ipython3",
   "version": "3.6.7"
  }
 },
 "nbformat": 4,
 "nbformat_minor": 2
}
