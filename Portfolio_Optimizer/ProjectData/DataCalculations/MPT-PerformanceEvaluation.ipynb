{
 "cells": [
  {
   "cell_type": "code",
   "execution_count": 1,
   "metadata": {},
   "outputs": [],
   "source": [
    "%matplotlib inline\n",
    "import matplotlib.pyplot as plt\n",
    "import datetime as dt\n",
    "import pandas as pd\n",
    "import numpy as np\n",
    "\n",
    "from apidata import (\n",
    "    closing_prices,\n",
    "    optimize_portfolio,\n",
    "    backtest_portfolio,\n",
    "    evaluate_portfolio,\n",
    ")"
   ]
  },
  {
   "cell_type": "code",
   "execution_count": 2,
   "metadata": {},
   "outputs": [],
   "source": [
    "# 1: Select Stocks For Inclusion in Portfolio\n",
    "selected_stocks = [\n",
    "    \"AMZN\",\n",
    "    \"AAPL\",\n",
    "    \"PG\",\n",
    "    \"T\",\n",
    "    \"SBUX\",\n",
    "    \"TSLA\",\n",
    "    \"MSFT\",\n",
    "    \"GOOG\",  \n",
    "    \"HAL\",\n",
    "    \"VZ\",\n",
    "    \"SIRI\"\n",
    "]"
   ]
  },
  {
   "cell_type": "code",
   "execution_count": 3,
   "metadata": {},
   "outputs": [
    {
     "name": "stdout",
     "output_type": "stream",
     "text": [
      "[0] Retrieving Stock Data: AMZN\n",
      "[1] Retrieving Stock Data: AAPL\n",
      "[2] Retrieving Stock Data: PG\n",
      "[3] Retrieving Stock Data: T\n",
      "[4] Retrieving Stock Data: SBUX\n",
      "[5] Retrieving Stock Data: TSLA\n",
      "[6] Retrieving Stock Data: MSFT\n",
      "[7] Retrieving Stock Data: GOOG\n",
      "[8] Retrieving Stock Data: HAL\n",
      "[9] Retrieving Stock Data: VZ\n",
      "[10] Retrieving Stock Data: SIRI\n",
      "\n",
      "Optimizing Portfolio Weights >> Simulations: x 5000\n",
      "\n",
      "Optimized Portfolio Weights:\n",
      "AAPL        0.0226\n",
      "AMZN        0.1359\n",
      "GOOG        0.2247\n",
      "HAL         0.0009\n",
      "MSFT        0.2209\n",
      "PG          0.0080\n",
      "Return      0.1596\n",
      "SBUX        0.0305\n",
      "SIRI        0.1849\n",
      "Sharpe      0.3594\n",
      "T           0.0399\n",
      "TSLA        0.1128\n",
      "VZ          0.0188\n",
      "Variance    0.1714\n",
      "Name: 38, dtype: float64\n"
     ]
    }
   ],
   "source": [
    "# 2: Optimize Portfolio Around List of Provided Stocks\n",
    "portfolio = optimize_portfolio(selected_stocks)"
   ]
  },
  {
   "cell_type": "code",
   "execution_count": 4,
   "metadata": {},
   "outputs": [
    {
     "name": "stdout",
     "output_type": "stream",
     "text": [
      "\n",
      "Ticker: AAPL \tPortfolio Weight: 0.0226\n",
      "                AAPL\n",
      "Date                \n",
      "2014-01-03 -0.000502\n",
      "2014-01-06  0.000123\n",
      "2014-01-07 -0.000162\n",
      "2014-01-08  0.000143\n",
      "2014-01-09 -0.000291\n",
      "\n",
      "Ticker: AMZN \tPortfolio Weight: 0.1359\n",
      "                AMZN\n",
      "Date                \n",
      "2014-01-03 -0.000523\n",
      "2014-01-06 -0.000967\n",
      "2014-01-07  0.001511\n",
      "2014-01-08  0.001322\n",
      "2014-01-09 -0.000308\n",
      "\n",
      "Ticker: GOOG \tPortfolio Weight: 0.2247\n",
      "                GOOG\n",
      "Date                \n",
      "2014-03-28  0.000615\n",
      "2014-03-31 -0.001215\n",
      "2014-04-01  0.004074\n",
      "2014-04-02 -0.000063\n",
      "2014-04-03  0.001083\n",
      "\n",
      "Ticker: HAL \tPortfolio Weight: 0.0009\n",
      "                 HAL\n",
      "Date                \n",
      "2014-01-03  0.000002\n",
      "2014-01-06  0.000003\n",
      "2014-01-07 -0.000002\n",
      "2014-01-08 -0.000013\n",
      "2014-01-09  0.000002\n",
      "\n",
      "Ticker: MSFT \tPortfolio Weight: 0.2209\n",
      "                MSFT\n",
      "Date                \n",
      "2014-01-03 -0.001491\n",
      "2014-01-06 -0.004718\n",
      "2014-01-07  0.001705\n",
      "2014-01-08 -0.003979\n",
      "2014-01-09 -0.001425\n",
      "\n",
      "Ticker: PG \tPortfolio Weight: 0.008\n",
      "                  PG\n",
      "Date                \n",
      "2014-01-03 -0.000009\n",
      "2014-01-06  0.000019\n",
      "2014-01-07  0.000077\n",
      "2014-01-08 -0.000117\n",
      "2014-01-09  0.000018\n",
      "\n",
      "Ticker: SBUX \tPortfolio Weight: 0.0305\n",
      "                SBUX\n",
      "Date                \n",
      "2014-01-03 -0.000087\n",
      "2014-01-06 -0.000311\n",
      "2014-01-07  0.000414\n",
      "2014-01-08  0.000322\n",
      "2014-01-09 -0.000169\n",
      "\n",
      "Ticker: SIRI \tPortfolio Weight: 0.1849\n",
      "                SIRI\n",
      "Date                \n",
      "2014-01-03  0.003662\n",
      "2014-01-06  0.012998\n",
      "2014-01-07  0.001443\n",
      "2014-01-08 -0.004362\n",
      "2014-01-09  0.000978\n",
      "\n",
      "Ticker: T \tPortfolio Weight: 0.0399\n",
      "                   T\n",
      "Date                \n",
      "2014-01-03 -0.000172\n",
      "2014-01-06  0.000183\n",
      "2014-01-07 -0.000011\n",
      "2014-01-08 -0.000819\n",
      "2014-01-09 -0.000824\n",
      "\n",
      "Ticker: TSLA \tPortfolio Weight: 0.1128\n",
      "                TSLA\n",
      "Date                \n",
      "2014-01-03 -0.000407\n",
      "2014-01-06 -0.001947\n",
      "2014-01-07  0.001797\n",
      "2014-01-08  0.001441\n",
      "2014-01-09 -0.002831\n",
      "\n",
      "Ticker: VZ \tPortfolio Weight: 0.0188\n",
      "                  VZ\n",
      "Date                \n",
      "2014-01-03 -0.000224\n",
      "2014-01-06  0.000105\n",
      "2014-01-07  0.000234\n",
      "2014-01-08 -0.000308\n",
      "2014-01-09 -0.000392\n",
      "\n",
      "[Historic] Portfolio Performance:\n",
      "                 AAPL      AMZN      GOOG       HAL      MSFT        PG  \\\n",
      "Date                                                                     \n",
      "2014-03-28 -0.000025 -0.000072  0.000615  0.000021  0.005214  0.000011   \n",
      "2014-03-31 -0.000005 -0.000776 -0.001215 -0.000009  0.003750  0.000084   \n",
      "2014-04-01  0.000206  0.002651  0.004074  0.000011  0.002305 -0.000026   \n",
      "2014-04-02  0.000038 -0.000409 -0.000063  0.000005 -0.000374 -0.000021   \n",
      "2014-04-03 -0.000157 -0.003356  0.001083 -0.000002 -0.001824 -0.000003   \n",
      "\n",
      "                SBUX      SIRI         T      TSLA        VZ      RTNp  \n",
      "Date                                                                    \n",
      "2014-03-28  0.000124  0.001767  0.000125  0.002715 -0.000107  0.010387  \n",
      "2014-03-31 -0.000133  0.002619  0.000000 -0.002102  0.000059  0.002273  \n",
      "2014-04-01  0.000261  0.002297  0.000023  0.004519  0.000071  0.016391  \n",
      "2014-04-02 -0.000140  0.005620  0.000317  0.006721  0.000028  0.011721  \n",
      "2014-04-03 -0.000241 -0.003352  0.000292 -0.002421  0.000118 -0.009862  \n"
     ]
    }
   ],
   "source": [
    "# 3: Back-Test Performance of Optimized Portfolio Using Historical Data\n",
    "performance = backtest_portfolio(portfolio)"
   ]
  },
  {
   "cell_type": "code",
   "execution_count": 5,
   "metadata": {},
   "outputs": [
    {
     "name": "stdout",
     "output_type": "stream",
     "text": [
      "                AAPL      AMZN      GOOG       HAL      MSFT        PG  \\\n",
      "Date                                                                     \n",
      "2014-03-28 -0.000025 -0.000072  0.000615  0.000021  0.005214  0.000011   \n",
      "2014-03-31 -0.000005 -0.000776 -0.001215 -0.000009  0.003750  0.000084   \n",
      "2014-04-01  0.000206  0.002651  0.004074  0.000011  0.002305 -0.000026   \n",
      "2014-04-02  0.000038 -0.000409 -0.000063  0.000005 -0.000374 -0.000021   \n",
      "2014-04-03 -0.000157 -0.003356  0.001083 -0.000002 -0.001824 -0.000003   \n",
      "\n",
      "                SBUX      SIRI         T      TSLA        VZ      RTNp  \\\n",
      "Date                                                                     \n",
      "2014-03-28  0.000124  0.001767  0.000125  0.002715 -0.000107  0.010387   \n",
      "2014-03-31 -0.000133  0.002619  0.000000 -0.002102  0.000059  0.002273   \n",
      "2014-04-01  0.000261  0.002297  0.000023  0.004519  0.000071  0.016391   \n",
      "2014-04-02 -0.000140  0.005620  0.000317  0.006721  0.000028  0.011721   \n",
      "2014-04-03 -0.000241 -0.003352  0.000292 -0.002421  0.000118 -0.009862   \n",
      "\n",
      "                RTNm    Excess       Compare  \n",
      "Date                                          \n",
      "2014-03-28 -0.026811  0.037198    Outperform  \n",
      "2014-03-31  0.019605 -0.017331  Underperform  \n",
      "2014-04-01 -0.008794  0.025185    Outperform  \n",
      "2014-04-02  0.001535  0.010186    Outperform  \n",
      "2014-04-03 -0.007698 -0.002164  Underperform  \n"
     ]
    }
   ],
   "source": [
    "# 4: Evaluate Portfolio Historic Performance Against Benchmark\n",
    "pfolio_eval = evaluate_portfolio(performance)"
   ]
  },
  {
   "cell_type": "code",
   "execution_count": 6,
   "metadata": {},
   "outputs": [
    {
     "data": {
      "text/html": [
       "<div>\n",
       "<style scoped>\n",
       "    .dataframe tbody tr th:only-of-type {\n",
       "        vertical-align: middle;\n",
       "    }\n",
       "\n",
       "    .dataframe tbody tr th {\n",
       "        vertical-align: top;\n",
       "    }\n",
       "\n",
       "    .dataframe thead th {\n",
       "        text-align: right;\n",
       "    }\n",
       "</style>\n",
       "<table border=\"1\" class=\"dataframe\">\n",
       "  <thead>\n",
       "    <tr style=\"text-align: right;\">\n",
       "      <th></th>\n",
       "      <th>RTNp</th>\n",
       "      <th>RTNm</th>\n",
       "      <th>Excess</th>\n",
       "      <th>Compare</th>\n",
       "    </tr>\n",
       "    <tr>\n",
       "      <th>Date</th>\n",
       "      <th></th>\n",
       "      <th></th>\n",
       "      <th></th>\n",
       "      <th></th>\n",
       "    </tr>\n",
       "  </thead>\n",
       "  <tbody>\n",
       "    <tr>\n",
       "      <th>2014-03-28</th>\n",
       "      <td>0.010387</td>\n",
       "      <td>-0.026811</td>\n",
       "      <td>0.037198</td>\n",
       "      <td>Outperform</td>\n",
       "    </tr>\n",
       "    <tr>\n",
       "      <th>2014-03-31</th>\n",
       "      <td>0.002273</td>\n",
       "      <td>0.019605</td>\n",
       "      <td>-0.017331</td>\n",
       "      <td>Underperform</td>\n",
       "    </tr>\n",
       "    <tr>\n",
       "      <th>2014-04-01</th>\n",
       "      <td>0.016391</td>\n",
       "      <td>-0.008794</td>\n",
       "      <td>0.025185</td>\n",
       "      <td>Outperform</td>\n",
       "    </tr>\n",
       "    <tr>\n",
       "      <th>2014-04-02</th>\n",
       "      <td>0.011721</td>\n",
       "      <td>0.001535</td>\n",
       "      <td>0.010186</td>\n",
       "      <td>Outperform</td>\n",
       "    </tr>\n",
       "    <tr>\n",
       "      <th>2014-04-03</th>\n",
       "      <td>-0.009862</td>\n",
       "      <td>-0.007698</td>\n",
       "      <td>-0.002164</td>\n",
       "      <td>Underperform</td>\n",
       "    </tr>\n",
       "  </tbody>\n",
       "</table>\n",
       "</div>"
      ],
      "text/plain": [
       "                RTNp      RTNm    Excess       Compare\n",
       "Date                                                  \n",
       "2014-03-28  0.010387 -0.026811  0.037198    Outperform\n",
       "2014-03-31  0.002273  0.019605 -0.017331  Underperform\n",
       "2014-04-01  0.016391 -0.008794  0.025185    Outperform\n",
       "2014-04-02  0.011721  0.001535  0.010186    Outperform\n",
       "2014-04-03 -0.009862 -0.007698 -0.002164  Underperform"
      ]
     },
     "execution_count": 6,
     "metadata": {},
     "output_type": "execute_result"
    }
   ],
   "source": [
    "# [View] Portfolio Evaluation Summary\n",
    "pfolio_eval.head()"
   ]
  },
  {
   "cell_type": "code",
   "execution_count": 7,
   "metadata": {
    "scrolled": true
   },
   "outputs": [
    {
     "data": {
      "text/plain": [
       "RTNp       1005\n",
       "RTNm       1005\n",
       "Excess     1005\n",
       "Compare    1005\n",
       "dtype: int64"
      ]
     },
     "execution_count": 7,
     "metadata": {},
     "output_type": "execute_result"
    }
   ],
   "source": [
    "# [View] Evaluation Sample Size\n",
    "pfolio_eval.count()"
   ]
  },
  {
   "cell_type": "code",
   "execution_count": 8,
   "metadata": {
    "scrolled": true
   },
   "outputs": [
    {
     "data": {
      "text/plain": [
       "Outperform      0.5144\n",
       "Underperform    0.4856\n",
       "Name: Compare, dtype: float64"
      ]
     },
     "execution_count": 8,
     "metadata": {},
     "output_type": "execute_result"
    }
   ],
   "source": [
    "# [View] Portfolio/Market Performance Comparison Summary\n",
    "round(pfolio_eval[\"Compare\"].value_counts()/pfolio_eval[\"Compare\"].count(), 4)"
   ]
  },
  {
   "cell_type": "code",
   "execution_count": 9,
   "metadata": {},
   "outputs": [
    {
     "data": {
      "text/plain": [
       "<matplotlib.axes._subplots.AxesSubplot at 0x1787c7c1ef0>"
      ]
     },
     "execution_count": 9,
     "metadata": {},
     "output_type": "execute_result"
    },
    {
     "data": {
      "image/png": "[encoded data removed]",
      "text/plain": [
       "<Figure size 432x288 with 1 Axes>"
      ]
     },
     "metadata": {
      "needs_background": "light"
     },
     "output_type": "display_data"
    }
   ],
   "source": [
    "# [View] Volatility of Portfolio Returns\n",
    "pfolio_eval[\"RTNp\"].plot(grid=True)"
   ]
  },
  {
   "cell_type": "code",
   "execution_count": 10,
   "metadata": {},
   "outputs": [
    {
     "data": {
      "text/plain": [
       "<matplotlib.axes._subplots.AxesSubplot at 0x1787df385c0>"
      ]
     },
     "execution_count": 10,
     "metadata": {},
     "output_type": "execute_result"
    },
    {
     "data": {
      "image/png": "[encoded data removed]",
      "text/plain": [
       "<Figure size 432x288 with 1 Axes>"
      ]
     },
     "metadata": {
      "needs_background": "light"
     },
     "output_type": "display_data"
    }
   ],
   "source": [
    "# [View] Volatility of Market Returns\n",
    "pfolio_eval[\"RTNm\"].plot(grid=True)"
   ]
  },
  {
   "cell_type": "code",
   "execution_count": null,
   "metadata": {},
   "outputs": [],
   "source": []
  },
  {
   "cell_type": "code",
   "execution_count": null,
   "metadata": {},
   "outputs": [],
   "source": []
  }
 ],
 "metadata": {
  "kernelspec": {
   "display_name": "Python 3",
   "language": "python",
   "name": "python3"
  },
  "language_info": {
   "codemirror_mode": {
    "name": "ipython",
    "version": 3
   },
   "file_extension": ".py",
   "mimetype": "text/x-python",
   "name": "python",
   "nbconvert_exporter": "python",
   "pygments_lexer": "ipython3",
   "version": "3.6.7"
  }
 },
 "nbformat": 4,
 "nbformat_minor": 2
}
