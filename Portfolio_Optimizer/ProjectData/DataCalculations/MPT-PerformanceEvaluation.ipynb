{
 "cells": [
  {
   "cell_type": "code",
   "execution_count": 1,
   "metadata": {},
   "outputs": [],
   "source": [
    "%matplotlib inline\n",
    "\n",
    "import matplotlib.pyplot as plt\n",
    "import datetime as dt\n",
    "import pandas as pd\n",
    "import numpy as np\n",
    "\n",
    "from apidata import (\n",
    "    closing_prices,\n",
    "    optimize_portfolio,\n",
    "    backtest_portfolio,\n",
    "    evaluate_portfolio,\n",
    ")"
   ]
  },
  {
   "cell_type": "code",
   "execution_count": 2,
   "metadata": {},
   "outputs": [],
   "source": [
    "# 1: <Good Performance> Select Stocks For Inclusion in Portfolio\n",
    "selected_stocks = [\"AMZN\",\"JPM\",\"FCX\",\"HAL\",\"F\"]"
   ]
  },
  {
   "cell_type": "code",
   "execution_count": 3,
   "metadata": {},
   "outputs": [
    {
     "name": "stdout",
     "output_type": "stream",
     "text": [
      "[0] Retrieving Stock Data: AMZN\n",
      "[1] Retrieving Stock Data: JPM\n",
      "[2] Retrieving Stock Data: FCX\n",
      "[3] Retrieving Stock Data: HAL\n",
      "[4] Retrieving Stock Data: F\n",
      "\n",
      "Optimizing Portfolio Weights >> Simulations: x 5000\n",
      "\n",
      "Optimized Portfolio Weights:\n",
      "AMZN        0.4889\n",
      "F           0.0320\n",
      "FCX         0.0062\n",
      "HAL         0.0160\n",
      "JPM         0.4569\n",
      "Return      0.2149\n",
      "Sharpe      0.5804\n",
      "Variance    0.2014\n",
      "Name: 1383, dtype: float64\n"
     ]
    }
   ],
   "source": [
    "# 2: Optimize Portfolio Around List of Provided Stocks\n",
    "portfolio = optimize_portfolio(selected_stocks)"
   ]
  },
  {
   "cell_type": "code",
   "execution_count": 5,
   "metadata": {},
   "outputs": [
    {
     "name": "stdout",
     "output_type": "stream",
     "text": [
      "\n",
      "Ticker: AMZN \tPortfolio Weight: 0.4889\n",
      "                AMZN\n",
      "Date                \n",
      "2014-01-03 -0.001883\n",
      "2014-01-06 -0.003478\n",
      "2014-01-07  0.005435\n",
      "2014-01-08  0.004755\n",
      "2014-01-09 -0.001108\n",
      "\n",
      "Ticker: F \tPortfolio Weight: 0.032\n",
      "                   F\n",
      "Date                \n",
      "2014-01-03  0.000145\n",
      "2014-01-06  0.000144\n",
      "2014-01-07 -0.000413\n",
      "2014-01-08  0.000331\n",
      "2014-01-09  0.000612\n",
      "\n",
      "Ticker: FCX \tPortfolio Weight: 0.0062\n",
      "                 FCX\n",
      "Date                \n",
      "2014-01-03 -0.000051\n",
      "2014-01-06 -0.000050\n",
      "2014-01-07 -0.000061\n",
      "2014-01-08 -0.000078\n",
      "2014-01-09 -0.000084\n",
      "\n",
      "Ticker: HAL \tPortfolio Weight: 0.016\n",
      "                 HAL\n",
      "Date                \n",
      "2014-01-03  0.000038\n",
      "2014-01-06  0.000061\n",
      "2014-01-07 -0.000038\n",
      "2014-01-08 -0.000225\n",
      "2014-01-09  0.000036\n",
      "\n",
      "Ticker: JPM \tPortfolio Weight: 0.4569\n",
      "                 JPM\n",
      "Date                \n",
      "2014-01-03  0.003519\n",
      "2014-01-06  0.002641\n",
      "2014-01-07 -0.005297\n",
      "2014-01-08  0.004289\n",
      "2014-01-09 -0.000855\n",
      "\n",
      "[Historic] Portfolio Performance:\n",
      "                 AMZN         F       FCX       HAL       JPM      RTNp\n",
      "Date                                                                  \n",
      "2014-01-03 -0.001883  0.000145 -0.000051  0.000038  0.003519  0.001767\n",
      "2014-01-06 -0.003478  0.000144 -0.000050  0.000061  0.002641 -0.000683\n",
      "2014-01-07  0.005435 -0.000413 -0.000061 -0.000038 -0.005297 -0.000374\n",
      "2014-01-08  0.004755  0.000331 -0.000078 -0.000225  0.004289  0.009072\n",
      "2014-01-09 -0.001108  0.000612 -0.000084  0.000036 -0.000855 -0.001400\n"
     ]
    }
   ],
   "source": [
    "# 3: Back-Test Performance of Optimized Portfolio Using Historical Data\n",
    "performance = backtest_portfolio(portfolio)"
   ]
  },
  {
   "cell_type": "code",
   "execution_count": 6,
   "metadata": {},
   "outputs": [
    {
     "name": "stdout",
     "output_type": "stream",
     "text": [
      "                AMZN         F       FCX       HAL       JPM      RTNp  \\\n",
      "Date                                                                     \n",
      "2014-01-03 -0.001883  0.000145 -0.000051  0.000038  0.003519  0.001767   \n",
      "2014-01-06 -0.003478  0.000144 -0.000050  0.000061  0.002641 -0.000683   \n",
      "2014-01-07  0.005435 -0.000413 -0.000061 -0.000038 -0.005297 -0.000374   \n",
      "2014-01-08  0.004755  0.000331 -0.000078 -0.000225  0.004289  0.009072   \n",
      "2014-01-09 -0.001108  0.000612 -0.000084  0.000036 -0.000855 -0.001400   \n",
      "\n",
      "                RTNm    Excess       Compare  \n",
      "Date                                          \n",
      "2014-01-03  0.005026 -0.003259  Underperform  \n",
      "2014-01-06 -0.021439  0.020757    Outperform  \n",
      "2014-01-07  0.005109 -0.005483  Underperform  \n",
      "2014-01-08 -0.005897  0.014969    Outperform  \n",
      "2014-01-09 -0.005932  0.004533    Outperform  \n"
     ]
    }
   ],
   "source": [
    "# 4: Evaluate Portfolio Historic Performance Against Benchmark\n",
    "pfolio_eval = evaluate_portfolio(performance)"
   ]
  },
  {
   "cell_type": "code",
   "execution_count": 7,
   "metadata": {},
   "outputs": [
    {
     "data": {
      "text/html": [
       "<div>\n",
       "<style scoped>\n",
       "    .dataframe tbody tr th:only-of-type {\n",
       "        vertical-align: middle;\n",
       "    }\n",
       "\n",
       "    .dataframe tbody tr th {\n",
       "        vertical-align: top;\n",
       "    }\n",
       "\n",
       "    .dataframe thead th {\n",
       "        text-align: right;\n",
       "    }\n",
       "</style>\n",
       "<table border=\"1\" class=\"dataframe\">\n",
       "  <thead>\n",
       "    <tr style=\"text-align: right;\">\n",
       "      <th></th>\n",
       "      <th>AMZN</th>\n",
       "      <th>F</th>\n",
       "      <th>FCX</th>\n",
       "      <th>HAL</th>\n",
       "      <th>JPM</th>\n",
       "      <th>RTNp</th>\n",
       "      <th>RTNm</th>\n",
       "      <th>Excess</th>\n",
       "      <th>Compare</th>\n",
       "    </tr>\n",
       "    <tr>\n",
       "      <th>Date</th>\n",
       "      <th></th>\n",
       "      <th></th>\n",
       "      <th></th>\n",
       "      <th></th>\n",
       "      <th></th>\n",
       "      <th></th>\n",
       "      <th></th>\n",
       "      <th></th>\n",
       "      <th></th>\n",
       "    </tr>\n",
       "  </thead>\n",
       "  <tbody>\n",
       "    <tr>\n",
       "      <th>2014-01-03</th>\n",
       "      <td>-0.001883</td>\n",
       "      <td>0.000145</td>\n",
       "      <td>-0.000051</td>\n",
       "      <td>0.000038</td>\n",
       "      <td>0.003519</td>\n",
       "      <td>0.001767</td>\n",
       "      <td>0.005026</td>\n",
       "      <td>-0.003259</td>\n",
       "      <td>Underperform</td>\n",
       "    </tr>\n",
       "    <tr>\n",
       "      <th>2014-01-06</th>\n",
       "      <td>-0.003478</td>\n",
       "      <td>0.000144</td>\n",
       "      <td>-0.000050</td>\n",
       "      <td>0.000061</td>\n",
       "      <td>0.002641</td>\n",
       "      <td>-0.000683</td>\n",
       "      <td>-0.021439</td>\n",
       "      <td>0.020757</td>\n",
       "      <td>Outperform</td>\n",
       "    </tr>\n",
       "    <tr>\n",
       "      <th>2014-01-07</th>\n",
       "      <td>0.005435</td>\n",
       "      <td>-0.000413</td>\n",
       "      <td>-0.000061</td>\n",
       "      <td>-0.000038</td>\n",
       "      <td>-0.005297</td>\n",
       "      <td>-0.000374</td>\n",
       "      <td>0.005109</td>\n",
       "      <td>-0.005483</td>\n",
       "      <td>Underperform</td>\n",
       "    </tr>\n",
       "    <tr>\n",
       "      <th>2014-01-08</th>\n",
       "      <td>0.004755</td>\n",
       "      <td>0.000331</td>\n",
       "      <td>-0.000078</td>\n",
       "      <td>-0.000225</td>\n",
       "      <td>0.004289</td>\n",
       "      <td>0.009072</td>\n",
       "      <td>-0.005897</td>\n",
       "      <td>0.014969</td>\n",
       "      <td>Outperform</td>\n",
       "    </tr>\n",
       "    <tr>\n",
       "      <th>2014-01-09</th>\n",
       "      <td>-0.001108</td>\n",
       "      <td>0.000612</td>\n",
       "      <td>-0.000084</td>\n",
       "      <td>0.000036</td>\n",
       "      <td>-0.000855</td>\n",
       "      <td>-0.001400</td>\n",
       "      <td>-0.005932</td>\n",
       "      <td>0.004533</td>\n",
       "      <td>Outperform</td>\n",
       "    </tr>\n",
       "  </tbody>\n",
       "</table>\n",
       "</div>"
      ],
      "text/plain": [
       "                AMZN         F       FCX       HAL       JPM      RTNp  \\\n",
       "Date                                                                     \n",
       "2014-01-03 -0.001883  0.000145 -0.000051  0.000038  0.003519  0.001767   \n",
       "2014-01-06 -0.003478  0.000144 -0.000050  0.000061  0.002641 -0.000683   \n",
       "2014-01-07  0.005435 -0.000413 -0.000061 -0.000038 -0.005297 -0.000374   \n",
       "2014-01-08  0.004755  0.000331 -0.000078 -0.000225  0.004289  0.009072   \n",
       "2014-01-09 -0.001108  0.000612 -0.000084  0.000036 -0.000855 -0.001400   \n",
       "\n",
       "                RTNm    Excess       Compare  \n",
       "Date                                          \n",
       "2014-01-03  0.005026 -0.003259  Underperform  \n",
       "2014-01-06 -0.021439  0.020757    Outperform  \n",
       "2014-01-07  0.005109 -0.005483  Underperform  \n",
       "2014-01-08 -0.005897  0.014969    Outperform  \n",
       "2014-01-09 -0.005932  0.004533    Outperform  "
      ]
     },
     "execution_count": 7,
     "metadata": {},
     "output_type": "execute_result"
    }
   ],
   "source": [
    "# [View] Portfolio Evaluation Summary\n",
    "pfolio_eval.head()"
   ]
  },
  {
   "cell_type": "code",
   "execution_count": 8,
   "metadata": {
    "scrolled": true
   },
   "outputs": [
    {
     "data": {
      "text/plain": [
       "AMZN       1063\n",
       "F          1063\n",
       "FCX        1063\n",
       "HAL        1063\n",
       "JPM        1063\n",
       "RTNp       1063\n",
       "RTNm       1063\n",
       "Excess     1063\n",
       "Compare    1063\n",
       "dtype: int64"
      ]
     },
     "execution_count": 8,
     "metadata": {},
     "output_type": "execute_result"
    }
   ],
   "source": [
    "# [View] Evaluation Sample Size\n",
    "pfolio_eval.count()"
   ]
  },
  {
   "cell_type": "code",
   "execution_count": 9,
   "metadata": {
    "scrolled": true
   },
   "outputs": [
    {
     "data": {
      "text/plain": [
       "Outperform      0.5146\n",
       "Underperform    0.4854\n",
       "Name: Compare, dtype: float64"
      ]
     },
     "execution_count": 9,
     "metadata": {},
     "output_type": "execute_result"
    }
   ],
   "source": [
    "# [View] Portfolio/Market Performance Comparison Summary\n",
    "round(pfolio_eval[\"Compare\"].value_counts()/pfolio_eval[\"Compare\"].count(), 4)"
   ]
  },
  {
   "cell_type": "code",
   "execution_count": 10,
   "metadata": {},
   "outputs": [
    {
     "data": {
      "text/plain": [
       "Date\n",
       "2014-01-03    0.001767\n",
       "2014-01-06   -0.000683\n",
       "2014-01-07   -0.000374\n",
       "2014-01-08    0.009072\n",
       "2014-01-09   -0.001400\n",
       "2014-01-10   -0.005374\n",
       "2014-01-13   -0.014810\n",
       "2014-01-14    0.009370\n",
       "2014-01-15    0.012324\n",
       "2014-01-16   -0.003753\n",
       "Name: RTNp, dtype: float64"
      ]
     },
     "execution_count": 10,
     "metadata": {},
     "output_type": "execute_result"
    }
   ],
   "source": [
    "pfolio_eval[\"RTNp\"].head(10)"
   ]
  },
  {
   "cell_type": "code",
   "execution_count": 11,
   "metadata": {},
   "outputs": [],
   "source": [
    "xaxis_dates = pfolio_eval.reset_index()[\"Date\"]\n",
    "xmin = xaxis_dates.iloc[0]\n",
    "xmax = xaxis_dates.iloc[-1]"
   ]
  },
  {
   "cell_type": "code",
   "execution_count": 12,
   "metadata": {},
   "outputs": [
    {
     "data": {
      "text/plain": [
       "<matplotlib.collections.LineCollection at 0x2119cf712b0>"
      ]
     },
     "execution_count": 12,
     "metadata": {},
     "output_type": "execute_result"
    },
    {
     "data": {
      "image/png": "[encoded data removed]",
      "text/plain": [
       "<Figure size 432x288 with 1 Axes>"
      ]
     },
     "metadata": {
      "needs_background": "light"
     },
     "output_type": "display_data"
    }
   ],
   "source": [
    "# [View] Volatility of Portfolio Returns\n",
    "pfolio_eval[\"RTNp\"].plot(alpha=.75)\n",
    "plt.title(\"[Optimized] Volatility of Returns\")\n",
    "plt.xlabel(\"Dates\")\n",
    "plt.ylabel(\"Daily Return\")\n",
    "plt.ylim(-.08, .08)\n",
    "plt.grid(axis=\"y\", linestyle=\"dashed\")\n",
    "plt.hlines(.02, xmin, xmax, linestyle=\"dashed\", colors=\"red\")\n",
    "plt.hlines(-.02, xmin, xmax, linestyle=\"dashed\", colors=\"red\")"
   ]
  },
  {
   "cell_type": "code",
   "execution_count": 13,
   "metadata": {},
   "outputs": [
    {
     "data": {
      "text/plain": [
       "<matplotlib.collections.LineCollection at 0x2119db119b0>"
      ]
     },
     "execution_count": 13,
     "metadata": {},
     "output_type": "execute_result"
    },
    {
     "data": {
      "image/png": "[encoded data removed]",
      "text/plain": [
       "<Figure size 432x288 with 1 Axes>"
      ]
     },
     "metadata": {
      "needs_background": "light"
     },
     "output_type": "display_data"
    }
   ],
   "source": [
    "# [View] Volatility of Market Returns\n",
    "pfolio_eval[\"RTNm\"].plot(alpha=.75)\n",
    "plt.title(\"[S&P500] Volatility of Returns\")\n",
    "plt.xlabel(\"Date\")\n",
    "plt.ylabel(\"Daily Returns\")\n",
    "plt.ylim(-.08, .08)\n",
    "plt.grid(axis=\"y\", linestyle=\"dashed\")\n",
    "plt.hlines(.02, xmin, xmax, linestyle=\"dashed\", colors=\"red\")\n",
    "plt.hlines(-.02, xmin, xmax, linestyle=\"dashed\", colors=\"red\")"
   ]
  },
  {
   "cell_type": "code",
   "execution_count": null,
   "metadata": {},
   "outputs": [],
   "source": [
    "# Calculate Portfolio Beta -- Show The Correlation of Returns\n",
    "# Explanation as to Why On an Absolute Basis Portfolio Underpeforms Only Slightly\n"
   ]
  },
  {
   "cell_type": "code",
   "execution_count": null,
   "metadata": {},
   "outputs": [],
   "source": [
    "rtn_df = pfolio_eval[\"RTNp\"].apply(lambda x: x + 1).reset_index()"
   ]
  },
  {
   "cell_type": "code",
   "execution_count": null,
   "metadata": {},
   "outputs": [],
   "source": [
    "rtn_df.head()"
   ]
  },
  {
   "cell_type": "code",
   "execution_count": null,
   "metadata": {},
   "outputs": [],
   "source": [
    "rtn_df.iloc[0][\"Date\"].date()"
   ]
  },
  {
   "cell_type": "code",
   "execution_count": null,
   "metadata": {},
   "outputs": [],
   "source": [
    "mkt_val = [(row[1][0].date(), row[1][1]) for row in rtn_df.iterrows()]"
   ]
  },
  {
   "cell_type": "code",
   "execution_count": null,
   "metadata": {},
   "outputs": [],
   "source": [
    "mkt_val[:10]"
   ]
  },
  {
   "cell_type": "code",
   "execution_count": null,
   "metadata": {},
   "outputs": [],
   "source": [
    "pfolio_eval.describe()"
   ]
  },
  {
   "cell_type": "code",
   "execution_count": null,
   "metadata": {},
   "outputs": [],
   "source": []
  },
  {
   "cell_type": "code",
   "execution_count": null,
   "metadata": {},
   "outputs": [],
   "source": []
  }
 ],
 "metadata": {
  "kernelspec": {
   "display_name": "Python 3",
   "language": "python",
   "name": "python3"
  },
  "language_info": {
   "codemirror_mode": {
    "name": "ipython",
    "version": 3
   },
   "file_extension": ".py",
   "mimetype": "text/x-python",
   "name": "python",
   "nbconvert_exporter": "python",
   "pygments_lexer": "ipython3",
   "version": "3.6.7"
  }
 },
 "nbformat": 4,
 "nbformat_minor": 2
}
