{
 "cells": [
  {
   "cell_type": "code",
   "execution_count": null,
   "metadata": {},
   "outputs": [],
   "source": [
    "%matplotlib inline\n",
    "\n",
    "import matplotlib.pyplot as plt\n",
    "import datetime as dt\n",
    "import pandas as pd\n",
    "import numpy as np\n",
    "\n",
    "from apidata import (\n",
    "    quandl_stock_data,\n",
    "    optimize_portfolio,\n",
    "    closing_prices,\n",
    ")"
   ]
  },
  {
   "cell_type": "code",
   "execution_count": null,
   "metadata": {},
   "outputs": [],
   "source": [
    "stock_selection = [\n",
    "    \"AMZN\",\n",
    "    \"PFE\",\n",
    "    \"AMD\",\n",
    "    \"HAL\",\n",
    "    \"PG\",\n",
    "    \"COF\",    \n",
    "]\n",
    "\n",
    "stock_selection"
   ]
  },
  {
   "cell_type": "code",
   "execution_count": null,
   "metadata": {},
   "outputs": [],
   "source": [
    "portfolio = optimize_portfolio(assets=stock_selection)"
   ]
  },
  {
   "cell_type": "code",
   "execution_count": null,
   "metadata": {},
   "outputs": [],
   "source": [
    "def backtest_portfolio_performance(pfolio):\n",
    "    exclude = [\"Return\", \"Sharpe\", \"Variance\"]\n",
    "    assets = [(a,wt) for a, wt in pfolio.items() if a not in exclude]\n",
    "    \n",
    "    # Initialize Portfolio Back-Test Performance DataFrame\n",
    "    back_test = closing_prices(assets[0][0]).set_index(\"Date\")\n",
    "    back_test = np.log(back_test / back_test.shift(1)).iloc[1:]\n",
    "    back_test = back_test.apply(lambda x: x * assets[0][1])\n",
    "    \n",
    "    for allocation in assets[1:]:\n",
    "        stock = allocation[0]\n",
    "        weight = allocation[1]\n",
    "        print(f'\\nTicker: {stock} \\tPortfolio Weight: {weight}')\n",
    "        \n",
    "        closing_data = closing_prices(stock).set_index(\"Date\")\n",
    "        pct_return = np.log(closing_data / closing_data.shift(1)).iloc[1:]\n",
    "        pct_return = pct_return.apply(lambda x: x * weight)\n",
    "        back_test = pd.merge(back_test, pct_return, on=\"Date\", how=\"inner\")\n",
    "        print(pct_return.head())\n",
    "        \n",
    "    back_test[\"RTNp\"] = back_test.sum(axis=1)\n",
    "    print(\"\\n[Historic] Portfolio Performance:\\n\", back_test.head())\n",
    "    \n",
    "    return back_test"
   ]
  },
  {
   "cell_type": "code",
   "execution_count": null,
   "metadata": {},
   "outputs": [],
   "source": [
    "historic_perform = backtest_portfolio_performance(pfolio=portfolio)"
   ]
  },
  {
   "cell_type": "code",
   "execution_count": null,
   "metadata": {},
   "outputs": [],
   "source": [
    "historic_perform.tail(10)"
   ]
  },
  {
   "cell_type": "code",
   "execution_count": null,
   "metadata": {},
   "outputs": [],
   "source": [
    "historic_perform.describe()"
   ]
  },
  {
   "cell_type": "code",
   "execution_count": null,
   "metadata": {
    "scrolled": true
   },
   "outputs": [],
   "source": [
    "x_min = dt.date(2014, 1, 1)\n",
    "x_max = dt.date(2018, 3, 27)\n",
    "\n",
    "historic_perform[\"RTNp\"].plot(alpha=0.75)\n",
    "plt.grid(axis=\"y\", linestyle=\"dashed\")\n",
    "plt.hlines(.02, x_min, x_max, color=\"red\", linestyle=\"dashed\")\n",
    "plt.hlines(-.02, x_min, x_max, color=\"red\", linestyle=\"dashed\")\n",
    "plt.show()"
   ]
  },
  {
   "cell_type": "code",
   "execution_count": null,
   "metadata": {},
   "outputs": [],
   "source": [
    "RTNp = historic_perform[\"RTNp\"]\n",
    "RTNp.head(10)"
   ]
  },
  {
   "cell_type": "code",
   "execution_count": null,
   "metadata": {},
   "outputs": [],
   "source": [
    "type(RTNp)"
   ]
  },
  {
   "cell_type": "code",
   "execution_count": null,
   "metadata": {},
   "outputs": [],
   "source": [
    "RTNp.map(lambda x: x + 1)\n",
    "RTNp.head()"
   ]
  },
  {
   "cell_type": "code",
   "execution_count": null,
   "metadata": {},
   "outputs": [],
   "source": []
  }
 ],
 "metadata": {
  "kernelspec": {
   "display_name": "Python 3",
   "language": "python",
   "name": "python3"
  },
  "language_info": {
   "codemirror_mode": {
    "name": "ipython",
    "version": 3
   },
   "file_extension": ".py",
   "mimetype": "text/x-python",
   "name": "python",
   "nbconvert_exporter": "python",
   "pygments_lexer": "ipython3",
   "version": "3.6.7"
  }
 },
 "nbformat": 4,
 "nbformat_minor": 2
}
