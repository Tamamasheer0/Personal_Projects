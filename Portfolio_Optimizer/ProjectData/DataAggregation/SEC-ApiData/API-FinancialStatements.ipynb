{
 "cells": [
  {
   "cell_type": "code",
   "execution_count": 1,
   "metadata": {},
   "outputs": [],
   "source": [
    "# Import Dependency Libraries\n",
    "import requests as req\n",
    "import pandas as pd\n",
    "import numpy as np\n",
    "import json\n",
    "\n",
    "from bs4 import BeautifulSoup as soup\n",
    "from datetime import datetime\n",
    "from config import sec_api_key"
   ]
  },
  {
   "cell_type": "markdown",
   "metadata": {},
   "source": [
    "<h3>SEC Edgar: Quick References</h3>\n",
    "\n",
    "<h4>API URI Example:</h4>\n",
    "[ Syntax ] {Protocol}://datafied.api.edgar-online.com/{Version}/{Endpoints}{Format}?{Parameters}appkey={API Key}\n",
    "\n",
    "    Protocol:  [ HTTP | HTTPS ]\n",
    "    Version:   [ v1 | v2 ]\n",
    "    Endpoints: [ corefinancials | insiders |]\n",
    "    Format:    [ JSON | XML ]\n",
    "    API Key:   \"eb5c9d9f7df6f14e3b523b587c793304\"\n",
    "\n",
    "<h4>API Concept Groups:</h4>\n",
    "    <ul>BS Consolidated - BalanceSheetConsolidated</ul>\n",
    "    <ul>IS Consolidated - IncomeStatementConsolidated</ul>\n",
    "    <ul>CF Consolidated - CashFlowStatementConsoidated</ul>\n",
    "    <ul>Valuation Ratios - ValuationRatiosMini</ul>\n",
    "    <ul>Profit Ratios - ProfitabilityRatiosMini</ul>\n",
    "    <ul>Leverage Ratios - LeverageRatiosMini</ul>\n",
    "    <ul>Liquidity Ratios - LiquidityRatiosMini</ul>\n",
    "    <ul>Metadata - Metadata</ul>\n",
    "    <ul>Metadata Free- MetadataFree</ul>\n",
    "    <ul>Financial Headers - FinancialHeaderData</ul>\n",
    "    <ul>Financial Ratios - FinancialRatioData</ul>\n",
    "\n",
    "\n",
    "<h4>Error Codes:</h4>\n",
    "    <ul>400 - Bad Request</ul>\n",
    "    <ul>403 - Forbidden (Failed Authentication)</ul>\n",
    "    <ul>503 - Service Unavailable</ul>\n",
    "    <ul>596 - Service Not Found (Resource Not Found)</ul>\n",
    "\n",
    "<h4>Limitations:</h4>\n",
    "    2 API Calls/Second\n",
    "    Maximum 5000 Calls/Day\n",
    "\n",
    "Documentation Resources:\n",
    "[ URL ] https://developer.edgar-online.com/docs"
   ]
  },
  {
   "cell_type": "code",
   "execution_count": 2,
   "metadata": {},
   "outputs": [],
   "source": [
    "# SEC Edgar - API Query Request String (Balance Sheet)\n",
    "\n",
    "def qry_balance_sheet(symbol):\n",
    "    # Define Query Parameters\n",
    "    baseuri = f\"https://datafied.api.edgar-online.com/v2/corefinancials/ann\"\n",
    "    symbol = f\"primarysymbols={symbol.upper()}\"\n",
    "    periods = \"numperiods=5\"\n",
    "    fields = \"fields=BalanceSheetConsolidated\"\n",
    "    appkey = f\"appkey={sec_api_key}\"\n",
    "    debug = f\"debug=true\"\n",
    "    \n",
    "    params = [symbol, periods, fields, appkey, debug]\n",
    "    queryuri = \"&\".join(params)\n",
    "    apiquery = f\"{baseuri}?{queryuri}\"\n",
    "    print(f\"\\n<API Query String> {apiquery}\\n\")\n",
    "    \n",
    "    return apiquery"
   ]
  },
  {
   "cell_type": "code",
   "execution_count": 3,
   "metadata": {},
   "outputs": [],
   "source": [
    "# SEC Edgar - API Query Request String (Income Statment)\n",
    "\n",
    "def qry_income_statement(symbol):\n",
    "    # Define Query Parameters\n",
    "    baseuri = f\"https://datafied.api.edgar-online.com/v2/corefinancials/ann\"\n",
    "    symbol = f\"primarysymbols={symbol.upper()}\"\n",
    "    periods = \"numperiods=5\"\n",
    "    fields = \"fields=IncomeStatementConsolidated\"\n",
    "    appkey = f\"appkey={sec_api_key}\"\n",
    "    debug = f\"debug=true\"\n",
    "    \n",
    "    params = [symbol, periods, fields, appkey, debug]\n",
    "    queryuri = \"&\".join(params)\n",
    "    apiquery = f\"{baseuri}?{queryuri}\"\n",
    "    print(f\"\\n<API Query String> {apiquery}\\n\")\n",
    "    \n",
    "    return apiquery"
   ]
  },
  {
   "cell_type": "code",
   "execution_count": 4,
   "metadata": {},
   "outputs": [],
   "source": [
    "# SEC Edgar - API Query Request String (Cash Flow Statement)\n",
    "\n",
    "def qry_cash_flow_statement(symbol):\n",
    "    # Define Query Parameters\n",
    "    baseuri = f\"https://datafied.api.edgar-online.com/v2/corefinancials/ann\"\n",
    "    symbol = f\"primarysymbols={symbol.upper()}\"\n",
    "    periods = \"numperiods=5\"\n",
    "    fields = \"fields=CashFlowStatementConsolidated\"\n",
    "    appkey = f\"appkey={sec_api_key}\"\n",
    "    debug = f\"debug=true\"\n",
    "    \n",
    "    params = [symbol, periods, fields, appkey, debug]\n",
    "    queryuri = \"&\".join(params)\n",
    "    apiquery = f\"{baseuri}?{queryuri}\"\n",
    "    print(f\"\\n<API Query String> {apiquery}\\n\")\n",
    "    \n",
    "    return apiquery"
   ]
  },
  {
   "cell_type": "code",
   "execution_count": 5,
   "metadata": {},
   "outputs": [
    {
     "name": "stdout",
     "output_type": "stream",
     "text": [
      "\n",
      "<API Query String> https://datafied.api.edgar-online.com/v2/corefinancials/ann?primarysymbols=AMZN&numperiods=5&fields=BalanceSheetConsolidated&appkey=eb5c9d9f7df6f14e3b523b587c793304&debug=true\n",
      "\n",
      "\n",
      "<API Query String> https://datafied.api.edgar-online.com/v2/corefinancials/ann?primarysymbols=AMZN&numperiods=5&fields=IncomeStatementConsolidated&appkey=eb5c9d9f7df6f14e3b523b587c793304&debug=true\n",
      "\n",
      "\n",
      "<API Query String> https://datafied.api.edgar-online.com/v2/corefinancials/ann?primarysymbols=AMZN&numperiods=5&fields=CashFlowStatementConsolidated&appkey=eb5c9d9f7df6f14e3b523b587c793304&debug=true\n",
      "\n"
     ]
    }
   ],
   "source": [
    "# [API Query] Balance Sheet\n",
    "qry_aapl_bs = qry_balance_sheet(\"amzn\")\n",
    "qry_aapl_is = qry_income_statement(\"amzn\")\n",
    "qry_aapl_cf = qry_cash_flow_statement(\"amzn\")"
   ]
  },
  {
   "cell_type": "code",
   "execution_count": 6,
   "metadata": {},
   "outputs": [
    {
     "name": "stdout",
     "output_type": "stream",
     "text": [
      "{\n",
      "  \"Message\": \"Application Key does not exist. Please contact contactsupport@edgar-online.com for support.\"\n",
      "}\n"
     ]
    }
   ],
   "source": [
    "# [Query API] Balance Sheet\n",
    "\n",
    "bs_response = req.get(qry_aapl_bs).json()\n",
    "print(json.dumps(bs_response, indent=2, sort_keys=True))"
   ]
  },
  {
   "cell_type": "code",
   "execution_count": 7,
   "metadata": {},
   "outputs": [
    {
     "name": "stdout",
     "output_type": "stream",
     "text": [
      "{\n",
      "  \"Message\": \"Application Key does not exist. Please contact contactsupport@edgar-online.com for support.\"\n",
      "}\n"
     ]
    }
   ],
   "source": [
    "# [Query API] Income Statement\n",
    "\n",
    "is_response = req.get(qry_aapl_is).json()\n",
    "print(json.dumps(is_response, indent=2, sort_keys=True))"
   ]
  },
  {
   "cell_type": "code",
   "execution_count": 8,
   "metadata": {},
   "outputs": [
    {
     "name": "stdout",
     "output_type": "stream",
     "text": [
      "{\n",
      "  \"Message\": \"Application Key does not exist. Please contact contactsupport@edgar-online.com for support.\"\n",
      "}\n"
     ]
    }
   ],
   "source": [
    "# [Query API] Cash Flow Statement\n",
    "\n",
    "cf_response = req.get(qry_aapl_cf).json()\n",
    "print(json.dumps(cf_response, indent=2, sort_keys=True))"
   ]
  },
  {
   "cell_type": "markdown",
   "metadata": {},
   "source": [
    "<h3>Explore API Response Data</h3>"
   ]
  },
  {
   "cell_type": "code",
   "execution_count": null,
   "metadata": {},
   "outputs": [],
   "source": [
    "# [API Response] Total Row Count (Selected # Periods)\n",
    "bs_response[\"result\"]['totalrows']"
   ]
  },
  {
   "cell_type": "code",
   "execution_count": null,
   "metadata": {
    "scrolled": true
   },
   "outputs": [],
   "source": [
    "# Each Row (Year): List of Dictionaries (BS Items)\n",
    "year_0 = bs_response[\"result\"][\"rows\"][0][\"values\"]\n"
   ]
  },
  {
   "cell_type": "code",
   "execution_count": null,
   "metadata": {},
   "outputs": [],
   "source": [
    "# Number of Balance Sheet Items\n",
    "print(f\"[Year_0] # of Balance Sheet Items: {len(year_0)}\")"
   ]
  },
  {
   "cell_type": "code",
   "execution_count": null,
   "metadata": {},
   "outputs": [],
   "source": [
    "# Balance Sheet Line Item Categories\n",
    "y0_bs_line_items = [bs[\"field\"] for bs in year_0]\n",
    "y0_bs_line_items"
   ]
  },
  {
   "cell_type": "code",
   "execution_count": null,
   "metadata": {},
   "outputs": [],
   "source": [
    "y0_bs_line_values = [bs[\"value\"] for bs in year_0]\n",
    "y0_bs_line_values"
   ]
  },
  {
   "cell_type": "code",
   "execution_count": null,
   "metadata": {},
   "outputs": [],
   "source": [
    "y0_bs_paired = {li:lv for li, lv in zip(y0_bs_line_items, y0_bs_line_values)}"
   ]
  },
  {
   "cell_type": "code",
   "execution_count": null,
   "metadata": {},
   "outputs": [],
   "source": [
    "# Convert Response BS Response to DataFrame\n",
    "bs = pd.DataFrame({\n",
    "    'bs_line_items': y0_bs_line_items,\n",
    "    '($)millions': y0_bs_line_values\n",
    "})\n",
    "\n",
    "bs.head(10)"
   ]
  },
  {
   "cell_type": "code",
   "execution_count": null,
   "metadata": {},
   "outputs": [],
   "source": [
    "# Preview Dataframe Column Data Types\n",
    "bs.dtypes"
   ]
  },
  {
   "cell_type": "code",
   "execution_count": null,
   "metadata": {},
   "outputs": [],
   "source": [
    "bs[\"($)millions\"] = bs[\"($)millions\"].apply(lambda x: \"${:,.2f} mm\".format(x/1000000))\n",
    "bs.head(10)"
   ]
  },
  {
   "cell_type": "code",
   "execution_count": null,
   "metadata": {},
   "outputs": [],
   "source": []
  },
  {
   "cell_type": "code",
   "execution_count": null,
   "metadata": {},
   "outputs": [],
   "source": []
  }
 ],
 "metadata": {
  "kernelspec": {
   "display_name": "Python 3",
   "language": "python",
   "name": "python3"
  },
  "language_info": {
   "codemirror_mode": {
    "name": "ipython",
    "version": 3
   },
   "file_extension": ".py",
   "mimetype": "text/x-python",
   "name": "python",
   "nbconvert_exporter": "python",
   "pygments_lexer": "ipython3",
   "version": "3.6.7"
  }
 },
 "nbformat": 4,
 "nbformat_minor": 2
}
